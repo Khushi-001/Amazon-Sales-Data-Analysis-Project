{
  "cells": [
    {
      "cell_type": "markdown",
      "metadata": {
        "id": "EDNc5C_u7EZQ"
      },
      "source": [
        "# **Project Amazon Sales Data Analysis**\n"
      ]
    },
    {
      "cell_type": "code",
      "execution_count": 108,
      "metadata": {
        "id": "9LEq5c7yKpgj"
      },
      "outputs": [],
      "source": [
        "import pandas as pd\n",
        "import numpy as np \n",
        "import matplotlib.pyplot as pyplot\n",
        "import seaborn as sns\n",
        "\n",
        "# %matplotlib inline is a command that enables Matplotlib plots to be displayed inline in Jupyter Notebook, instead of opening a separate window.\n",
        "%matplotlib inline \n",
        "\n",
        "#  Using the pd.read_csv() function to read in a CSV file named \"Amazon Sales Records.csv\" and stores the data in a Pandas DataFrame named data. The encoding parameter is set to 'latin-1', which specifies the character encoding used in the CSV file.\n",
        "data = pd.read_csv(\"Amazon Sales data.csv\")"
      ]
    },
    {
      "cell_type": "code",
      "execution_count": 57,
      "metadata": {
        "colab": {
          "base_uri": "https://localhost:8080/",
          "height": 1068
        },
        "id": "RUZncuxCaXlS",
        "outputId": "fe26f2e5-0347-485e-9c5c-bf2d76700ee5"
      },
      "outputs": [
        {
          "data": {
            "text/html": [
              "<div>\n",
              "<style scoped>\n",
              "    .dataframe tbody tr th:only-of-type {\n",
              "        vertical-align: middle;\n",
              "    }\n",
              "\n",
              "    .dataframe tbody tr th {\n",
              "        vertical-align: top;\n",
              "    }\n",
              "\n",
              "    .dataframe thead th {\n",
              "        text-align: right;\n",
              "    }\n",
              "</style>\n",
              "<table border=\"1\" class=\"dataframe\">\n",
              "  <thead>\n",
              "    <tr style=\"text-align: right;\">\n",
              "      <th></th>\n",
              "      <th>Region</th>\n",
              "      <th>Country</th>\n",
              "      <th>Item Type</th>\n",
              "      <th>Sales Channel</th>\n",
              "      <th>Order Priority</th>\n",
              "      <th>Order Date</th>\n",
              "      <th>Order ID</th>\n",
              "      <th>Ship Date</th>\n",
              "      <th>Units Sold</th>\n",
              "      <th>Unit Price</th>\n",
              "      <th>Unit Cost</th>\n",
              "      <th>Total Revenue</th>\n",
              "      <th>Total Cost</th>\n",
              "      <th>Total Profit</th>\n",
              "    </tr>\n",
              "  </thead>\n",
              "  <tbody>\n",
              "    <tr>\n",
              "      <th>0</th>\n",
              "      <td>Australia and Oceania</td>\n",
              "      <td>Tuvalu</td>\n",
              "      <td>Baby Food</td>\n",
              "      <td>Offline</td>\n",
              "      <td>H</td>\n",
              "      <td>5/28/2010</td>\n",
              "      <td>669165933</td>\n",
              "      <td>6/27/2010</td>\n",
              "      <td>9925</td>\n",
              "      <td>255.28</td>\n",
              "      <td>159.42</td>\n",
              "      <td>2533654.00</td>\n",
              "      <td>1582243.50</td>\n",
              "      <td>951410.50</td>\n",
              "    </tr>\n",
              "    <tr>\n",
              "      <th>1</th>\n",
              "      <td>Central America and the Caribbean</td>\n",
              "      <td>Grenada</td>\n",
              "      <td>Cereal</td>\n",
              "      <td>Online</td>\n",
              "      <td>C</td>\n",
              "      <td>8/22/2012</td>\n",
              "      <td>963881480</td>\n",
              "      <td>9/15/2012</td>\n",
              "      <td>2804</td>\n",
              "      <td>205.70</td>\n",
              "      <td>117.11</td>\n",
              "      <td>576782.80</td>\n",
              "      <td>328376.44</td>\n",
              "      <td>248406.36</td>\n",
              "    </tr>\n",
              "    <tr>\n",
              "      <th>2</th>\n",
              "      <td>Europe</td>\n",
              "      <td>Russia</td>\n",
              "      <td>Office Supplies</td>\n",
              "      <td>Offline</td>\n",
              "      <td>L</td>\n",
              "      <td>5/2/2014</td>\n",
              "      <td>341417157</td>\n",
              "      <td>5/8/2014</td>\n",
              "      <td>1779</td>\n",
              "      <td>651.21</td>\n",
              "      <td>524.96</td>\n",
              "      <td>1158502.59</td>\n",
              "      <td>933903.84</td>\n",
              "      <td>224598.75</td>\n",
              "    </tr>\n",
              "    <tr>\n",
              "      <th>3</th>\n",
              "      <td>Sub-Saharan Africa</td>\n",
              "      <td>Sao Tome and Principe</td>\n",
              "      <td>Fruits</td>\n",
              "      <td>Online</td>\n",
              "      <td>C</td>\n",
              "      <td>6/20/2014</td>\n",
              "      <td>514321792</td>\n",
              "      <td>7/5/2014</td>\n",
              "      <td>8102</td>\n",
              "      <td>9.33</td>\n",
              "      <td>6.92</td>\n",
              "      <td>75591.66</td>\n",
              "      <td>56065.84</td>\n",
              "      <td>19525.82</td>\n",
              "    </tr>\n",
              "    <tr>\n",
              "      <th>4</th>\n",
              "      <td>Sub-Saharan Africa</td>\n",
              "      <td>Rwanda</td>\n",
              "      <td>Office Supplies</td>\n",
              "      <td>Offline</td>\n",
              "      <td>L</td>\n",
              "      <td>2/1/2013</td>\n",
              "      <td>115456712</td>\n",
              "      <td>2/6/2013</td>\n",
              "      <td>5062</td>\n",
              "      <td>651.21</td>\n",
              "      <td>524.96</td>\n",
              "      <td>3296425.02</td>\n",
              "      <td>2657347.52</td>\n",
              "      <td>639077.50</td>\n",
              "    </tr>\n",
              "  </tbody>\n",
              "</table>\n",
              "</div>"
            ],
            "text/plain": [
              "                              Region                Country        Item Type  \\\n",
              "0              Australia and Oceania                 Tuvalu        Baby Food   \n",
              "1  Central America and the Caribbean                Grenada           Cereal   \n",
              "2                             Europe                 Russia  Office Supplies   \n",
              "3                 Sub-Saharan Africa  Sao Tome and Principe           Fruits   \n",
              "4                 Sub-Saharan Africa                 Rwanda  Office Supplies   \n",
              "\n",
              "  Sales Channel Order Priority Order Date   Order ID  Ship Date  Units Sold  \\\n",
              "0       Offline              H  5/28/2010  669165933  6/27/2010        9925   \n",
              "1        Online              C  8/22/2012  963881480  9/15/2012        2804   \n",
              "2       Offline              L   5/2/2014  341417157   5/8/2014        1779   \n",
              "3        Online              C  6/20/2014  514321792   7/5/2014        8102   \n",
              "4       Offline              L   2/1/2013  115456712   2/6/2013        5062   \n",
              "\n",
              "   Unit Price  Unit Cost  Total Revenue  Total Cost  Total Profit  \n",
              "0      255.28     159.42     2533654.00  1582243.50     951410.50  \n",
              "1      205.70     117.11      576782.80   328376.44     248406.36  \n",
              "2      651.21     524.96     1158502.59   933903.84     224598.75  \n",
              "3        9.33       6.92       75591.66    56065.84      19525.82  \n",
              "4      651.21     524.96     3296425.02  2657347.52     639077.50  "
            ]
          },
          "execution_count": 57,
          "metadata": {},
          "output_type": "execute_result"
        }
      ],
      "source": [
        "# Show dataframe\n",
        "data.head()"
      ]
    },
    {
      "cell_type": "code",
      "execution_count": 58,
      "metadata": {
        "colab": {
          "base_uri": "https://localhost:8080/"
        },
        "id": "HjK974eCoXCI",
        "outputId": "cc673a72-99fc-47c3-fc75-9bf4359aa368"
      },
      "outputs": [
        {
          "data": {
            "text/plain": [
              "Index(['Region', 'Country', 'Item Type', 'Sales Channel', 'Order Priority',\n",
              "       'Order Date', 'Order ID', 'Ship Date', 'Units Sold', 'Unit Price',\n",
              "       'Unit Cost', 'Total Revenue', 'Total Cost', 'Total Profit'],\n",
              "      dtype='object')"
            ]
          },
          "execution_count": 58,
          "metadata": {},
          "output_type": "execute_result"
        }
      ],
      "source": [
        "# Show columns present in dataframe \n",
        "data.columns"
      ]
    },
    {
      "cell_type": "code",
      "execution_count": 59,
      "metadata": {
        "colab": {
          "base_uri": "https://localhost:8080/"
        },
        "id": "1wBaJS26ai4j",
        "outputId": "c188e4bb-b04d-47e3-edca-85861072e264"
      },
      "outputs": [
        {
          "name": "stdout",
          "output_type": "stream",
          "text": [
            "<class 'pandas.core.frame.DataFrame'>\n",
            "RangeIndex: 100 entries, 0 to 99\n",
            "Data columns (total 14 columns):\n",
            " #   Column          Non-Null Count  Dtype  \n",
            "---  ------          --------------  -----  \n",
            " 0   Region          100 non-null    object \n",
            " 1   Country         100 non-null    object \n",
            " 2   Item Type       100 non-null    object \n",
            " 3   Sales Channel   100 non-null    object \n",
            " 4   Order Priority  100 non-null    object \n",
            " 5   Order Date      100 non-null    object \n",
            " 6   Order ID        100 non-null    int64  \n",
            " 7   Ship Date       100 non-null    object \n",
            " 8   Units Sold      100 non-null    int64  \n",
            " 9   Unit Price      100 non-null    float64\n",
            " 10  Unit Cost       100 non-null    float64\n",
            " 11  Total Revenue   100 non-null    float64\n",
            " 12  Total Cost      100 non-null    float64\n",
            " 13  Total Profit    100 non-null    float64\n",
            "dtypes: float64(5), int64(2), object(7)\n",
            "memory usage: 11.1+ KB\n"
          ]
        }
      ],
      "source": [
        "# Show basic information of dataframe like null value count of each column and their data type \n",
        "data.info()"
      ]
    },
    {
      "cell_type": "code",
      "execution_count": 60,
      "metadata": {
        "id": "Ic0Ko5sVatqP"
      },
      "outputs": [],
      "source": [
        "# Changing the data type of different column for model training and analysis \n",
        "data['Order Date'] = pd.to_datetime(data['Order Date'])\n",
        "data['Ship Date'] = pd.to_datetime(data['Ship Date'])"
      ]
    },
    {
      "cell_type": "code",
      "execution_count": 61,
      "metadata": {
        "id": "KuS91EDIcg5f"
      },
      "outputs": [],
      "source": [
        "data['Region'] = data['Region'].astype(str)\n",
        "data['Country'] = data['Country'].astype(str)\n",
        "data['Item Type'] = data['Item Type'].astype(str)\n",
        "data['Sales Channel'] = data['Sales Channel'].astype(str)\n",
        "data['Order Priority'] = data['Order Priority'].astype(str)"
      ]
    },
    {
      "cell_type": "code",
      "execution_count": 62,
      "metadata": {
        "colab": {
          "base_uri": "https://localhost:8080/",
          "height": 349
        },
        "id": "qDVfcvQ1goP5",
        "outputId": "8be0feb6-743e-4ef0-f597-0c6060c6da77"
      },
      "outputs": [
        {
          "data": {
            "text/html": [
              "<div>\n",
              "<style scoped>\n",
              "    .dataframe tbody tr th:only-of-type {\n",
              "        vertical-align: middle;\n",
              "    }\n",
              "\n",
              "    .dataframe tbody tr th {\n",
              "        vertical-align: top;\n",
              "    }\n",
              "\n",
              "    .dataframe thead th {\n",
              "        text-align: right;\n",
              "    }\n",
              "</style>\n",
              "<table border=\"1\" class=\"dataframe\">\n",
              "  <thead>\n",
              "    <tr style=\"text-align: right;\">\n",
              "      <th></th>\n",
              "      <th>Units Sold</th>\n",
              "      <th>Unit Price</th>\n",
              "      <th>Unit Cost</th>\n",
              "      <th>Total Revenue</th>\n",
              "      <th>Total Cost</th>\n",
              "      <th>Total Profit</th>\n",
              "    </tr>\n",
              "  </thead>\n",
              "  <tbody>\n",
              "    <tr>\n",
              "      <th>count</th>\n",
              "      <td>100.000000</td>\n",
              "      <td>100.000000</td>\n",
              "      <td>100.000000</td>\n",
              "      <td>1.000000e+02</td>\n",
              "      <td>1.000000e+02</td>\n",
              "      <td>1.000000e+02</td>\n",
              "    </tr>\n",
              "    <tr>\n",
              "      <th>mean</th>\n",
              "      <td>5128.710000</td>\n",
              "      <td>276.761300</td>\n",
              "      <td>191.048000</td>\n",
              "      <td>1.373488e+06</td>\n",
              "      <td>9.318057e+05</td>\n",
              "      <td>4.416820e+05</td>\n",
              "    </tr>\n",
              "    <tr>\n",
              "      <th>std</th>\n",
              "      <td>2794.484562</td>\n",
              "      <td>235.592241</td>\n",
              "      <td>188.208181</td>\n",
              "      <td>1.460029e+06</td>\n",
              "      <td>1.083938e+06</td>\n",
              "      <td>4.385379e+05</td>\n",
              "    </tr>\n",
              "    <tr>\n",
              "      <th>min</th>\n",
              "      <td>124.000000</td>\n",
              "      <td>9.330000</td>\n",
              "      <td>6.920000</td>\n",
              "      <td>4.870260e+03</td>\n",
              "      <td>3.612240e+03</td>\n",
              "      <td>1.258020e+03</td>\n",
              "    </tr>\n",
              "    <tr>\n",
              "      <th>25%</th>\n",
              "      <td>2836.250000</td>\n",
              "      <td>81.730000</td>\n",
              "      <td>35.840000</td>\n",
              "      <td>2.687212e+05</td>\n",
              "      <td>1.688680e+05</td>\n",
              "      <td>1.214436e+05</td>\n",
              "    </tr>\n",
              "    <tr>\n",
              "      <th>50%</th>\n",
              "      <td>5382.500000</td>\n",
              "      <td>179.880000</td>\n",
              "      <td>107.275000</td>\n",
              "      <td>7.523144e+05</td>\n",
              "      <td>3.635664e+05</td>\n",
              "      <td>2.907680e+05</td>\n",
              "    </tr>\n",
              "    <tr>\n",
              "      <th>75%</th>\n",
              "      <td>7369.000000</td>\n",
              "      <td>437.200000</td>\n",
              "      <td>263.330000</td>\n",
              "      <td>2.212045e+06</td>\n",
              "      <td>1.613870e+06</td>\n",
              "      <td>6.358288e+05</td>\n",
              "    </tr>\n",
              "    <tr>\n",
              "      <th>max</th>\n",
              "      <td>9925.000000</td>\n",
              "      <td>668.270000</td>\n",
              "      <td>524.960000</td>\n",
              "      <td>5.997055e+06</td>\n",
              "      <td>4.509794e+06</td>\n",
              "      <td>1.719922e+06</td>\n",
              "    </tr>\n",
              "  </tbody>\n",
              "</table>\n",
              "</div>"
            ],
            "text/plain": [
              "        Units Sold  Unit Price   Unit Cost  Total Revenue    Total Cost  \\\n",
              "count   100.000000  100.000000  100.000000   1.000000e+02  1.000000e+02   \n",
              "mean   5128.710000  276.761300  191.048000   1.373488e+06  9.318057e+05   \n",
              "std    2794.484562  235.592241  188.208181   1.460029e+06  1.083938e+06   \n",
              "min     124.000000    9.330000    6.920000   4.870260e+03  3.612240e+03   \n",
              "25%    2836.250000   81.730000   35.840000   2.687212e+05  1.688680e+05   \n",
              "50%    5382.500000  179.880000  107.275000   7.523144e+05  3.635664e+05   \n",
              "75%    7369.000000  437.200000  263.330000   2.212045e+06  1.613870e+06   \n",
              "max    9925.000000  668.270000  524.960000   5.997055e+06  4.509794e+06   \n",
              "\n",
              "       Total Profit  \n",
              "count  1.000000e+02  \n",
              "mean   4.416820e+05  \n",
              "std    4.385379e+05  \n",
              "min    1.258020e+03  \n",
              "25%    1.214436e+05  \n",
              "50%    2.907680e+05  \n",
              "75%    6.358288e+05  \n",
              "max    1.719922e+06  "
            ]
          },
          "execution_count": 62,
          "metadata": {},
          "output_type": "execute_result"
        }
      ],
      "source": [
        "# Using describe function on dataframe for getting basic stats of numerical dataset \n",
        "data[['Units Sold', 'Unit Price',\t'Unit Cost', 'Total Revenue', 'Total Cost',\t'Total Profit']].describe()"
      ]
    },
    {
      "cell_type": "code",
      "execution_count": 63,
      "metadata": {
        "id": "KagBc9vvuR7s"
      },
      "outputs": [],
      "source": [
        "# Adding extra column to dataframe which contain only month, year and month with year \n",
        "data['Order Month'] = data['Order Date'].dt.month\n",
        "data['Order Year'] = data['Order Date'].dt.year\n",
        "data['Order Date MonthYear'] = data['Order Date'].dt.strftime('%Y-%m')\n",
        "data = data.drop(columns=['Order Date'])"
      ]
    },
    {
      "cell_type": "code",
      "execution_count": 64,
      "metadata": {
        "id": "FBau7Q4apSGK"
      },
      "outputs": [],
      "source": [
        "# Saving the data dataframe to df \n",
        "df = data"
      ]
    },
    {
      "cell_type": "code",
      "execution_count": 65,
      "metadata": {
        "colab": {
          "base_uri": "https://localhost:8080/"
        },
        "id": "h7ose3zKpTjU",
        "outputId": "c5d90477-a388-4d43-825b-61e28f2bae49"
      },
      "outputs": [
        {
          "data": {
            "text/plain": [
              "Region                  0\n",
              "Country                 0\n",
              "Item Type               0\n",
              "Sales Channel           0\n",
              "Order Priority          0\n",
              "Order ID                0\n",
              "Ship Date               0\n",
              "Units Sold              0\n",
              "Unit Price              0\n",
              "Unit Cost               0\n",
              "Total Revenue           0\n",
              "Total Cost              0\n",
              "Total Profit            0\n",
              "Order Month             0\n",
              "Order Year              0\n",
              "Order Date MonthYear    0\n",
              "dtype: int64"
            ]
          },
          "execution_count": 65,
          "metadata": {},
          "output_type": "execute_result"
        }
      ],
      "source": [
        "# Checking out total null value in the all the column of dataframe \n",
        "df.isnull().sum()"
      ]
    },
    {
      "cell_type": "code",
      "execution_count": 66,
      "metadata": {
        "colab": {
          "base_uri": "https://localhost:8080/"
        },
        "id": "MxILy8ohpUIq",
        "outputId": "ef8dab82-5568-454f-b71c-8cc3da504217"
      },
      "outputs": [
        {
          "data": {
            "text/plain": [
              "The Gambia                          4\n",
              "Sierra Leone                        3\n",
              "Sao Tome and Principe               3\n",
              "Mexico                              3\n",
              "Australia                           3\n",
              "Djibouti                            3\n",
              "Switzerland                         2\n",
              "Myanmar                             2\n",
              "Norway                              2\n",
              "Turkmenistan                        2\n",
              "Cameroon                            2\n",
              "Bulgaria                            2\n",
              "Honduras                            2\n",
              "Azerbaijan                          2\n",
              "Libya                               2\n",
              "Rwanda                              2\n",
              "Mali                                2\n",
              "Gabon                               1\n",
              "Belize                              1\n",
              "Haiti                               1\n",
              "Lithuania                           1\n",
              "San Marino                          1\n",
              "United Kingdom                      1\n",
              "Austria                             1\n",
              "Fiji                                1\n",
              "Madagascar                          1\n",
              "Cote d'Ivoire                       1\n",
              "Tuvalu                              1\n",
              "Democratic Republic of the Congo    1\n",
              "Zambia                              1\n",
              "Malaysia                            1\n",
              "Nicaragua                           1\n",
              "Romania                             1\n",
              "Slovenia                            1\n",
              "Kuwait                              1\n",
              "Kenya                               1\n",
              "Iran                                1\n",
              "Pakistan                            1\n",
              "Lebanon                             1\n",
              "Spain                               1\n",
              "Samoa                               1\n",
              "Monaco                              1\n",
              "Laos                                1\n",
              "Saudi Arabia                        1\n",
              "Federated States of Micronesia      1\n",
              "Slovakia                            1\n",
              "Lesotho                             1\n",
              "Albania                             1\n",
              "Russia                              1\n",
              "Solomon Islands                     1\n",
              "Angola                              1\n",
              "Burkina Faso                        1\n",
              "Republic of the Congo               1\n",
              "Senegal                             1\n",
              "Kyrgyzstan                          1\n",
              "Cape Verde                          1\n",
              "Bangladesh                          1\n",
              "Mongolia                            1\n",
              "Sri Lanka                           1\n",
              "East Timor                          1\n",
              "Portugal                            1\n",
              "New Zealand                         1\n",
              "Moldova                             1\n",
              "France                              1\n",
              "Kiribati                            1\n",
              "South Sudan                         1\n",
              "Costa Rica                          1\n",
              "Syria                               1\n",
              "Brunei                              1\n",
              "Niger                               1\n",
              "Grenada                             1\n",
              "Comoros                             1\n",
              "Iceland                             1\n",
              "Macedonia                           1\n",
              "Mauritania                          1\n",
              "Mozambique                          1\n",
              "Name: Country, dtype: int64"
            ]
          },
          "execution_count": 66,
          "metadata": {},
          "output_type": "execute_result"
        }
      ],
      "source": [
        "# Display total values of all country \n",
        "pd.set_option('display.max_rows', None)\n",
        "df['Country'].value_counts()"
      ]
    },
    {
      "cell_type": "code",
      "execution_count": 67,
      "metadata": {
        "colab": {
          "base_uri": "https://localhost:8080/",
          "height": 520
        },
        "id": "BTM5BD72pjef",
        "outputId": "1a8316f7-e530-4e9d-a392-0fff18ff4b89"
      },
      "outputs": [
        {
          "data": {
            "image/png": "[encoded data removed]",
            "text/plain": [
              "<Figure size 900x900 with 1 Axes>"
            ]
          },
          "metadata": {},
          "output_type": "display_data"
        }
      ],
      "source": [
        "import matplotlib.pyplot as plt \n",
        "country_names = df.Country.value_counts().index\n",
        "country_val = df.Country.value_counts().values\n",
        "# Pie Chart for top 20 country\n",
        "fig,ax = plt.subplots(figsize=(9,9))\n",
        "ax.pie(country_val[:20],labels=country_names[:20],autopct='%1.2f%%')\n",
        "plt.show()"
      ]
    },
    {
      "cell_type": "markdown",
      "metadata": {
        "id": "325ly2VJ8u03"
      },
      "source": [
        "# Exploratory Data Analysis "
      ]
    },
    {
      "cell_type": "code",
      "execution_count": 68,
      "metadata": {
        "colab": {
          "base_uri": "https://localhost:8080/",
          "height": 196
        },
        "id": "APy1oNEWqUZr",
        "outputId": "82633c67-4fc5-4396-9a2d-09c7e55a7a39"
      },
      "outputs": [
        {
          "data": {
            "image/png": "[encoded data removed]",
            "text/plain": [
              "<Figure size 1000x200 with 1 Axes>"
            ]
          },
          "metadata": {},
          "output_type": "display_data"
        }
      ],
      "source": [
        "\n",
        "sns.set(style='white')\n",
        "fig, ax = plt.subplots(figsize=(10, 2))\n",
        "sns.boxplot(data['Total Profit'], color=\"plum\", width=.6)\n",
        "\n",
        "plt.title('Total Profit Boxplot', fontsize=13)\n",
        "plt.xlabel('Profit')\n",
        "plt.show()"
      ]
    },
    {
      "cell_type": "markdown",
      "metadata": {
        "id": "3KiSoj5LBc64"
      },
      "source": [
        "Box Plot of Total Cost "
      ]
    },
    {
      "cell_type": "code",
      "execution_count": 69,
      "metadata": {
        "colab": {
          "base_uri": "https://localhost:8080/",
          "height": 196
        },
        "id": "SnX55zF2BStZ",
        "outputId": "3c5d79fd-c285-40b2-dbf2-e1042d984789"
      },
      "outputs": [
        {
          "data": {
            "image/png": "[encoded data removed]",
            "text/plain": [
              "<Figure size 1000x200 with 1 Axes>"
            ]
          },
          "metadata": {},
          "output_type": "display_data"
        }
      ],
      "source": [
        "sns.set(style='white')\n",
        "fig, ax = plt.subplots(figsize=(10, 2))\n",
        "sns.boxplot(data['Total Cost'], color=\"plum\", width=.6)\n",
        "\n",
        "plt.title('Total Cost Boxplot', fontsize=13)\n",
        "plt.xlabel('Cost')\n",
        "plt.show()"
      ]
    },
    {
      "cell_type": "markdown",
      "metadata": {
        "id": "gcGsBanCB2cf"
      },
      "source": [
        "Box Plot of Total Revenue"
      ]
    },
    {
      "cell_type": "code",
      "execution_count": 70,
      "metadata": {
        "colab": {
          "base_uri": "https://localhost:8080/",
          "height": 196
        },
        "id": "2hRDqmIJBTJV",
        "outputId": "f630efbf-1ca5-4882-b4b5-b4a16e8445b9"
      },
      "outputs": [
        {
          "data": {
            "image/png": "[encoded data removed]",
            "text/plain": [
              "<Figure size 1000x200 with 1 Axes>"
            ]
          },
          "metadata": {},
          "output_type": "display_data"
        }
      ],
      "source": [
        "sns.set(style='white')\n",
        "fig, ax = plt.subplots(figsize=(10, 2))\n",
        "sns.boxplot(data['Total Revenue'], color=\"plum\", width=.6)\n",
        "\n",
        "plt.title('Total Revenue Boxplot', fontsize=13)\n",
        "plt.xlabel('Revenue')\n",
        "plt.show()"
      ]
    },
    {
      "cell_type": "markdown",
      "metadata": {
        "id": "7zEnn6V4CnpN"
      },
      "source": [
        "Box Plot of Unit Cost "
      ]
    },
    {
      "cell_type": "code",
      "execution_count": 71,
      "metadata": {
        "colab": {
          "base_uri": "https://localhost:8080/",
          "height": 196
        },
        "id": "KNzzHvTRBTL3",
        "outputId": "a9bacaaa-26dc-493d-9b1b-cfa7b0df535b"
      },
      "outputs": [
        {
          "data": {
            "image/png": "[encoded data removed]",
            "text/plain": [
              "<Figure size 1000x200 with 1 Axes>"
            ]
          },
          "metadata": {},
          "output_type": "display_data"
        }
      ],
      "source": [
        "sns.set(style='white')\n",
        "fig, ax = plt.subplots(figsize=(10, 2))\n",
        "sns.boxplot(data['Unit Cost'], color=\"plum\", width=.6)\n",
        "plt.title('Unit Cost Boxplot', fontsize=13)\n",
        "plt.xlabel('Unit Cost')\n",
        "plt.show()"
      ]
    },
    {
      "cell_type": "markdown",
      "metadata": {
        "id": "klynGJt3Cxwd"
      },
      "source": [
        "Box Plot of Unit Price"
      ]
    },
    {
      "cell_type": "code",
      "execution_count": 72,
      "metadata": {
        "colab": {
          "base_uri": "https://localhost:8080/",
          "height": 196
        },
        "id": "wwqvfNYVCk78",
        "outputId": "feee3947-ddd2-4f39-fbf2-eb33b35d60d1"
      },
      "outputs": [
        {
          "data": {
            "image/png": "[encoded data removed]",
            "text/plain": [
              "<Figure size 1000x200 with 1 Axes>"
            ]
          },
          "metadata": {},
          "output_type": "display_data"
        }
      ],
      "source": [
        "sns.set(style='white')\n",
        "fig, ax = plt.subplots(figsize=(10, 2))\n",
        "sns.boxplot(data['Unit Price'], color=\"plum\", width=.6)\n",
        "plt.title('Unit Price Boxplot', fontsize=13)\n",
        "plt.xlabel('Unit Price')\n",
        "plt.show()"
      ]
    },
    {
      "cell_type": "markdown",
      "metadata": {
        "id": "JTZ-jgHVC68h"
      },
      "source": [
        "Box Plot of Unit Sold "
      ]
    },
    {
      "cell_type": "code",
      "execution_count": 73,
      "metadata": {
        "colab": {
          "base_uri": "https://localhost:8080/",
          "height": 196
        },
        "id": "-bnOBSXPC6kn",
        "outputId": "19b38fd0-8154-4e11-b4f1-0433b3a531fe"
      },
      "outputs": [
        {
          "data": {
            "image/png": "[encoded data removed]",
            "text/plain": [
              "<Figure size 1000x200 with 1 Axes>"
            ]
          },
          "metadata": {},
          "output_type": "display_data"
        }
      ],
      "source": [
        "sns.set(style='white')\n",
        "fig, ax = plt.subplots(figsize=(10, 2))\n",
        "sns.boxplot(data['Units Sold'], color=\"plum\", width=.6)\n",
        "\n",
        "plt.title('Units Sold Boxplot', fontsize=13)\n",
        "plt.xlabel('Units Sold')\n",
        "plt.show()"
      ]
    },
    {
      "cell_type": "code",
      "execution_count": 74,
      "metadata": {
        "colab": {
          "base_uri": "https://localhost:8080/",
          "height": 304
        },
        "id": "2HIYvc5CpkE2",
        "outputId": "336971b8-5cd9-40c9-ace4-3bb8f927155d"
      },
      "outputs": [
        {
          "data": {
            "image/png": "[encoded data removed]",
            "text/plain": [
              "<Figure size 800x550 with 1 Axes>"
            ]
          },
          "metadata": {},
          "output_type": "display_data"
        }
      ],
      "source": [
        "# Creating a bar chart for Total Revenue and Order Month \n",
        "plt.bar(df['Order Month'], df['Total Revenue'])\n",
        "\n",
        "# Set the chart title and axis labels\n",
        "plt.title('Number of Orders Purchased by Month and Year')\n",
        "plt.xticks([1,2,3,4,5,6,7,8,9,10,11,12])\n",
        "plt.xlabel('Order Month')\n",
        "plt.ylabel('Total Revenue')\n",
        "\n",
        "\n",
        "# Display the chart\n",
        "plt.show()"
      ]
    },
    {
      "cell_type": "code",
      "execution_count": 75,
      "metadata": {
        "colab": {
          "base_uri": "https://localhost:8080/",
          "height": 321
        },
        "id": "ssUfDsCjAn38",
        "outputId": "38d8eb47-d592-435d-c299-638c88a12dc2"
      },
      "outputs": [
        {
          "data": {
            "text/plain": [
              "Text(0.5, 1.0, 'Profit per year')"
            ]
          },
          "execution_count": 75,
          "metadata": {},
          "output_type": "execute_result"
        },
        {
          "data": {
            "image/png": "[encoded data removed]",
            "text/plain": [
              "<Figure size 800x550 with 1 Axes>"
            ]
          },
          "metadata": {},
          "output_type": "display_data"
        }
      ],
      "source": [
        "# Plot line graph of Total Profit and Order Year\n",
        "df.groupby('Order Year')['Total Profit'].mean().plot()\n",
        "plt.xlabel('Order Year')\n",
        "plt.ylabel('Total Profit')\n",
        "plt.title('Profit per year')"
      ]
    },
    {
      "cell_type": "code",
      "execution_count": 76,
      "metadata": {
        "colab": {
          "base_uri": "https://localhost:8080/"
        },
        "id": "IJgmJvrvpVn2",
        "outputId": "903c4a57-4351-4c2a-cb60-05f419f64ae5"
      },
      "outputs": [
        {
          "data": {
            "text/plain": [
              "Item Type\n",
              "Cosmetics          36601509.60\n",
              "Office Supplies    30585380.07\n",
              "Household          29889712.29\n",
              "Baby Food          10350327.60\n",
              "Clothes             7787292.80\n",
              "Cereal              5322898.90\n",
              "Meat                4503675.75\n",
              "Personal Care       3980904.84\n",
              "Vegetables          3089057.06\n",
              "Beverages           2690794.60\n",
              "Snacks              2080733.46\n",
              "Fruits               466481.34\n",
              "Name: Total Revenue, dtype: float64"
            ]
          },
          "execution_count": 76,
          "metadata": {},
          "output_type": "execute_result"
        }
      ],
      "source": [
        "# Calculating the total revenue for each group with respect to Item Type and then sorting then in descending order\n",
        "revenue_by_category = df.groupby('Item Type')['Total Revenue'].sum().sort_values(ascending=False)\n",
        "revenue_by_category"
      ]
    },
    {
      "cell_type": "code",
      "execution_count": 77,
      "metadata": {
        "colab": {
          "base_uri": "https://localhost:8080/"
        },
        "id": "m9N4b885pWHE",
        "outputId": "8758a4a9-338c-4e48-bd2e-1107a243c7ae"
      },
      "outputs": [
        {
          "data": {
            "text/plain": [
              "Item Type\n",
              "Cosmetics          14556048.66\n",
              "Household           7412605.71\n",
              "Office Supplies     5929583.75\n",
              "Clothes             5233334.40\n",
              "Baby Food           3886643.70\n",
              "Cereal              2292443.43\n",
              "Vegetables          1265819.63\n",
              "Personal Care       1220622.48\n",
              "Beverages            888047.28\n",
              "Snacks               751944.18\n",
              "Meat                 610610.00\n",
              "Fruits               120495.18\n",
              "Name: Total Profit, dtype: float64"
            ]
          },
          "execution_count": 77,
          "metadata": {},
          "output_type": "execute_result"
        }
      ],
      "source": [
        "# Calculating the total profit for each group with respect to Item Type and then sorting then in descending order\n",
        "profit_by_category = df.groupby('Item Type')['Total Profit'].sum().sort_values(ascending=False)\n",
        "profit_by_category"
      ]
    },
    {
      "cell_type": "code",
      "execution_count": 78,
      "metadata": {
        "colab": {
          "base_uri": "https://localhost:8080/"
        },
        "id": "dmuiM2DGoSUr",
        "outputId": "85cb1a52-f4fa-41f2-ec98-1b40b1307f80"
      },
      "outputs": [
        {
          "name": "stdout",
          "output_type": "stream",
          "text": [
            "               Total Revenue  Total Cost  Total Profit\n",
            "Total Revenue       1.000000    0.983928      0.897327\n",
            "Total Cost          0.983928    1.000000      0.804091\n",
            "Total Profit        0.897327    0.804091      1.000000\n"
          ]
        }
      ],
      "source": [
        "# Calculating correlation of 'Total Revenue', 'Total Cost' and 'Total Profit' columns present in dataframe\n",
        "print(df[['Total Revenue', 'Total Cost', 'Total Profit']].corr())"
      ]
    },
    {
      "cell_type": "markdown",
      "metadata": {
        "id": "DfF4yNVDPkbt"
      },
      "source": [
        "## Predictive Analytics "
      ]
    },
    {
      "cell_type": "code",
      "execution_count": 79,
      "metadata": {
        "id": "lwgGASIwF1fP"
      },
      "outputs": [],
      "source": [
        "# Label Encoding of Item Type, Sales Channel and Order Priority for model training \n",
        "from sklearn.preprocessing import LabelEncoder \n",
        "le = LabelEncoder()\n",
        "df[\"Item Type\"] = le.fit_transform(df[\"Item Type\"])\n",
        "df[\"Sales Channel\"] = le.fit_transform(df[\"Sales Channel\"])\n",
        "df[\"Order Priority\"] = le.fit_transform(df[\"Order Priority\"])"
      ]
    },
    {
      "cell_type": "code",
      "execution_count": 80,
      "metadata": {
        "id": "qm9iugciRNGR"
      },
      "outputs": [],
      "source": [
        "# Drop columns Region, Country, Order Date MonthYear, Order ID and Ship Date \n",
        "df = df.drop(\"Region\", axis=1)\n",
        "df = df.drop(\"Country\", axis=1)\n",
        "df = df.drop(\"Order Date MonthYear\", axis=1)\n",
        "df = df.drop(\"Order ID\", axis=1)\n",
        "df = df.drop(\"Ship Date\", axis=1)"
      ]
    },
    {
      "cell_type": "code",
      "execution_count": 81,
      "metadata": {
        "colab": {
          "base_uri": "https://localhost:8080/",
          "height": 215
        },
        "id": "3eRrkw81VSZq",
        "outputId": "ca570380-8524-4a6c-ce5e-240b3bf7ef94"
      },
      "outputs": [
        {
          "data": {
            "text/html": [
              "<div>\n",
              "<style scoped>\n",
              "    .dataframe tbody tr th:only-of-type {\n",
              "        vertical-align: middle;\n",
              "    }\n",
              "\n",
              "    .dataframe tbody tr th {\n",
              "        vertical-align: top;\n",
              "    }\n",
              "\n",
              "    .dataframe thead th {\n",
              "        text-align: right;\n",
              "    }\n",
              "</style>\n",
              "<table border=\"1\" class=\"dataframe\">\n",
              "  <thead>\n",
              "    <tr style=\"text-align: right;\">\n",
              "      <th></th>\n",
              "      <th>Item Type</th>\n",
              "      <th>Sales Channel</th>\n",
              "      <th>Order Priority</th>\n",
              "      <th>Units Sold</th>\n",
              "      <th>Unit Price</th>\n",
              "      <th>Unit Cost</th>\n",
              "      <th>Total Revenue</th>\n",
              "      <th>Total Cost</th>\n",
              "      <th>Total Profit</th>\n",
              "      <th>Order Month</th>\n",
              "      <th>Order Year</th>\n",
              "    </tr>\n",
              "  </thead>\n",
              "  <tbody>\n",
              "    <tr>\n",
              "      <th>0</th>\n",
              "      <td>0</td>\n",
              "      <td>0</td>\n",
              "      <td>1</td>\n",
              "      <td>9925</td>\n",
              "      <td>255.28</td>\n",
              "      <td>159.42</td>\n",
              "      <td>2533654.00</td>\n",
              "      <td>1582243.50</td>\n",
              "      <td>951410.50</td>\n",
              "      <td>5</td>\n",
              "      <td>2010</td>\n",
              "    </tr>\n",
              "    <tr>\n",
              "      <th>1</th>\n",
              "      <td>2</td>\n",
              "      <td>1</td>\n",
              "      <td>0</td>\n",
              "      <td>2804</td>\n",
              "      <td>205.70</td>\n",
              "      <td>117.11</td>\n",
              "      <td>576782.80</td>\n",
              "      <td>328376.44</td>\n",
              "      <td>248406.36</td>\n",
              "      <td>8</td>\n",
              "      <td>2012</td>\n",
              "    </tr>\n",
              "    <tr>\n",
              "      <th>2</th>\n",
              "      <td>8</td>\n",
              "      <td>0</td>\n",
              "      <td>2</td>\n",
              "      <td>1779</td>\n",
              "      <td>651.21</td>\n",
              "      <td>524.96</td>\n",
              "      <td>1158502.59</td>\n",
              "      <td>933903.84</td>\n",
              "      <td>224598.75</td>\n",
              "      <td>5</td>\n",
              "      <td>2014</td>\n",
              "    </tr>\n",
              "    <tr>\n",
              "      <th>3</th>\n",
              "      <td>5</td>\n",
              "      <td>1</td>\n",
              "      <td>0</td>\n",
              "      <td>8102</td>\n",
              "      <td>9.33</td>\n",
              "      <td>6.92</td>\n",
              "      <td>75591.66</td>\n",
              "      <td>56065.84</td>\n",
              "      <td>19525.82</td>\n",
              "      <td>6</td>\n",
              "      <td>2014</td>\n",
              "    </tr>\n",
              "    <tr>\n",
              "      <th>4</th>\n",
              "      <td>8</td>\n",
              "      <td>0</td>\n",
              "      <td>2</td>\n",
              "      <td>5062</td>\n",
              "      <td>651.21</td>\n",
              "      <td>524.96</td>\n",
              "      <td>3296425.02</td>\n",
              "      <td>2657347.52</td>\n",
              "      <td>639077.50</td>\n",
              "      <td>2</td>\n",
              "      <td>2013</td>\n",
              "    </tr>\n",
              "  </tbody>\n",
              "</table>\n",
              "</div>"
            ],
            "text/plain": [
              "   Item Type  Sales Channel  Order Priority  Units Sold  Unit Price  \\\n",
              "0          0              0               1        9925      255.28   \n",
              "1          2              1               0        2804      205.70   \n",
              "2          8              0               2        1779      651.21   \n",
              "3          5              1               0        8102        9.33   \n",
              "4          8              0               2        5062      651.21   \n",
              "\n",
              "   Unit Cost  Total Revenue  Total Cost  Total Profit  Order Month  Order Year  \n",
              "0     159.42     2533654.00  1582243.50     951410.50            5        2010  \n",
              "1     117.11      576782.80   328376.44     248406.36            8        2012  \n",
              "2     524.96     1158502.59   933903.84     224598.75            5        2014  \n",
              "3       6.92       75591.66    56065.84      19525.82            6        2014  \n",
              "4     524.96     3296425.02  2657347.52     639077.50            2        2013  "
            ]
          },
          "execution_count": 81,
          "metadata": {},
          "output_type": "execute_result"
        }
      ],
      "source": [
        "df.head()"
      ]
    },
    {
      "cell_type": "markdown",
      "metadata": {
        "id": "D9_5zRc3EbEF"
      },
      "source": [
        "##Using Pycaret library \n",
        "\n",
        "PyCaret is an open-source, low-code machine learning library in Python that allows users to quickly and easily build, compare, and deploy machine learning models on structured and tabular data. It is designed to streamline the machine learning workflow and reduce the amount of code needed to build a model, while still providing users with a high degree of flexibility and control over the modeling process.\n",
        "\n",
        "PyCaret provides a variety of pre-processing methods, feature engineering techniques, and model selection strategies that can be easily applied to a dataset with just a few lines of code. It also includes a range of tools for model interpretation, such as feature importance plots and SHAP value plots.\n",
        "\n",
        "Some of the key features of PyCaret include:\n",
        "\n",
        "*   Preprocessing and feature engineering functions\n",
        "*   Automatic model selection and hyperparameter tuning\n",
        "*   Interpretation tools for model results\n",
        "*   Support for a wide range of machine learning algorithms\n",
        "*   Deployment of models to production\n"
      ]
    },
    {
      "cell_type": "code",
      "execution_count": 82,
      "metadata": {
        "id": "DRdPcnHzlxYp"
      },
      "outputs": [],
      "source": [
        "# Storing df dataframe in df_auto_ml for performing (Auto ML) Pycaret library \n",
        "df_auto_ml = df"
      ]
    },
    {
      "cell_type": "code",
      "execution_count": 83,
      "metadata": {
        "id": "5AyZRS9XmcAa"
      },
      "outputs": [],
      "source": [
        "# Import * to train dataframe on multiple regression algorithm  \n",
        "from pycaret.regression import *"
      ]
    },
    {
      "cell_type": "code",
      "execution_count": 84,
      "metadata": {
        "colab": {
          "base_uri": "https://localhost:8080/",
          "height": 645
        },
        "id": "IFBsDv_omb9g",
        "outputId": "135f7fc5-2704-4104-df01-0c28a431921f"
      },
      "outputs": [
        {
          "data": {
            "text/html": [
              "<style type=\"text/css\">\n",
              "#T_1a992_row8_col1 {\n",
              "  background-color: lightgreen;\n",
              "}\n",
              "</style>\n",
              "<table id=\"T_1a992\">\n",
              "  <thead>\n",
              "    <tr>\n",
              "      <th class=\"blank level0\" >&nbsp;</th>\n",
              "      <th id=\"T_1a992_level0_col0\" class=\"col_heading level0 col0\" >Description</th>\n",
              "      <th id=\"T_1a992_level0_col1\" class=\"col_heading level0 col1\" >Value</th>\n",
              "    </tr>\n",
              "  </thead>\n",
              "  <tbody>\n",
              "    <tr>\n",
              "      <th id=\"T_1a992_level0_row0\" class=\"row_heading level0 row0\" >0</th>\n",
              "      <td id=\"T_1a992_row0_col0\" class=\"data row0 col0\" >Session id</td>\n",
              "      <td id=\"T_1a992_row0_col1\" class=\"data row0 col1\" >194</td>\n",
              "    </tr>\n",
              "    <tr>\n",
              "      <th id=\"T_1a992_level0_row1\" class=\"row_heading level0 row1\" >1</th>\n",
              "      <td id=\"T_1a992_row1_col0\" class=\"data row1 col0\" >Target</td>\n",
              "      <td id=\"T_1a992_row1_col1\" class=\"data row1 col1\" >Total Profit</td>\n",
              "    </tr>\n",
              "    <tr>\n",
              "      <th id=\"T_1a992_level0_row2\" class=\"row_heading level0 row2\" >2</th>\n",
              "      <td id=\"T_1a992_row2_col0\" class=\"data row2 col0\" >Target type</td>\n",
              "      <td id=\"T_1a992_row2_col1\" class=\"data row2 col1\" >Regression</td>\n",
              "    </tr>\n",
              "    <tr>\n",
              "      <th id=\"T_1a992_level0_row3\" class=\"row_heading level0 row3\" >3</th>\n",
              "      <td id=\"T_1a992_row3_col0\" class=\"data row3 col0\" >Original data shape</td>\n",
              "      <td id=\"T_1a992_row3_col1\" class=\"data row3 col1\" >(100, 11)</td>\n",
              "    </tr>\n",
              "    <tr>\n",
              "      <th id=\"T_1a992_level0_row4\" class=\"row_heading level0 row4\" >4</th>\n",
              "      <td id=\"T_1a992_row4_col0\" class=\"data row4 col0\" >Transformed data shape</td>\n",
              "      <td id=\"T_1a992_row4_col1\" class=\"data row4 col1\" >(100, 11)</td>\n",
              "    </tr>\n",
              "    <tr>\n",
              "      <th id=\"T_1a992_level0_row5\" class=\"row_heading level0 row5\" >5</th>\n",
              "      <td id=\"T_1a992_row5_col0\" class=\"data row5 col0\" >Transformed train set shape</td>\n",
              "      <td id=\"T_1a992_row5_col1\" class=\"data row5 col1\" >(70, 11)</td>\n",
              "    </tr>\n",
              "    <tr>\n",
              "      <th id=\"T_1a992_level0_row6\" class=\"row_heading level0 row6\" >6</th>\n",
              "      <td id=\"T_1a992_row6_col0\" class=\"data row6 col0\" >Transformed test set shape</td>\n",
              "      <td id=\"T_1a992_row6_col1\" class=\"data row6 col1\" >(30, 11)</td>\n",
              "    </tr>\n",
              "    <tr>\n",
              "      <th id=\"T_1a992_level0_row7\" class=\"row_heading level0 row7\" >7</th>\n",
              "      <td id=\"T_1a992_row7_col0\" class=\"data row7 col0\" >Numeric features</td>\n",
              "      <td id=\"T_1a992_row7_col1\" class=\"data row7 col1\" >10</td>\n",
              "    </tr>\n",
              "    <tr>\n",
              "      <th id=\"T_1a992_level0_row8\" class=\"row_heading level0 row8\" >8</th>\n",
              "      <td id=\"T_1a992_row8_col0\" class=\"data row8 col0\" >Preprocess</td>\n",
              "      <td id=\"T_1a992_row8_col1\" class=\"data row8 col1\" >True</td>\n",
              "    </tr>\n",
              "    <tr>\n",
              "      <th id=\"T_1a992_level0_row9\" class=\"row_heading level0 row9\" >9</th>\n",
              "      <td id=\"T_1a992_row9_col0\" class=\"data row9 col0\" >Imputation type</td>\n",
              "      <td id=\"T_1a992_row9_col1\" class=\"data row9 col1\" >simple</td>\n",
              "    </tr>\n",
              "    <tr>\n",
              "      <th id=\"T_1a992_level0_row10\" class=\"row_heading level0 row10\" >10</th>\n",
              "      <td id=\"T_1a992_row10_col0\" class=\"data row10 col0\" >Numeric imputation</td>\n",
              "      <td id=\"T_1a992_row10_col1\" class=\"data row10 col1\" >mean</td>\n",
              "    </tr>\n",
              "    <tr>\n",
              "      <th id=\"T_1a992_level0_row11\" class=\"row_heading level0 row11\" >11</th>\n",
              "      <td id=\"T_1a992_row11_col0\" class=\"data row11 col0\" >Categorical imputation</td>\n",
              "      <td id=\"T_1a992_row11_col1\" class=\"data row11 col1\" >mode</td>\n",
              "    </tr>\n",
              "    <tr>\n",
              "      <th id=\"T_1a992_level0_row12\" class=\"row_heading level0 row12\" >12</th>\n",
              "      <td id=\"T_1a992_row12_col0\" class=\"data row12 col0\" >Fold Generator</td>\n",
              "      <td id=\"T_1a992_row12_col1\" class=\"data row12 col1\" >KFold</td>\n",
              "    </tr>\n",
              "    <tr>\n",
              "      <th id=\"T_1a992_level0_row13\" class=\"row_heading level0 row13\" >13</th>\n",
              "      <td id=\"T_1a992_row13_col0\" class=\"data row13 col0\" >Fold Number</td>\n",
              "      <td id=\"T_1a992_row13_col1\" class=\"data row13 col1\" >10</td>\n",
              "    </tr>\n",
              "    <tr>\n",
              "      <th id=\"T_1a992_level0_row14\" class=\"row_heading level0 row14\" >14</th>\n",
              "      <td id=\"T_1a992_row14_col0\" class=\"data row14 col0\" >CPU Jobs</td>\n",
              "      <td id=\"T_1a992_row14_col1\" class=\"data row14 col1\" >-1</td>\n",
              "    </tr>\n",
              "    <tr>\n",
              "      <th id=\"T_1a992_level0_row15\" class=\"row_heading level0 row15\" >15</th>\n",
              "      <td id=\"T_1a992_row15_col0\" class=\"data row15 col0\" >Use GPU</td>\n",
              "      <td id=\"T_1a992_row15_col1\" class=\"data row15 col1\" >False</td>\n",
              "    </tr>\n",
              "    <tr>\n",
              "      <th id=\"T_1a992_level0_row16\" class=\"row_heading level0 row16\" >16</th>\n",
              "      <td id=\"T_1a992_row16_col0\" class=\"data row16 col0\" >Log Experiment</td>\n",
              "      <td id=\"T_1a992_row16_col1\" class=\"data row16 col1\" >False</td>\n",
              "    </tr>\n",
              "    <tr>\n",
              "      <th id=\"T_1a992_level0_row17\" class=\"row_heading level0 row17\" >17</th>\n",
              "      <td id=\"T_1a992_row17_col0\" class=\"data row17 col0\" >Experiment Name</td>\n",
              "      <td id=\"T_1a992_row17_col1\" class=\"data row17 col1\" >reg-default-name</td>\n",
              "    </tr>\n",
              "    <tr>\n",
              "      <th id=\"T_1a992_level0_row18\" class=\"row_heading level0 row18\" >18</th>\n",
              "      <td id=\"T_1a992_row18_col0\" class=\"data row18 col0\" >USI</td>\n",
              "      <td id=\"T_1a992_row18_col1\" class=\"data row18 col1\" >c97e</td>\n",
              "    </tr>\n",
              "  </tbody>\n",
              "</table>\n"
            ],
            "text/plain": [
              "<pandas.io.formats.style.Styler at 0x26bd2dee0d0>"
            ]
          },
          "metadata": {},
          "output_type": "display_data"
        }
      ],
      "source": [
        "# Set target value\n",
        "reg = setup(data=df_auto_ml,target='Total Profit')"
      ]
    },
    {
      "cell_type": "code",
      "execution_count": 85,
      "metadata": {
        "colab": {
          "base_uri": "https://localhost:8080/",
          "height": 703,
          "referenced_widgets": [
            "14122eab44b54b6db5b8e712d785e468",
            "c281fe3929b240c98073623bc2ddc344",
            "4dc0bbc4ccff470e8791974fd65f0e71",
            "4351b0feba7e439f98cb3461d648b7a4",
            "da7db208b432408fb69faadab47535b2",
            "8003cf99b406405ba5c6ec2d5189c614",
            "40a1fd0b3dcd40b78562264a08eaeba5",
            "572a43331dbc432abc475b185a122ffe",
            "b86d3e8399fe4d4aacc2e602ff999d23",
            "3125b31e7e0f4d07b21860c64ff88faa",
            "5a3a457b67854a379050f0cf83e36989"
          ]
        },
        "id": "w2Szmzudmb6u",
        "outputId": "fc1a303d-a571-4914-a41d-e46104d951e7"
      },
      "outputs": [
        {
          "data": {
            "text/html": [],
            "text/plain": [
              "<IPython.core.display.HTML object>"
            ]
          },
          "metadata": {},
          "output_type": "display_data"
        },
        {
          "data": {
            "text/html": [],
            "text/plain": [
              "<IPython.core.display.HTML object>"
            ]
          },
          "metadata": {},
          "output_type": "display_data"
        },
        {
          "data": {
            "text/html": [],
            "text/plain": [
              "<IPython.core.display.HTML object>"
            ]
          },
          "metadata": {},
          "output_type": "display_data"
        },
        {
          "data": {
            "text/html": [
              "<style>#sk-container-id-4 {\n",
              "  /* Definition of color scheme common for light and dark mode */\n",
              "  --sklearn-color-text: black;\n",
              "  --sklearn-color-line: gray;\n",
              "  /* Definition of color scheme for unfitted estimators */\n",
              "  --sklearn-color-unfitted-level-0: #fff5e6;\n",
              "  --sklearn-color-unfitted-level-1: #f6e4d2;\n",
              "  --sklearn-color-unfitted-level-2: #ffe0b3;\n",
              "  --sklearn-color-unfitted-level-3: chocolate;\n",
              "  /* Definition of color scheme for fitted estimators */\n",
              "  --sklearn-color-fitted-level-0: #f0f8ff;\n",
              "  --sklearn-color-fitted-level-1: #d4ebff;\n",
              "  --sklearn-color-fitted-level-2: #b3dbfd;\n",
              "  --sklearn-color-fitted-level-3: cornflowerblue;\n",
              "\n",
              "  /* Specific color for light theme */\n",
              "  --sklearn-color-text-on-default-background: var(--sg-text-color, var(--theme-code-foreground, var(--jp-content-font-color1, black)));\n",
              "  --sklearn-color-background: var(--sg-background-color, var(--theme-background, var(--jp-layout-color0, white)));\n",
              "  --sklearn-color-border-box: var(--sg-text-color, var(--theme-code-foreground, var(--jp-content-font-color1, black)));\n",
              "  --sklearn-color-icon: #696969;\n",
              "\n",
              "  @media (prefers-color-scheme: dark) {\n",
              "    /* Redefinition of color scheme for dark theme */\n",
              "    --sklearn-color-text-on-default-background: var(--sg-text-color, var(--theme-code-foreground, var(--jp-content-font-color1, white)));\n",
              "    --sklearn-color-background: var(--sg-background-color, var(--theme-background, var(--jp-layout-color0, #111)));\n",
              "    --sklearn-color-border-box: var(--sg-text-color, var(--theme-code-foreground, var(--jp-content-font-color1, white)));\n",
              "    --sklearn-color-icon: #878787;\n",
              "  }\n",
              "}\n",
              "\n",
              "#sk-container-id-4 {\n",
              "  color: var(--sklearn-color-text);\n",
              "}\n",
              "\n",
              "#sk-container-id-4 pre {\n",
              "  padding: 0;\n",
              "}\n",
              "\n",
              "#sk-container-id-4 input.sk-hidden--visually {\n",
              "  border: 0;\n",
              "  clip: rect(1px 1px 1px 1px);\n",
              "  clip: rect(1px, 1px, 1px, 1px);\n",
              "  height: 1px;\n",
              "  margin: -1px;\n",
              "  overflow: hidden;\n",
              "  padding: 0;\n",
              "  position: absolute;\n",
              "  width: 1px;\n",
              "}\n",
              "\n",
              "#sk-container-id-4 div.sk-dashed-wrapped {\n",
              "  border: 1px dashed var(--sklearn-color-line);\n",
              "  margin: 0 0.4em 0.5em 0.4em;\n",
              "  box-sizing: border-box;\n",
              "  padding-bottom: 0.4em;\n",
              "  background-color: var(--sklearn-color-background);\n",
              "}\n",
              "\n",
              "#sk-container-id-4 div.sk-container {\n",
              "  /* jupyter's `normalize.less` sets `[hidden] { display: none; }`\n",
              "     but bootstrap.min.css set `[hidden] { display: none !important; }`\n",
              "     so we also need the `!important` here to be able to override the\n",
              "     default hidden behavior on the sphinx rendered scikit-learn.org.\n",
              "     See: https://github.com/scikit-learn/scikit-learn/issues/21755 */\n",
              "  display: inline-block !important;\n",
              "  position: relative;\n",
              "}\n",
              "\n",
              "#sk-container-id-4 div.sk-text-repr-fallback {\n",
              "  display: none;\n",
              "}\n",
              "\n",
              "div.sk-parallel-item,\n",
              "div.sk-serial,\n",
              "div.sk-item {\n",
              "  /* draw centered vertical line to link estimators */\n",
              "  background-image: linear-gradient(var(--sklearn-color-text-on-default-background), var(--sklearn-color-text-on-default-background));\n",
              "  background-size: 2px 100%;\n",
              "  background-repeat: no-repeat;\n",
              "  background-position: center center;\n",
              "}\n",
              "\n",
              "/* Parallel-specific style estimator block */\n",
              "\n",
              "#sk-container-id-4 div.sk-parallel-item::after {\n",
              "  content: \"\";\n",
              "  width: 100%;\n",
              "  border-bottom: 2px solid var(--sklearn-color-text-on-default-background);\n",
              "  flex-grow: 1;\n",
              "}\n",
              "\n",
              "#sk-container-id-4 div.sk-parallel {\n",
              "  display: flex;\n",
              "  align-items: stretch;\n",
              "  justify-content: center;\n",
              "  background-color: var(--sklearn-color-background);\n",
              "  position: relative;\n",
              "}\n",
              "\n",
              "#sk-container-id-4 div.sk-parallel-item {\n",
              "  display: flex;\n",
              "  flex-direction: column;\n",
              "}\n",
              "\n",
              "#sk-container-id-4 div.sk-parallel-item:first-child::after {\n",
              "  align-self: flex-end;\n",
              "  width: 50%;\n",
              "}\n",
              "\n",
              "#sk-container-id-4 div.sk-parallel-item:last-child::after {\n",
              "  align-self: flex-start;\n",
              "  width: 50%;\n",
              "}\n",
              "\n",
              "#sk-container-id-4 div.sk-parallel-item:only-child::after {\n",
              "  width: 0;\n",
              "}\n",
              "\n",
              "/* Serial-specific style estimator block */\n",
              "\n",
              "#sk-container-id-4 div.sk-serial {\n",
              "  display: flex;\n",
              "  flex-direction: column;\n",
              "  align-items: center;\n",
              "  background-color: var(--sklearn-color-background);\n",
              "  padding-right: 1em;\n",
              "  padding-left: 1em;\n",
              "}\n",
              "\n",
              "\n",
              "/* Toggleable style: style used for estimator/Pipeline/ColumnTransformer box that is\n",
              "clickable and can be expanded/collapsed.\n",
              "- Pipeline and ColumnTransformer use this feature and define the default style\n",
              "- Estimators will overwrite some part of the style using the `sk-estimator` class\n",
              "*/\n",
              "\n",
              "/* Pipeline and ColumnTransformer style (default) */\n",
              "\n",
              "#sk-container-id-4 div.sk-toggleable {\n",
              "  /* Default theme specific background. It is overwritten whether we have a\n",
              "  specific estimator or a Pipeline/ColumnTransformer */\n",
              "  background-color: var(--sklearn-color-background);\n",
              "}\n",
              "\n",
              "/* Toggleable label */\n",
              "#sk-container-id-4 label.sk-toggleable__label {\n",
              "  cursor: pointer;\n",
              "  display: block;\n",
              "  width: 100%;\n",
              "  margin-bottom: 0;\n",
              "  padding: 0.5em;\n",
              "  box-sizing: border-box;\n",
              "  text-align: center;\n",
              "}\n",
              "\n",
              "#sk-container-id-4 label.sk-toggleable__label-arrow:before {\n",
              "  /* Arrow on the left of the label */\n",
              "  content: \"▸\";\n",
              "  float: left;\n",
              "  margin-right: 0.25em;\n",
              "  color: var(--sklearn-color-icon);\n",
              "}\n",
              "\n",
              "#sk-container-id-4 label.sk-toggleable__label-arrow:hover:before {\n",
              "  color: var(--sklearn-color-text);\n",
              "}\n",
              "\n",
              "/* Toggleable content - dropdown */\n",
              "\n",
              "#sk-container-id-4 div.sk-toggleable__content {\n",
              "  max-height: 0;\n",
              "  max-width: 0;\n",
              "  overflow: hidden;\n",
              "  text-align: left;\n",
              "  /* unfitted */\n",
              "  background-color: var(--sklearn-color-unfitted-level-0);\n",
              "}\n",
              "\n",
              "#sk-container-id-4 div.sk-toggleable__content.fitted {\n",
              "  /* fitted */\n",
              "  background-color: var(--sklearn-color-fitted-level-0);\n",
              "}\n",
              "\n",
              "#sk-container-id-4 div.sk-toggleable__content pre {\n",
              "  margin: 0.2em;\n",
              "  border-radius: 0.25em;\n",
              "  color: var(--sklearn-color-text);\n",
              "  /* unfitted */\n",
              "  background-color: var(--sklearn-color-unfitted-level-0);\n",
              "}\n",
              "\n",
              "#sk-container-id-4 div.sk-toggleable__content.fitted pre {\n",
              "  /* unfitted */\n",
              "  background-color: var(--sklearn-color-fitted-level-0);\n",
              "}\n",
              "\n",
              "#sk-container-id-4 input.sk-toggleable__control:checked~div.sk-toggleable__content {\n",
              "  /* Expand drop-down */\n",
              "  max-height: 200px;\n",
              "  max-width: 100%;\n",
              "  overflow: auto;\n",
              "}\n",
              "\n",
              "#sk-container-id-4 input.sk-toggleable__control:checked~label.sk-toggleable__label-arrow:before {\n",
              "  content: \"▾\";\n",
              "}\n",
              "\n",
              "/* Pipeline/ColumnTransformer-specific style */\n",
              "\n",
              "#sk-container-id-4 div.sk-label input.sk-toggleable__control:checked~label.sk-toggleable__label {\n",
              "  color: var(--sklearn-color-text);\n",
              "  background-color: var(--sklearn-color-unfitted-level-2);\n",
              "}\n",
              "\n",
              "#sk-container-id-4 div.sk-label.fitted input.sk-toggleable__control:checked~label.sk-toggleable__label {\n",
              "  background-color: var(--sklearn-color-fitted-level-2);\n",
              "}\n",
              "\n",
              "/* Estimator-specific style */\n",
              "\n",
              "/* Colorize estimator box */\n",
              "#sk-container-id-4 div.sk-estimator input.sk-toggleable__control:checked~label.sk-toggleable__label {\n",
              "  /* unfitted */\n",
              "  background-color: var(--sklearn-color-unfitted-level-2);\n",
              "}\n",
              "\n",
              "#sk-container-id-4 div.sk-estimator.fitted input.sk-toggleable__control:checked~label.sk-toggleable__label {\n",
              "  /* fitted */\n",
              "  background-color: var(--sklearn-color-fitted-level-2);\n",
              "}\n",
              "\n",
              "#sk-container-id-4 div.sk-label label.sk-toggleable__label,\n",
              "#sk-container-id-4 div.sk-label label {\n",
              "  /* The background is the default theme color */\n",
              "  color: var(--sklearn-color-text-on-default-background);\n",
              "}\n",
              "\n",
              "/* On hover, darken the color of the background */\n",
              "#sk-container-id-4 div.sk-label:hover label.sk-toggleable__label {\n",
              "  color: var(--sklearn-color-text);\n",
              "  background-color: var(--sklearn-color-unfitted-level-2);\n",
              "}\n",
              "\n",
              "/* Label box, darken color on hover, fitted */\n",
              "#sk-container-id-4 div.sk-label.fitted:hover label.sk-toggleable__label.fitted {\n",
              "  color: var(--sklearn-color-text);\n",
              "  background-color: var(--sklearn-color-fitted-level-2);\n",
              "}\n",
              "\n",
              "/* Estimator label */\n",
              "\n",
              "#sk-container-id-4 div.sk-label label {\n",
              "  font-family: monospace;\n",
              "  font-weight: bold;\n",
              "  display: inline-block;\n",
              "  line-height: 1.2em;\n",
              "}\n",
              "\n",
              "#sk-container-id-4 div.sk-label-container {\n",
              "  text-align: center;\n",
              "}\n",
              "\n",
              "/* Estimator-specific */\n",
              "#sk-container-id-4 div.sk-estimator {\n",
              "  font-family: monospace;\n",
              "  border: 1px dotted var(--sklearn-color-border-box);\n",
              "  border-radius: 0.25em;\n",
              "  box-sizing: border-box;\n",
              "  margin-bottom: 0.5em;\n",
              "  /* unfitted */\n",
              "  background-color: var(--sklearn-color-unfitted-level-0);\n",
              "}\n",
              "\n",
              "#sk-container-id-4 div.sk-estimator.fitted {\n",
              "  /* fitted */\n",
              "  background-color: var(--sklearn-color-fitted-level-0);\n",
              "}\n",
              "\n",
              "/* on hover */\n",
              "#sk-container-id-4 div.sk-estimator:hover {\n",
              "  /* unfitted */\n",
              "  background-color: var(--sklearn-color-unfitted-level-2);\n",
              "}\n",
              "\n",
              "#sk-container-id-4 div.sk-estimator.fitted:hover {\n",
              "  /* fitted */\n",
              "  background-color: var(--sklearn-color-fitted-level-2);\n",
              "}\n",
              "\n",
              "/* Specification for estimator info (e.g. \"i\" and \"?\") */\n",
              "\n",
              "/* Common style for \"i\" and \"?\" */\n",
              "\n",
              ".sk-estimator-doc-link,\n",
              "a:link.sk-estimator-doc-link,\n",
              "a:visited.sk-estimator-doc-link {\n",
              "  float: right;\n",
              "  font-size: smaller;\n",
              "  line-height: 1em;\n",
              "  font-family: monospace;\n",
              "  background-color: var(--sklearn-color-background);\n",
              "  border-radius: 1em;\n",
              "  height: 1em;\n",
              "  width: 1em;\n",
              "  text-decoration: none !important;\n",
              "  margin-left: 1ex;\n",
              "  /* unfitted */\n",
              "  border: var(--sklearn-color-unfitted-level-1) 1pt solid;\n",
              "  color: var(--sklearn-color-unfitted-level-1);\n",
              "}\n",
              "\n",
              ".sk-estimator-doc-link.fitted,\n",
              "a:link.sk-estimator-doc-link.fitted,\n",
              "a:visited.sk-estimator-doc-link.fitted {\n",
              "  /* fitted */\n",
              "  border: var(--sklearn-color-fitted-level-1) 1pt solid;\n",
              "  color: var(--sklearn-color-fitted-level-1);\n",
              "}\n",
              "\n",
              "/* On hover */\n",
              "div.sk-estimator:hover .sk-estimator-doc-link:hover,\n",
              ".sk-estimator-doc-link:hover,\n",
              "div.sk-label-container:hover .sk-estimator-doc-link:hover,\n",
              ".sk-estimator-doc-link:hover {\n",
              "  /* unfitted */\n",
              "  background-color: var(--sklearn-color-unfitted-level-3);\n",
              "  color: var(--sklearn-color-background);\n",
              "  text-decoration: none;\n",
              "}\n",
              "\n",
              "div.sk-estimator.fitted:hover .sk-estimator-doc-link.fitted:hover,\n",
              ".sk-estimator-doc-link.fitted:hover,\n",
              "div.sk-label-container:hover .sk-estimator-doc-link.fitted:hover,\n",
              ".sk-estimator-doc-link.fitted:hover {\n",
              "  /* fitted */\n",
              "  background-color: var(--sklearn-color-fitted-level-3);\n",
              "  color: var(--sklearn-color-background);\n",
              "  text-decoration: none;\n",
              "}\n",
              "\n",
              "/* Span, style for the box shown on hovering the info icon */\n",
              ".sk-estimator-doc-link span {\n",
              "  display: none;\n",
              "  z-index: 9999;\n",
              "  position: relative;\n",
              "  font-weight: normal;\n",
              "  right: .2ex;\n",
              "  padding: .5ex;\n",
              "  margin: .5ex;\n",
              "  width: min-content;\n",
              "  min-width: 20ex;\n",
              "  max-width: 50ex;\n",
              "  color: var(--sklearn-color-text);\n",
              "  box-shadow: 2pt 2pt 4pt #999;\n",
              "  /* unfitted */\n",
              "  background: var(--sklearn-color-unfitted-level-0);\n",
              "  border: .5pt solid var(--sklearn-color-unfitted-level-3);\n",
              "}\n",
              "\n",
              ".sk-estimator-doc-link.fitted span {\n",
              "  /* fitted */\n",
              "  background: var(--sklearn-color-fitted-level-0);\n",
              "  border: var(--sklearn-color-fitted-level-3);\n",
              "}\n",
              "\n",
              ".sk-estimator-doc-link:hover span {\n",
              "  display: block;\n",
              "}\n",
              "\n",
              "/* \"?\"-specific style due to the `<a>` HTML tag */\n",
              "\n",
              "#sk-container-id-4 a.estimator_doc_link {\n",
              "  float: right;\n",
              "  font-size: 1rem;\n",
              "  line-height: 1em;\n",
              "  font-family: monospace;\n",
              "  background-color: var(--sklearn-color-background);\n",
              "  border-radius: 1rem;\n",
              "  height: 1rem;\n",
              "  width: 1rem;\n",
              "  text-decoration: none;\n",
              "  /* unfitted */\n",
              "  color: var(--sklearn-color-unfitted-level-1);\n",
              "  border: var(--sklearn-color-unfitted-level-1) 1pt solid;\n",
              "}\n",
              "\n",
              "#sk-container-id-4 a.estimator_doc_link.fitted {\n",
              "  /* fitted */\n",
              "  border: var(--sklearn-color-fitted-level-1) 1pt solid;\n",
              "  color: var(--sklearn-color-fitted-level-1);\n",
              "}\n",
              "\n",
              "/* On hover */\n",
              "#sk-container-id-4 a.estimator_doc_link:hover {\n",
              "  /* unfitted */\n",
              "  background-color: var(--sklearn-color-unfitted-level-3);\n",
              "  color: var(--sklearn-color-background);\n",
              "  text-decoration: none;\n",
              "}\n",
              "\n",
              "#sk-container-id-4 a.estimator_doc_link.fitted:hover {\n",
              "  /* fitted */\n",
              "  background-color: var(--sklearn-color-fitted-level-3);\n",
              "}\n",
              "</style><div id=\"sk-container-id-4\" class=\"sk-top-container\"><div class=\"sk-text-repr-fallback\"><pre>LinearRegression(n_jobs=-1)</pre><b>In a Jupyter environment, please rerun this cell to show the HTML representation or trust the notebook. <br />On GitHub, the HTML representation is unable to render, please try loading this page with nbviewer.org.</b></div><div class=\"sk-container\" hidden><div class=\"sk-item\"><div class=\"sk-estimator fitted sk-toggleable\"><input class=\"sk-toggleable__control sk-hidden--visually\" id=\"sk-estimator-id-4\" type=\"checkbox\" checked><label for=\"sk-estimator-id-4\" class=\"sk-toggleable__label fitted sk-toggleable__label-arrow fitted\">&nbsp;&nbsp;LinearRegression<a class=\"sk-estimator-doc-link fitted\" rel=\"noreferrer\" target=\"_blank\" href=\"https://scikit-learn.org/1.4/modules/generated/sklearn.linear_model.LinearRegression.html\">?<span>Documentation for LinearRegression</span></a><span class=\"sk-estimator-doc-link fitted\">i<span>Fitted</span></span></label><div class=\"sk-toggleable__content fitted\"><pre>LinearRegression(n_jobs=-1)</pre></div> </div></div></div></div>"
            ],
            "text/plain": [
              "LinearRegression(n_jobs=-1)"
            ]
          },
          "execution_count": 85,
          "metadata": {},
          "output_type": "execute_result"
        }
      ],
      "source": [
        "# Comparing multiple models \n",
        "compare_models()"
      ]
    },
    {
      "cell_type": "code",
      "execution_count": 86,
      "metadata": {
        "colab": {
          "base_uri": "https://localhost:8080/",
          "height": 457,
          "referenced_widgets": [
            "a42bc603c8124eac83752771fe227924",
            "a8f9dc11f9ca47c48c7867601fa99b21",
            "21783f0ff3534cf7b1ed1b6886aed152",
            "7013335c460f49079011df48ea676119",
            "9464d9f4e75b4b94a568cb3de3707ace",
            "b72965e084f44004b9e317fb79db4940",
            "65de1b782040470b8bf27c759068774b",
            "f02237156dfe4dbeb4220af18530be39",
            "bce73ba6104148d98525ed4fc15c8476",
            "34abb2af7c224eeba4e40eca157a3f1f",
            "27f83b2cfb664ac381ec78c6905c642a"
          ]
        },
        "id": "jCzEO_bOmbyM",
        "outputId": "b0c4796c-6e62-4492-e79c-235d1836d987"
      },
      "outputs": [
        {
          "data": {
            "text/html": [],
            "text/plain": [
              "<IPython.core.display.HTML object>"
            ]
          },
          "metadata": {},
          "output_type": "display_data"
        },
        {
          "data": {
            "text/html": [
              "<style type=\"text/css\">\n",
              "#T_6e0a9_row10_col0, #T_6e0a9_row10_col1, #T_6e0a9_row10_col2, #T_6e0a9_row10_col3, #T_6e0a9_row10_col4, #T_6e0a9_row10_col5 {\n",
              "  background: yellow;\n",
              "}\n",
              "</style>\n",
              "<table id=\"T_6e0a9\">\n",
              "  <thead>\n",
              "    <tr>\n",
              "      <th class=\"blank level0\" >&nbsp;</th>\n",
              "      <th id=\"T_6e0a9_level0_col0\" class=\"col_heading level0 col0\" >MAE</th>\n",
              "      <th id=\"T_6e0a9_level0_col1\" class=\"col_heading level0 col1\" >MSE</th>\n",
              "      <th id=\"T_6e0a9_level0_col2\" class=\"col_heading level0 col2\" >RMSE</th>\n",
              "      <th id=\"T_6e0a9_level0_col3\" class=\"col_heading level0 col3\" >R2</th>\n",
              "      <th id=\"T_6e0a9_level0_col4\" class=\"col_heading level0 col4\" >RMSLE</th>\n",
              "      <th id=\"T_6e0a9_level0_col5\" class=\"col_heading level0 col5\" >MAPE</th>\n",
              "    </tr>\n",
              "    <tr>\n",
              "      <th class=\"index_name level0\" >Fold</th>\n",
              "      <th class=\"blank col0\" >&nbsp;</th>\n",
              "      <th class=\"blank col1\" >&nbsp;</th>\n",
              "      <th class=\"blank col2\" >&nbsp;</th>\n",
              "      <th class=\"blank col3\" >&nbsp;</th>\n",
              "      <th class=\"blank col4\" >&nbsp;</th>\n",
              "      <th class=\"blank col5\" >&nbsp;</th>\n",
              "    </tr>\n",
              "  </thead>\n",
              "  <tbody>\n",
              "    <tr>\n",
              "      <th id=\"T_6e0a9_level0_row0\" class=\"row_heading level0 row0\" >0</th>\n",
              "      <td id=\"T_6e0a9_row0_col0\" class=\"data row0 col0\" >0.0488</td>\n",
              "      <td id=\"T_6e0a9_row0_col1\" class=\"data row0 col1\" >0.0064</td>\n",
              "      <td id=\"T_6e0a9_row0_col2\" class=\"data row0 col2\" >0.0800</td>\n",
              "      <td id=\"T_6e0a9_row0_col3\" class=\"data row0 col3\" >1.0000</td>\n",
              "      <td id=\"T_6e0a9_row0_col4\" class=\"data row0 col4\" >0.0000</td>\n",
              "      <td id=\"T_6e0a9_row0_col5\" class=\"data row0 col5\" >0.0000</td>\n",
              "    </tr>\n",
              "    <tr>\n",
              "      <th id=\"T_6e0a9_level0_row1\" class=\"row_heading level0 row1\" >1</th>\n",
              "      <td id=\"T_6e0a9_row1_col0\" class=\"data row1 col0\" >0.0336</td>\n",
              "      <td id=\"T_6e0a9_row1_col1\" class=\"data row1 col1\" >0.0021</td>\n",
              "      <td id=\"T_6e0a9_row1_col2\" class=\"data row1 col2\" >0.0453</td>\n",
              "      <td id=\"T_6e0a9_row1_col3\" class=\"data row1 col3\" >1.0000</td>\n",
              "      <td id=\"T_6e0a9_row1_col4\" class=\"data row1 col4\" >0.0000</td>\n",
              "      <td id=\"T_6e0a9_row1_col5\" class=\"data row1 col5\" >0.0000</td>\n",
              "    </tr>\n",
              "    <tr>\n",
              "      <th id=\"T_6e0a9_level0_row2\" class=\"row_heading level0 row2\" >2</th>\n",
              "      <td id=\"T_6e0a9_row2_col0\" class=\"data row2 col0\" >0.0487</td>\n",
              "      <td id=\"T_6e0a9_row2_col1\" class=\"data row2 col1\" >0.0052</td>\n",
              "      <td id=\"T_6e0a9_row2_col2\" class=\"data row2 col2\" >0.0720</td>\n",
              "      <td id=\"T_6e0a9_row2_col3\" class=\"data row2 col3\" >1.0000</td>\n",
              "      <td id=\"T_6e0a9_row2_col4\" class=\"data row2 col4\" >0.0000</td>\n",
              "      <td id=\"T_6e0a9_row2_col5\" class=\"data row2 col5\" >0.0000</td>\n",
              "    </tr>\n",
              "    <tr>\n",
              "      <th id=\"T_6e0a9_level0_row3\" class=\"row_heading level0 row3\" >3</th>\n",
              "      <td id=\"T_6e0a9_row3_col0\" class=\"data row3 col0\" >0.0300</td>\n",
              "      <td id=\"T_6e0a9_row3_col1\" class=\"data row3 col1\" >0.0012</td>\n",
              "      <td id=\"T_6e0a9_row3_col2\" class=\"data row3 col2\" >0.0342</td>\n",
              "      <td id=\"T_6e0a9_row3_col3\" class=\"data row3 col3\" >1.0000</td>\n",
              "      <td id=\"T_6e0a9_row3_col4\" class=\"data row3 col4\" >0.0000</td>\n",
              "      <td id=\"T_6e0a9_row3_col5\" class=\"data row3 col5\" >0.0000</td>\n",
              "    </tr>\n",
              "    <tr>\n",
              "      <th id=\"T_6e0a9_level0_row4\" class=\"row_heading level0 row4\" >4</th>\n",
              "      <td id=\"T_6e0a9_row4_col0\" class=\"data row4 col0\" >0.0217</td>\n",
              "      <td id=\"T_6e0a9_row4_col1\" class=\"data row4 col1\" >0.0009</td>\n",
              "      <td id=\"T_6e0a9_row4_col2\" class=\"data row4 col2\" >0.0298</td>\n",
              "      <td id=\"T_6e0a9_row4_col3\" class=\"data row4 col3\" >1.0000</td>\n",
              "      <td id=\"T_6e0a9_row4_col4\" class=\"data row4 col4\" >0.0000</td>\n",
              "      <td id=\"T_6e0a9_row4_col5\" class=\"data row4 col5\" >0.0000</td>\n",
              "    </tr>\n",
              "    <tr>\n",
              "      <th id=\"T_6e0a9_level0_row5\" class=\"row_heading level0 row5\" >5</th>\n",
              "      <td id=\"T_6e0a9_row5_col0\" class=\"data row5 col0\" >0.0137</td>\n",
              "      <td id=\"T_6e0a9_row5_col1\" class=\"data row5 col1\" >0.0003</td>\n",
              "      <td id=\"T_6e0a9_row5_col2\" class=\"data row5 col2\" >0.0186</td>\n",
              "      <td id=\"T_6e0a9_row5_col3\" class=\"data row5 col3\" >1.0000</td>\n",
              "      <td id=\"T_6e0a9_row5_col4\" class=\"data row5 col4\" >0.0000</td>\n",
              "      <td id=\"T_6e0a9_row5_col5\" class=\"data row5 col5\" >0.0000</td>\n",
              "    </tr>\n",
              "    <tr>\n",
              "      <th id=\"T_6e0a9_level0_row6\" class=\"row_heading level0 row6\" >6</th>\n",
              "      <td id=\"T_6e0a9_row6_col0\" class=\"data row6 col0\" >0.0266</td>\n",
              "      <td id=\"T_6e0a9_row6_col1\" class=\"data row6 col1\" >0.0013</td>\n",
              "      <td id=\"T_6e0a9_row6_col2\" class=\"data row6 col2\" >0.0364</td>\n",
              "      <td id=\"T_6e0a9_row6_col3\" class=\"data row6 col3\" >1.0000</td>\n",
              "      <td id=\"T_6e0a9_row6_col4\" class=\"data row6 col4\" >0.0000</td>\n",
              "      <td id=\"T_6e0a9_row6_col5\" class=\"data row6 col5\" >0.0000</td>\n",
              "    </tr>\n",
              "    <tr>\n",
              "      <th id=\"T_6e0a9_level0_row7\" class=\"row_heading level0 row7\" >7</th>\n",
              "      <td id=\"T_6e0a9_row7_col0\" class=\"data row7 col0\" >0.0741</td>\n",
              "      <td id=\"T_6e0a9_row7_col1\" class=\"data row7 col1\" >0.0152</td>\n",
              "      <td id=\"T_6e0a9_row7_col2\" class=\"data row7 col2\" >0.1231</td>\n",
              "      <td id=\"T_6e0a9_row7_col3\" class=\"data row7 col3\" >1.0000</td>\n",
              "      <td id=\"T_6e0a9_row7_col4\" class=\"data row7 col4\" >0.0000</td>\n",
              "      <td id=\"T_6e0a9_row7_col5\" class=\"data row7 col5\" >0.0000</td>\n",
              "    </tr>\n",
              "    <tr>\n",
              "      <th id=\"T_6e0a9_level0_row8\" class=\"row_heading level0 row8\" >8</th>\n",
              "      <td id=\"T_6e0a9_row8_col0\" class=\"data row8 col0\" >0.0473</td>\n",
              "      <td id=\"T_6e0a9_row8_col1\" class=\"data row8 col1\" >0.0085</td>\n",
              "      <td id=\"T_6e0a9_row8_col2\" class=\"data row8 col2\" >0.0923</td>\n",
              "      <td id=\"T_6e0a9_row8_col3\" class=\"data row8 col3\" >1.0000</td>\n",
              "      <td id=\"T_6e0a9_row8_col4\" class=\"data row8 col4\" >0.0000</td>\n",
              "      <td id=\"T_6e0a9_row8_col5\" class=\"data row8 col5\" >0.0000</td>\n",
              "    </tr>\n",
              "    <tr>\n",
              "      <th id=\"T_6e0a9_level0_row9\" class=\"row_heading level0 row9\" >9</th>\n",
              "      <td id=\"T_6e0a9_row9_col0\" class=\"data row9 col0\" >0.0215</td>\n",
              "      <td id=\"T_6e0a9_row9_col1\" class=\"data row9 col1\" >0.0019</td>\n",
              "      <td id=\"T_6e0a9_row9_col2\" class=\"data row9 col2\" >0.0431</td>\n",
              "      <td id=\"T_6e0a9_row9_col3\" class=\"data row9 col3\" >1.0000</td>\n",
              "      <td id=\"T_6e0a9_row9_col4\" class=\"data row9 col4\" >0.0000</td>\n",
              "      <td id=\"T_6e0a9_row9_col5\" class=\"data row9 col5\" >0.0000</td>\n",
              "    </tr>\n",
              "    <tr>\n",
              "      <th id=\"T_6e0a9_level0_row10\" class=\"row_heading level0 row10\" >Mean</th>\n",
              "      <td id=\"T_6e0a9_row10_col0\" class=\"data row10 col0\" >0.0366</td>\n",
              "      <td id=\"T_6e0a9_row10_col1\" class=\"data row10 col1\" >0.0043</td>\n",
              "      <td id=\"T_6e0a9_row10_col2\" class=\"data row10 col2\" >0.0575</td>\n",
              "      <td id=\"T_6e0a9_row10_col3\" class=\"data row10 col3\" >1.0000</td>\n",
              "      <td id=\"T_6e0a9_row10_col4\" class=\"data row10 col4\" >0.0000</td>\n",
              "      <td id=\"T_6e0a9_row10_col5\" class=\"data row10 col5\" >0.0000</td>\n",
              "    </tr>\n",
              "    <tr>\n",
              "      <th id=\"T_6e0a9_level0_row11\" class=\"row_heading level0 row11\" >Std</th>\n",
              "      <td id=\"T_6e0a9_row11_col0\" class=\"data row11 col0\" >0.0172</td>\n",
              "      <td id=\"T_6e0a9_row11_col1\" class=\"data row11 col1\" >0.0044</td>\n",
              "      <td id=\"T_6e0a9_row11_col2\" class=\"data row11 col2\" >0.0314</td>\n",
              "      <td id=\"T_6e0a9_row11_col3\" class=\"data row11 col3\" >0.0000</td>\n",
              "      <td id=\"T_6e0a9_row11_col4\" class=\"data row11 col4\" >0.0000</td>\n",
              "      <td id=\"T_6e0a9_row11_col5\" class=\"data row11 col5\" >0.0000</td>\n",
              "    </tr>\n",
              "  </tbody>\n",
              "</table>\n"
            ],
            "text/plain": [
              "<pandas.io.formats.style.Styler at 0x26bd2dc5cd0>"
            ]
          },
          "metadata": {},
          "output_type": "display_data"
        },
        {
          "data": {
            "text/html": [],
            "text/plain": [
              "<IPython.core.display.HTML object>"
            ]
          },
          "metadata": {},
          "output_type": "display_data"
        }
      ],
      "source": [
        "# Using Lasso Least Angle Regression algorithm to train model \n",
        "llar_model = create_model('llar')"
      ]
    },
    {
      "cell_type": "code",
      "execution_count": 87,
      "metadata": {
        "colab": {
          "base_uri": "https://localhost:8080/",
          "height": 492,
          "referenced_widgets": [
            "f2c0a8c8f7d14f43af753e399740f801",
            "9ef6375f901242bfadee7dc960edf26f",
            "07351670485e4e6aabd3e326938f426a",
            "ee66eb80046e48188bb8dae749680f9e",
            "aee8bb0333da495a9c529e6e39d5e536",
            "3cc57d8d587d4c04bd7b8acbfa67bba0",
            "2011c45118824728babba1639d3d676b",
            "11516af8571c4f4d886c48b0a3aa8377",
            "1564b8dc2b6243259b9a62b4f1e83e5b",
            "f2dffb58c52a480fa3c2b2851b21dc60",
            "4fe6c1bd71824535987939b0ab3249eb"
          ]
        },
        "id": "L3n1sINvq5AZ",
        "outputId": "64d61b99-e243-4295-f5f9-9fef823e2016"
      },
      "outputs": [
        {
          "data": {
            "text/html": [],
            "text/plain": [
              "<IPython.core.display.HTML object>"
            ]
          },
          "metadata": {},
          "output_type": "display_data"
        },
        {
          "data": {
            "text/html": [
              "<style type=\"text/css\">\n",
              "#T_d68be_row10_col0, #T_d68be_row10_col1, #T_d68be_row10_col2, #T_d68be_row10_col3, #T_d68be_row10_col4, #T_d68be_row10_col5 {\n",
              "  background: yellow;\n",
              "}\n",
              "</style>\n",
              "<table id=\"T_d68be\">\n",
              "  <thead>\n",
              "    <tr>\n",
              "      <th class=\"blank level0\" >&nbsp;</th>\n",
              "      <th id=\"T_d68be_level0_col0\" class=\"col_heading level0 col0\" >MAE</th>\n",
              "      <th id=\"T_d68be_level0_col1\" class=\"col_heading level0 col1\" >MSE</th>\n",
              "      <th id=\"T_d68be_level0_col2\" class=\"col_heading level0 col2\" >RMSE</th>\n",
              "      <th id=\"T_d68be_level0_col3\" class=\"col_heading level0 col3\" >R2</th>\n",
              "      <th id=\"T_d68be_level0_col4\" class=\"col_heading level0 col4\" >RMSLE</th>\n",
              "      <th id=\"T_d68be_level0_col5\" class=\"col_heading level0 col5\" >MAPE</th>\n",
              "    </tr>\n",
              "    <tr>\n",
              "      <th class=\"index_name level0\" >Fold</th>\n",
              "      <th class=\"blank col0\" >&nbsp;</th>\n",
              "      <th class=\"blank col1\" >&nbsp;</th>\n",
              "      <th class=\"blank col2\" >&nbsp;</th>\n",
              "      <th class=\"blank col3\" >&nbsp;</th>\n",
              "      <th class=\"blank col4\" >&nbsp;</th>\n",
              "      <th class=\"blank col5\" >&nbsp;</th>\n",
              "    </tr>\n",
              "  </thead>\n",
              "  <tbody>\n",
              "    <tr>\n",
              "      <th id=\"T_d68be_level0_row0\" class=\"row_heading level0 row0\" >0</th>\n",
              "      <td id=\"T_d68be_row0_col0\" class=\"data row0 col0\" >0.0486</td>\n",
              "      <td id=\"T_d68be_row0_col1\" class=\"data row0 col1\" >0.0064</td>\n",
              "      <td id=\"T_d68be_row0_col2\" class=\"data row0 col2\" >0.0797</td>\n",
              "      <td id=\"T_d68be_row0_col3\" class=\"data row0 col3\" >1.0000</td>\n",
              "      <td id=\"T_d68be_row0_col4\" class=\"data row0 col4\" >0.0000</td>\n",
              "      <td id=\"T_d68be_row0_col5\" class=\"data row0 col5\" >0.0000</td>\n",
              "    </tr>\n",
              "    <tr>\n",
              "      <th id=\"T_d68be_level0_row1\" class=\"row_heading level0 row1\" >1</th>\n",
              "      <td id=\"T_d68be_row1_col0\" class=\"data row1 col0\" >0.0336</td>\n",
              "      <td id=\"T_d68be_row1_col1\" class=\"data row1 col1\" >0.0020</td>\n",
              "      <td id=\"T_d68be_row1_col2\" class=\"data row1 col2\" >0.0452</td>\n",
              "      <td id=\"T_d68be_row1_col3\" class=\"data row1 col3\" >1.0000</td>\n",
              "      <td id=\"T_d68be_row1_col4\" class=\"data row1 col4\" >0.0000</td>\n",
              "      <td id=\"T_d68be_row1_col5\" class=\"data row1 col5\" >0.0000</td>\n",
              "    </tr>\n",
              "    <tr>\n",
              "      <th id=\"T_d68be_level0_row2\" class=\"row_heading level0 row2\" >2</th>\n",
              "      <td id=\"T_d68be_row2_col0\" class=\"data row2 col0\" >0.0489</td>\n",
              "      <td id=\"T_d68be_row2_col1\" class=\"data row2 col1\" >0.0052</td>\n",
              "      <td id=\"T_d68be_row2_col2\" class=\"data row2 col2\" >0.0721</td>\n",
              "      <td id=\"T_d68be_row2_col3\" class=\"data row2 col3\" >1.0000</td>\n",
              "      <td id=\"T_d68be_row2_col4\" class=\"data row2 col4\" >0.0000</td>\n",
              "      <td id=\"T_d68be_row2_col5\" class=\"data row2 col5\" >0.0000</td>\n",
              "    </tr>\n",
              "    <tr>\n",
              "      <th id=\"T_d68be_level0_row3\" class=\"row_heading level0 row3\" >3</th>\n",
              "      <td id=\"T_d68be_row3_col0\" class=\"data row3 col0\" >0.0306</td>\n",
              "      <td id=\"T_d68be_row3_col1\" class=\"data row3 col1\" >0.0012</td>\n",
              "      <td id=\"T_d68be_row3_col2\" class=\"data row3 col2\" >0.0353</td>\n",
              "      <td id=\"T_d68be_row3_col3\" class=\"data row3 col3\" >1.0000</td>\n",
              "      <td id=\"T_d68be_row3_col4\" class=\"data row3 col4\" >0.0000</td>\n",
              "      <td id=\"T_d68be_row3_col5\" class=\"data row3 col5\" >0.0000</td>\n",
              "    </tr>\n",
              "    <tr>\n",
              "      <th id=\"T_d68be_level0_row4\" class=\"row_heading level0 row4\" >4</th>\n",
              "      <td id=\"T_d68be_row4_col0\" class=\"data row4 col0\" >0.0217</td>\n",
              "      <td id=\"T_d68be_row4_col1\" class=\"data row4 col1\" >0.0009</td>\n",
              "      <td id=\"T_d68be_row4_col2\" class=\"data row4 col2\" >0.0297</td>\n",
              "      <td id=\"T_d68be_row4_col3\" class=\"data row4 col3\" >1.0000</td>\n",
              "      <td id=\"T_d68be_row4_col4\" class=\"data row4 col4\" >0.0000</td>\n",
              "      <td id=\"T_d68be_row4_col5\" class=\"data row4 col5\" >0.0000</td>\n",
              "    </tr>\n",
              "    <tr>\n",
              "      <th id=\"T_d68be_level0_row5\" class=\"row_heading level0 row5\" >5</th>\n",
              "      <td id=\"T_d68be_row5_col0\" class=\"data row5 col0\" >0.0137</td>\n",
              "      <td id=\"T_d68be_row5_col1\" class=\"data row5 col1\" >0.0003</td>\n",
              "      <td id=\"T_d68be_row5_col2\" class=\"data row5 col2\" >0.0186</td>\n",
              "      <td id=\"T_d68be_row5_col3\" class=\"data row5 col3\" >1.0000</td>\n",
              "      <td id=\"T_d68be_row5_col4\" class=\"data row5 col4\" >0.0000</td>\n",
              "      <td id=\"T_d68be_row5_col5\" class=\"data row5 col5\" >0.0000</td>\n",
              "    </tr>\n",
              "    <tr>\n",
              "      <th id=\"T_d68be_level0_row6\" class=\"row_heading level0 row6\" >6</th>\n",
              "      <td id=\"T_d68be_row6_col0\" class=\"data row6 col0\" >0.0264</td>\n",
              "      <td id=\"T_d68be_row6_col1\" class=\"data row6 col1\" >0.0013</td>\n",
              "      <td id=\"T_d68be_row6_col2\" class=\"data row6 col2\" >0.0363</td>\n",
              "      <td id=\"T_d68be_row6_col3\" class=\"data row6 col3\" >1.0000</td>\n",
              "      <td id=\"T_d68be_row6_col4\" class=\"data row6 col4\" >0.0000</td>\n",
              "      <td id=\"T_d68be_row6_col5\" class=\"data row6 col5\" >0.0000</td>\n",
              "    </tr>\n",
              "    <tr>\n",
              "      <th id=\"T_d68be_level0_row7\" class=\"row_heading level0 row7\" >7</th>\n",
              "      <td id=\"T_d68be_row7_col0\" class=\"data row7 col0\" >0.0741</td>\n",
              "      <td id=\"T_d68be_row7_col1\" class=\"data row7 col1\" >0.0152</td>\n",
              "      <td id=\"T_d68be_row7_col2\" class=\"data row7 col2\" >0.1231</td>\n",
              "      <td id=\"T_d68be_row7_col3\" class=\"data row7 col3\" >1.0000</td>\n",
              "      <td id=\"T_d68be_row7_col4\" class=\"data row7 col4\" >0.0000</td>\n",
              "      <td id=\"T_d68be_row7_col5\" class=\"data row7 col5\" >0.0000</td>\n",
              "    </tr>\n",
              "    <tr>\n",
              "      <th id=\"T_d68be_level0_row8\" class=\"row_heading level0 row8\" >8</th>\n",
              "      <td id=\"T_d68be_row8_col0\" class=\"data row8 col0\" >0.0471</td>\n",
              "      <td id=\"T_d68be_row8_col1\" class=\"data row8 col1\" >0.0085</td>\n",
              "      <td id=\"T_d68be_row8_col2\" class=\"data row8 col2\" >0.0924</td>\n",
              "      <td id=\"T_d68be_row8_col3\" class=\"data row8 col3\" >1.0000</td>\n",
              "      <td id=\"T_d68be_row8_col4\" class=\"data row8 col4\" >0.0000</td>\n",
              "      <td id=\"T_d68be_row8_col5\" class=\"data row8 col5\" >0.0000</td>\n",
              "    </tr>\n",
              "    <tr>\n",
              "      <th id=\"T_d68be_level0_row9\" class=\"row_heading level0 row9\" >9</th>\n",
              "      <td id=\"T_d68be_row9_col0\" class=\"data row9 col0\" >0.0223</td>\n",
              "      <td id=\"T_d68be_row9_col1\" class=\"data row9 col1\" >0.0019</td>\n",
              "      <td id=\"T_d68be_row9_col2\" class=\"data row9 col2\" >0.0437</td>\n",
              "      <td id=\"T_d68be_row9_col3\" class=\"data row9 col3\" >1.0000</td>\n",
              "      <td id=\"T_d68be_row9_col4\" class=\"data row9 col4\" >0.0000</td>\n",
              "      <td id=\"T_d68be_row9_col5\" class=\"data row9 col5\" >0.0000</td>\n",
              "    </tr>\n",
              "    <tr>\n",
              "      <th id=\"T_d68be_level0_row10\" class=\"row_heading level0 row10\" >Mean</th>\n",
              "      <td id=\"T_d68be_row10_col0\" class=\"data row10 col0\" >0.0367</td>\n",
              "      <td id=\"T_d68be_row10_col1\" class=\"data row10 col1\" >0.0043</td>\n",
              "      <td id=\"T_d68be_row10_col2\" class=\"data row10 col2\" >0.0576</td>\n",
              "      <td id=\"T_d68be_row10_col3\" class=\"data row10 col3\" >1.0000</td>\n",
              "      <td id=\"T_d68be_row10_col4\" class=\"data row10 col4\" >0.0000</td>\n",
              "      <td id=\"T_d68be_row10_col5\" class=\"data row10 col5\" >0.0000</td>\n",
              "    </tr>\n",
              "    <tr>\n",
              "      <th id=\"T_d68be_level0_row11\" class=\"row_heading level0 row11\" >Std</th>\n",
              "      <td id=\"T_d68be_row11_col0\" class=\"data row11 col0\" >0.0171</td>\n",
              "      <td id=\"T_d68be_row11_col1\" class=\"data row11 col1\" >0.0044</td>\n",
              "      <td id=\"T_d68be_row11_col2\" class=\"data row11 col2\" >0.0313</td>\n",
              "      <td id=\"T_d68be_row11_col3\" class=\"data row11 col3\" >0.0000</td>\n",
              "      <td id=\"T_d68be_row11_col4\" class=\"data row11 col4\" >0.0000</td>\n",
              "      <td id=\"T_d68be_row11_col5\" class=\"data row11 col5\" >0.0000</td>\n",
              "    </tr>\n",
              "  </tbody>\n",
              "</table>\n"
            ],
            "text/plain": [
              "<pandas.io.formats.style.Styler at 0x26bd33be690>"
            ]
          },
          "metadata": {},
          "output_type": "display_data"
        },
        {
          "data": {
            "text/html": [],
            "text/plain": [
              "<IPython.core.display.HTML object>"
            ]
          },
          "metadata": {},
          "output_type": "display_data"
        },
        {
          "name": "stdout",
          "output_type": "stream",
          "text": [
            "Fitting 10 folds for each of 10 candidates, totalling 100 fits\n",
            "Original model was better than the tuned model, hence it will be returned. NOTE: The display metrics are for the tuned model (not the original one).\n"
          ]
        }
      ],
      "source": [
        "# Tuning the model for better performance \n",
        "tuned_llar_model = tune_model(llar_model)"
      ]
    },
    {
      "cell_type": "code",
      "execution_count": 88,
      "metadata": {
        "colab": {
          "base_uri": "https://localhost:8080/",
          "height": 304
        },
        "id": "ogkaLV5VtKs-",
        "outputId": "5c67224f-85f8-4fc0-f343-249c7ddda8f2"
      },
      "outputs": [
        {
          "data": {
            "text/html": [],
            "text/plain": [
              "<IPython.core.display.HTML object>"
            ]
          },
          "metadata": {},
          "output_type": "display_data"
        },
        {
          "data": {
            "image/png": "[encoded data removed]",
            "text/plain": [
              "<Figure size 800x550 with 2 Axes>"
            ]
          },
          "metadata": {},
          "output_type": "display_data"
        }
      ],
      "source": [
        "# Plot residuals for Lasso Least Angle Regression based trained model \n",
        "plot_model(tuned_llar_model)"
      ]
    },
    {
      "cell_type": "code",
      "execution_count": 89,
      "metadata": {
        "colab": {
          "base_uri": "https://localhost:8080/",
          "height": 305
        },
        "id": "PReljyLIq4us",
        "outputId": "9a72ae15-7dde-421c-934d-26b0e1a2dfb9"
      },
      "outputs": [
        {
          "data": {
            "text/html": [],
            "text/plain": [
              "<IPython.core.display.HTML object>"
            ]
          },
          "metadata": {},
          "output_type": "display_data"
        },
        {
          "data": {
            "image/png": "[encoded data removed]",
            "text/plain": [
              "<Figure size 800x550 with 1 Axes>"
            ]
          },
          "metadata": {},
          "output_type": "display_data"
        }
      ],
      "source": [
        "# Plot prediction error plot for Lasso Least Angle Regression based trained model \n",
        "plot_model(tuned_llar_model, plot=\"error\")"
      ]
    },
    {
      "cell_type": "code",
      "execution_count": 90,
      "metadata": {
        "colab": {
          "base_uri": "https://localhost:8080/",
          "height": 493
        },
        "id": "TBLmuI8Oq4hi",
        "outputId": "cfde087b-87e5-4100-8fd8-2cc29fef13ee"
      },
      "outputs": [
        {
          "data": {
            "text/html": [],
            "text/plain": [
              "<IPython.core.display.HTML object>"
            ]
          },
          "metadata": {},
          "output_type": "display_data"
        },
        {
          "data": {
            "image/png": "[encoded data removed]",
            "text/plain": [
              "<Figure size 800x500 with 1 Axes>"
            ]
          },
          "metadata": {},
          "output_type": "display_data"
        }
      ],
      "source": [
        "# Plot feature importance plot \n",
        "plot_model(tuned_llar_model,plot='feature')"
      ]
    },
    {
      "cell_type": "code",
      "execution_count": 91,
      "metadata": {
        "colab": {
          "base_uri": "https://localhost:8080/",
          "height": 1000
        },
        "id": "3NVisTuxucPP",
        "outputId": "8e615dff-9adf-4966-cf69-2dc89f7d7df7"
      },
      "outputs": [
        {
          "data": {
            "text/html": [
              "<style type=\"text/css\">\n",
              "</style>\n",
              "<table id=\"T_ee4b6\">\n",
              "  <thead>\n",
              "    <tr>\n",
              "      <th class=\"blank level0\" >&nbsp;</th>\n",
              "      <th id=\"T_ee4b6_level0_col0\" class=\"col_heading level0 col0\" >Model</th>\n",
              "      <th id=\"T_ee4b6_level0_col1\" class=\"col_heading level0 col1\" >MAE</th>\n",
              "      <th id=\"T_ee4b6_level0_col2\" class=\"col_heading level0 col2\" >MSE</th>\n",
              "      <th id=\"T_ee4b6_level0_col3\" class=\"col_heading level0 col3\" >RMSE</th>\n",
              "      <th id=\"T_ee4b6_level0_col4\" class=\"col_heading level0 col4\" >R2</th>\n",
              "      <th id=\"T_ee4b6_level0_col5\" class=\"col_heading level0 col5\" >RMSLE</th>\n",
              "      <th id=\"T_ee4b6_level0_col6\" class=\"col_heading level0 col6\" >MAPE</th>\n",
              "    </tr>\n",
              "  </thead>\n",
              "  <tbody>\n",
              "    <tr>\n",
              "      <th id=\"T_ee4b6_level0_row0\" class=\"row_heading level0 row0\" >0</th>\n",
              "      <td id=\"T_ee4b6_row0_col0\" class=\"data row0 col0\" >Lasso Least Angle Regression</td>\n",
              "      <td id=\"T_ee4b6_row0_col1\" class=\"data row0 col1\" >0.0441</td>\n",
              "      <td id=\"T_ee4b6_row0_col2\" class=\"data row0 col2\" >0.0068</td>\n",
              "      <td id=\"T_ee4b6_row0_col3\" class=\"data row0 col3\" >0.0824</td>\n",
              "      <td id=\"T_ee4b6_row0_col4\" class=\"data row0 col4\" >1.0000</td>\n",
              "      <td id=\"T_ee4b6_row0_col5\" class=\"data row0 col5\" >0.0000</td>\n",
              "      <td id=\"T_ee4b6_row0_col6\" class=\"data row0 col6\" >0.0000</td>\n",
              "    </tr>\n",
              "  </tbody>\n",
              "</table>\n"
            ],
            "text/plain": [
              "<pandas.io.formats.style.Styler at 0x26baca2f650>"
            ]
          },
          "metadata": {},
          "output_type": "display_data"
        },
        {
          "data": {
            "text/html": [
              "<div>\n",
              "<style scoped>\n",
              "    .dataframe tbody tr th:only-of-type {\n",
              "        vertical-align: middle;\n",
              "    }\n",
              "\n",
              "    .dataframe tbody tr th {\n",
              "        vertical-align: top;\n",
              "    }\n",
              "\n",
              "    .dataframe thead th {\n",
              "        text-align: right;\n",
              "    }\n",
              "</style>\n",
              "<table border=\"1\" class=\"dataframe\">\n",
              "  <thead>\n",
              "    <tr style=\"text-align: right;\">\n",
              "      <th></th>\n",
              "      <th>Item Type</th>\n",
              "      <th>Sales Channel</th>\n",
              "      <th>Order Priority</th>\n",
              "      <th>Units Sold</th>\n",
              "      <th>Unit Price</th>\n",
              "      <th>Unit Cost</th>\n",
              "      <th>Total Revenue</th>\n",
              "      <th>Total Cost</th>\n",
              "      <th>Order Month</th>\n",
              "      <th>Order Year</th>\n",
              "      <th>Total Profit</th>\n",
              "      <th>prediction_label</th>\n",
              "    </tr>\n",
              "  </thead>\n",
              "  <tbody>\n",
              "    <tr>\n",
              "      <th>10</th>\n",
              "      <td>11</td>\n",
              "      <td>1</td>\n",
              "      <td>1</td>\n",
              "      <td>124</td>\n",
              "      <td>154.059998</td>\n",
              "      <td>90.930000</td>\n",
              "      <td>1.910344e+04</td>\n",
              "      <td>1.127532e+04</td>\n",
              "      <td>6</td>\n",
              "      <td>2011</td>\n",
              "      <td>7.828120e+03</td>\n",
              "      <td>7.828119e+03</td>\n",
              "    </tr>\n",
              "    <tr>\n",
              "      <th>62</th>\n",
              "      <td>8</td>\n",
              "      <td>1</td>\n",
              "      <td>3</td>\n",
              "      <td>5518</td>\n",
              "      <td>651.210022</td>\n",
              "      <td>524.960022</td>\n",
              "      <td>3.593377e+06</td>\n",
              "      <td>2.896729e+06</td>\n",
              "      <td>11</td>\n",
              "      <td>2011</td>\n",
              "      <td>6.966475e+05</td>\n",
              "      <td>6.966476e+05</td>\n",
              "    </tr>\n",
              "    <tr>\n",
              "      <th>25</th>\n",
              "      <td>4</td>\n",
              "      <td>1</td>\n",
              "      <td>1</td>\n",
              "      <td>1815</td>\n",
              "      <td>437.200012</td>\n",
              "      <td>263.329987</td>\n",
              "      <td>7.935180e+05</td>\n",
              "      <td>4.779439e+05</td>\n",
              "      <td>5</td>\n",
              "      <td>2017</td>\n",
              "      <td>3.155741e+05</td>\n",
              "      <td>3.155741e+05</td>\n",
              "    </tr>\n",
              "    <tr>\n",
              "      <th>13</th>\n",
              "      <td>6</td>\n",
              "      <td>0</td>\n",
              "      <td>1</td>\n",
              "      <td>8974</td>\n",
              "      <td>668.270020</td>\n",
              "      <td>502.540009</td>\n",
              "      <td>5.997055e+06</td>\n",
              "      <td>4.509794e+06</td>\n",
              "      <td>2</td>\n",
              "      <td>2017</td>\n",
              "      <td>1.487261e+06</td>\n",
              "      <td>1.487261e+06</td>\n",
              "    </tr>\n",
              "    <tr>\n",
              "      <th>35</th>\n",
              "      <td>9</td>\n",
              "      <td>0</td>\n",
              "      <td>2</td>\n",
              "      <td>6409</td>\n",
              "      <td>81.730003</td>\n",
              "      <td>56.669998</td>\n",
              "      <td>5.238076e+05</td>\n",
              "      <td>3.631980e+05</td>\n",
              "      <td>5</td>\n",
              "      <td>2017</td>\n",
              "      <td>1.606095e+05</td>\n",
              "      <td>1.606095e+05</td>\n",
              "    </tr>\n",
              "    <tr>\n",
              "      <th>90</th>\n",
              "      <td>8</td>\n",
              "      <td>0</td>\n",
              "      <td>1</td>\n",
              "      <td>948</td>\n",
              "      <td>651.210022</td>\n",
              "      <td>524.960022</td>\n",
              "      <td>6.173471e+05</td>\n",
              "      <td>4.976621e+05</td>\n",
              "      <td>12</td>\n",
              "      <td>2016</td>\n",
              "      <td>1.196850e+05</td>\n",
              "      <td>1.196850e+05</td>\n",
              "    </tr>\n",
              "    <tr>\n",
              "      <th>83</th>\n",
              "      <td>10</td>\n",
              "      <td>1</td>\n",
              "      <td>2</td>\n",
              "      <td>4085</td>\n",
              "      <td>152.580002</td>\n",
              "      <td>97.440002</td>\n",
              "      <td>6.232893e+05</td>\n",
              "      <td>3.980424e+05</td>\n",
              "      <td>1</td>\n",
              "      <td>2011</td>\n",
              "      <td>2.252469e+05</td>\n",
              "      <td>2.252469e+05</td>\n",
              "    </tr>\n",
              "    <tr>\n",
              "      <th>6</th>\n",
              "      <td>6</td>\n",
              "      <td>0</td>\n",
              "      <td>3</td>\n",
              "      <td>4187</td>\n",
              "      <td>668.270020</td>\n",
              "      <td>502.540009</td>\n",
              "      <td>2.798046e+06</td>\n",
              "      <td>2.104135e+06</td>\n",
              "      <td>4</td>\n",
              "      <td>2011</td>\n",
              "      <td>6.939115e+05</td>\n",
              "      <td>6.939115e+05</td>\n",
              "    </tr>\n",
              "    <tr>\n",
              "      <th>46</th>\n",
              "      <td>4</td>\n",
              "      <td>1</td>\n",
              "      <td>0</td>\n",
              "      <td>8867</td>\n",
              "      <td>437.200012</td>\n",
              "      <td>263.329987</td>\n",
              "      <td>3.876652e+06</td>\n",
              "      <td>2.334947e+06</td>\n",
              "      <td>12</td>\n",
              "      <td>2016</td>\n",
              "      <td>1.541705e+06</td>\n",
              "      <td>1.541705e+06</td>\n",
              "    </tr>\n",
              "    <tr>\n",
              "      <th>75</th>\n",
              "      <td>6</td>\n",
              "      <td>0</td>\n",
              "      <td>0</td>\n",
              "      <td>6954</td>\n",
              "      <td>668.270020</td>\n",
              "      <td>502.540009</td>\n",
              "      <td>4.647150e+06</td>\n",
              "      <td>3.494663e+06</td>\n",
              "      <td>11</td>\n",
              "      <td>2014</td>\n",
              "      <td>1.152486e+06</td>\n",
              "      <td>1.152486e+06</td>\n",
              "    </tr>\n",
              "    <tr>\n",
              "      <th>68</th>\n",
              "      <td>8</td>\n",
              "      <td>0</td>\n",
              "      <td>1</td>\n",
              "      <td>8287</td>\n",
              "      <td>651.210022</td>\n",
              "      <td>524.960022</td>\n",
              "      <td>5.396578e+06</td>\n",
              "      <td>4.350344e+06</td>\n",
              "      <td>10</td>\n",
              "      <td>2010</td>\n",
              "      <td>1.046234e+06</td>\n",
              "      <td>1.046234e+06</td>\n",
              "    </tr>\n",
              "    <tr>\n",
              "      <th>37</th>\n",
              "      <td>7</td>\n",
              "      <td>1</td>\n",
              "      <td>3</td>\n",
              "      <td>4767</td>\n",
              "      <td>421.890015</td>\n",
              "      <td>364.690002</td>\n",
              "      <td>2.011150e+06</td>\n",
              "      <td>1.738477e+06</td>\n",
              "      <td>1</td>\n",
              "      <td>2017</td>\n",
              "      <td>2.726724e+05</td>\n",
              "      <td>2.726724e+05</td>\n",
              "    </tr>\n",
              "    <tr>\n",
              "      <th>28</th>\n",
              "      <td>1</td>\n",
              "      <td>0</td>\n",
              "      <td>0</td>\n",
              "      <td>5124</td>\n",
              "      <td>47.450001</td>\n",
              "      <td>31.790001</td>\n",
              "      <td>2.431338e+05</td>\n",
              "      <td>1.628920e+05</td>\n",
              "      <td>7</td>\n",
              "      <td>2014</td>\n",
              "      <td>8.024184e+04</td>\n",
              "      <td>8.024185e+04</td>\n",
              "    </tr>\n",
              "    <tr>\n",
              "      <th>81</th>\n",
              "      <td>3</td>\n",
              "      <td>1</td>\n",
              "      <td>2</td>\n",
              "      <td>7884</td>\n",
              "      <td>109.279999</td>\n",
              "      <td>35.840000</td>\n",
              "      <td>8.615635e+05</td>\n",
              "      <td>2.825626e+05</td>\n",
              "      <td>9</td>\n",
              "      <td>2012</td>\n",
              "      <td>5.790009e+05</td>\n",
              "      <td>5.790009e+05</td>\n",
              "    </tr>\n",
              "    <tr>\n",
              "      <th>32</th>\n",
              "      <td>8</td>\n",
              "      <td>1</td>\n",
              "      <td>0</td>\n",
              "      <td>2924</td>\n",
              "      <td>651.210022</td>\n",
              "      <td>524.960022</td>\n",
              "      <td>1.904138e+06</td>\n",
              "      <td>1.534983e+06</td>\n",
              "      <td>10</td>\n",
              "      <td>2015</td>\n",
              "      <td>3.691550e+05</td>\n",
              "      <td>3.691550e+05</td>\n",
              "    </tr>\n",
              "    <tr>\n",
              "      <th>78</th>\n",
              "      <td>0</td>\n",
              "      <td>0</td>\n",
              "      <td>1</td>\n",
              "      <td>8614</td>\n",
              "      <td>255.279999</td>\n",
              "      <td>159.419998</td>\n",
              "      <td>2.198982e+06</td>\n",
              "      <td>1.373244e+06</td>\n",
              "      <td>5</td>\n",
              "      <td>2012</td>\n",
              "      <td>8.257381e+05</td>\n",
              "      <td>8.257381e+05</td>\n",
              "    </tr>\n",
              "    <tr>\n",
              "      <th>63</th>\n",
              "      <td>3</td>\n",
              "      <td>0</td>\n",
              "      <td>1</td>\n",
              "      <td>6116</td>\n",
              "      <td>109.279999</td>\n",
              "      <td>35.840000</td>\n",
              "      <td>6.683565e+05</td>\n",
              "      <td>2.191974e+05</td>\n",
              "      <td>10</td>\n",
              "      <td>2010</td>\n",
              "      <td>4.491590e+05</td>\n",
              "      <td>4.491590e+05</td>\n",
              "    </tr>\n",
              "    <tr>\n",
              "      <th>12</th>\n",
              "      <td>3</td>\n",
              "      <td>1</td>\n",
              "      <td>2</td>\n",
              "      <td>8263</td>\n",
              "      <td>109.279999</td>\n",
              "      <td>35.840000</td>\n",
              "      <td>9.029806e+05</td>\n",
              "      <td>2.961459e+05</td>\n",
              "      <td>1</td>\n",
              "      <td>2017</td>\n",
              "      <td>6.068348e+05</td>\n",
              "      <td>6.068347e+05</td>\n",
              "    </tr>\n",
              "    <tr>\n",
              "      <th>77</th>\n",
              "      <td>11</td>\n",
              "      <td>0</td>\n",
              "      <td>0</td>\n",
              "      <td>3732</td>\n",
              "      <td>154.059998</td>\n",
              "      <td>90.930000</td>\n",
              "      <td>5.749519e+05</td>\n",
              "      <td>3.393508e+05</td>\n",
              "      <td>9</td>\n",
              "      <td>2011</td>\n",
              "      <td>2.356012e+05</td>\n",
              "      <td>2.356012e+05</td>\n",
              "    </tr>\n",
              "    <tr>\n",
              "      <th>0</th>\n",
              "      <td>0</td>\n",
              "      <td>0</td>\n",
              "      <td>1</td>\n",
              "      <td>9925</td>\n",
              "      <td>255.279999</td>\n",
              "      <td>159.419998</td>\n",
              "      <td>2.533654e+06</td>\n",
              "      <td>1.582244e+06</td>\n",
              "      <td>5</td>\n",
              "      <td>2010</td>\n",
              "      <td>9.514105e+05</td>\n",
              "      <td>9.514105e+05</td>\n",
              "    </tr>\n",
              "    <tr>\n",
              "      <th>24</th>\n",
              "      <td>9</td>\n",
              "      <td>1</td>\n",
              "      <td>2</td>\n",
              "      <td>5070</td>\n",
              "      <td>81.730003</td>\n",
              "      <td>56.669998</td>\n",
              "      <td>4.143711e+05</td>\n",
              "      <td>2.873169e+05</td>\n",
              "      <td>5</td>\n",
              "      <td>2016</td>\n",
              "      <td>1.270542e+05</td>\n",
              "      <td>1.270542e+05</td>\n",
              "    </tr>\n",
              "    <tr>\n",
              "      <th>20</th>\n",
              "      <td>0</td>\n",
              "      <td>1</td>\n",
              "      <td>2</td>\n",
              "      <td>7450</td>\n",
              "      <td>255.279999</td>\n",
              "      <td>159.419998</td>\n",
              "      <td>1.901836e+06</td>\n",
              "      <td>1.187679e+06</td>\n",
              "      <td>5</td>\n",
              "      <td>2014</td>\n",
              "      <td>7.141570e+05</td>\n",
              "      <td>7.141570e+05</td>\n",
              "    </tr>\n",
              "    <tr>\n",
              "      <th>55</th>\n",
              "      <td>3</td>\n",
              "      <td>1</td>\n",
              "      <td>0</td>\n",
              "      <td>3482</td>\n",
              "      <td>109.279999</td>\n",
              "      <td>35.840000</td>\n",
              "      <td>3.805130e+05</td>\n",
              "      <td>1.247949e+05</td>\n",
              "      <td>6</td>\n",
              "      <td>2012</td>\n",
              "      <td>2.557181e+05</td>\n",
              "      <td>2.557181e+05</td>\n",
              "    </tr>\n",
              "    <tr>\n",
              "      <th>80</th>\n",
              "      <td>6</td>\n",
              "      <td>0</td>\n",
              "      <td>2</td>\n",
              "      <td>4513</td>\n",
              "      <td>668.270020</td>\n",
              "      <td>502.540009</td>\n",
              "      <td>3.015902e+06</td>\n",
              "      <td>2.267963e+06</td>\n",
              "      <td>10</td>\n",
              "      <td>2012</td>\n",
              "      <td>7.479395e+05</td>\n",
              "      <td>7.479395e+05</td>\n",
              "    </tr>\n",
              "    <tr>\n",
              "      <th>67</th>\n",
              "      <td>3</td>\n",
              "      <td>0</td>\n",
              "      <td>3</td>\n",
              "      <td>5498</td>\n",
              "      <td>109.279999</td>\n",
              "      <td>35.840000</td>\n",
              "      <td>6.008214e+05</td>\n",
              "      <td>1.970483e+05</td>\n",
              "      <td>7</td>\n",
              "      <td>2016</td>\n",
              "      <td>4.037731e+05</td>\n",
              "      <td>4.037731e+05</td>\n",
              "    </tr>\n",
              "    <tr>\n",
              "      <th>8</th>\n",
              "      <td>9</td>\n",
              "      <td>0</td>\n",
              "      <td>3</td>\n",
              "      <td>6070</td>\n",
              "      <td>81.730003</td>\n",
              "      <td>56.669998</td>\n",
              "      <td>4.961011e+05</td>\n",
              "      <td>3.439869e+05</td>\n",
              "      <td>7</td>\n",
              "      <td>2015</td>\n",
              "      <td>1.521142e+05</td>\n",
              "      <td>1.521142e+05</td>\n",
              "    </tr>\n",
              "    <tr>\n",
              "      <th>11</th>\n",
              "      <td>3</td>\n",
              "      <td>0</td>\n",
              "      <td>1</td>\n",
              "      <td>4168</td>\n",
              "      <td>109.279999</td>\n",
              "      <td>35.840000</td>\n",
              "      <td>4.554790e+05</td>\n",
              "      <td>1.493811e+05</td>\n",
              "      <td>8</td>\n",
              "      <td>2014</td>\n",
              "      <td>3.060979e+05</td>\n",
              "      <td>3.060979e+05</td>\n",
              "    </tr>\n",
              "    <tr>\n",
              "      <th>96</th>\n",
              "      <td>5</td>\n",
              "      <td>0</td>\n",
              "      <td>2</td>\n",
              "      <td>6267</td>\n",
              "      <td>9.330000</td>\n",
              "      <td>6.920000</td>\n",
              "      <td>5.847111e+04</td>\n",
              "      <td>4.336764e+04</td>\n",
              "      <td>11</td>\n",
              "      <td>2011</td>\n",
              "      <td>1.510347e+04</td>\n",
              "      <td>1.510348e+04</td>\n",
              "    </tr>\n",
              "    <tr>\n",
              "      <th>84</th>\n",
              "      <td>11</td>\n",
              "      <td>1</td>\n",
              "      <td>2</td>\n",
              "      <td>6457</td>\n",
              "      <td>154.059998</td>\n",
              "      <td>90.930000</td>\n",
              "      <td>9.947654e+05</td>\n",
              "      <td>5.871350e+05</td>\n",
              "      <td>3</td>\n",
              "      <td>2012</td>\n",
              "      <td>4.076304e+05</td>\n",
              "      <td>4.076304e+05</td>\n",
              "    </tr>\n",
              "    <tr>\n",
              "      <th>99</th>\n",
              "      <td>6</td>\n",
              "      <td>0</td>\n",
              "      <td>2</td>\n",
              "      <td>5367</td>\n",
              "      <td>668.270020</td>\n",
              "      <td>502.540009</td>\n",
              "      <td>3.586605e+06</td>\n",
              "      <td>2.697132e+06</td>\n",
              "      <td>2</td>\n",
              "      <td>2012</td>\n",
              "      <td>8.894729e+05</td>\n",
              "      <td>8.894728e+05</td>\n",
              "    </tr>\n",
              "  </tbody>\n",
              "</table>\n",
              "</div>"
            ],
            "text/plain": [
              "    Item Type  Sales Channel  Order Priority  Units Sold  Unit Price  \\\n",
              "10         11              1               1         124  154.059998   \n",
              "62          8              1               3        5518  651.210022   \n",
              "25          4              1               1        1815  437.200012   \n",
              "13          6              0               1        8974  668.270020   \n",
              "35          9              0               2        6409   81.730003   \n",
              "90          8              0               1         948  651.210022   \n",
              "83         10              1               2        4085  152.580002   \n",
              "6           6              0               3        4187  668.270020   \n",
              "46          4              1               0        8867  437.200012   \n",
              "75          6              0               0        6954  668.270020   \n",
              "68          8              0               1        8287  651.210022   \n",
              "37          7              1               3        4767  421.890015   \n",
              "28          1              0               0        5124   47.450001   \n",
              "81          3              1               2        7884  109.279999   \n",
              "32          8              1               0        2924  651.210022   \n",
              "78          0              0               1        8614  255.279999   \n",
              "63          3              0               1        6116  109.279999   \n",
              "12          3              1               2        8263  109.279999   \n",
              "77         11              0               0        3732  154.059998   \n",
              "0           0              0               1        9925  255.279999   \n",
              "24          9              1               2        5070   81.730003   \n",
              "20          0              1               2        7450  255.279999   \n",
              "55          3              1               0        3482  109.279999   \n",
              "80          6              0               2        4513  668.270020   \n",
              "67          3              0               3        5498  109.279999   \n",
              "8           9              0               3        6070   81.730003   \n",
              "11          3              0               1        4168  109.279999   \n",
              "96          5              0               2        6267    9.330000   \n",
              "84         11              1               2        6457  154.059998   \n",
              "99          6              0               2        5367  668.270020   \n",
              "\n",
              "     Unit Cost  Total Revenue    Total Cost  Order Month  Order Year  \\\n",
              "10   90.930000   1.910344e+04  1.127532e+04            6        2011   \n",
              "62  524.960022   3.593377e+06  2.896729e+06           11        2011   \n",
              "25  263.329987   7.935180e+05  4.779439e+05            5        2017   \n",
              "13  502.540009   5.997055e+06  4.509794e+06            2        2017   \n",
              "35   56.669998   5.238076e+05  3.631980e+05            5        2017   \n",
              "90  524.960022   6.173471e+05  4.976621e+05           12        2016   \n",
              "83   97.440002   6.232893e+05  3.980424e+05            1        2011   \n",
              "6   502.540009   2.798046e+06  2.104135e+06            4        2011   \n",
              "46  263.329987   3.876652e+06  2.334947e+06           12        2016   \n",
              "75  502.540009   4.647150e+06  3.494663e+06           11        2014   \n",
              "68  524.960022   5.396578e+06  4.350344e+06           10        2010   \n",
              "37  364.690002   2.011150e+06  1.738477e+06            1        2017   \n",
              "28   31.790001   2.431338e+05  1.628920e+05            7        2014   \n",
              "81   35.840000   8.615635e+05  2.825626e+05            9        2012   \n",
              "32  524.960022   1.904138e+06  1.534983e+06           10        2015   \n",
              "78  159.419998   2.198982e+06  1.373244e+06            5        2012   \n",
              "63   35.840000   6.683565e+05  2.191974e+05           10        2010   \n",
              "12   35.840000   9.029806e+05  2.961459e+05            1        2017   \n",
              "77   90.930000   5.749519e+05  3.393508e+05            9        2011   \n",
              "0   159.419998   2.533654e+06  1.582244e+06            5        2010   \n",
              "24   56.669998   4.143711e+05  2.873169e+05            5        2016   \n",
              "20  159.419998   1.901836e+06  1.187679e+06            5        2014   \n",
              "55   35.840000   3.805130e+05  1.247949e+05            6        2012   \n",
              "80  502.540009   3.015902e+06  2.267963e+06           10        2012   \n",
              "67   35.840000   6.008214e+05  1.970483e+05            7        2016   \n",
              "8    56.669998   4.961011e+05  3.439869e+05            7        2015   \n",
              "11   35.840000   4.554790e+05  1.493811e+05            8        2014   \n",
              "96    6.920000   5.847111e+04  4.336764e+04           11        2011   \n",
              "84   90.930000   9.947654e+05  5.871350e+05            3        2012   \n",
              "99  502.540009   3.586605e+06  2.697132e+06            2        2012   \n",
              "\n",
              "    Total Profit  prediction_label  \n",
              "10  7.828120e+03      7.828119e+03  \n",
              "62  6.966475e+05      6.966476e+05  \n",
              "25  3.155741e+05      3.155741e+05  \n",
              "13  1.487261e+06      1.487261e+06  \n",
              "35  1.606095e+05      1.606095e+05  \n",
              "90  1.196850e+05      1.196850e+05  \n",
              "83  2.252469e+05      2.252469e+05  \n",
              "6   6.939115e+05      6.939115e+05  \n",
              "46  1.541705e+06      1.541705e+06  \n",
              "75  1.152486e+06      1.152486e+06  \n",
              "68  1.046234e+06      1.046234e+06  \n",
              "37  2.726724e+05      2.726724e+05  \n",
              "28  8.024184e+04      8.024185e+04  \n",
              "81  5.790009e+05      5.790009e+05  \n",
              "32  3.691550e+05      3.691550e+05  \n",
              "78  8.257381e+05      8.257381e+05  \n",
              "63  4.491590e+05      4.491590e+05  \n",
              "12  6.068348e+05      6.068347e+05  \n",
              "77  2.356012e+05      2.356012e+05  \n",
              "0   9.514105e+05      9.514105e+05  \n",
              "24  1.270542e+05      1.270542e+05  \n",
              "20  7.141570e+05      7.141570e+05  \n",
              "55  2.557181e+05      2.557181e+05  \n",
              "80  7.479395e+05      7.479395e+05  \n",
              "67  4.037731e+05      4.037731e+05  \n",
              "8   1.521142e+05      1.521142e+05  \n",
              "11  3.060979e+05      3.060979e+05  \n",
              "96  1.510347e+04      1.510348e+04  \n",
              "84  4.076304e+05      4.076304e+05  \n",
              "99  8.894729e+05      8.894728e+05  "
            ]
          },
          "execution_count": 91,
          "metadata": {},
          "output_type": "execute_result"
        }
      ],
      "source": [
        "# Predicting total profit using Lasso Least Angle Regression based trained model \n",
        "predict_model(tuned_llar_model)"
      ]
    },
    {
      "cell_type": "markdown",
      "metadata": {
        "id": "T0cTia5jvfsO"
      },
      "source": [
        "## Implement Linear Regression "
      ]
    },
    {
      "cell_type": "code",
      "execution_count": 92,
      "metadata": {
        "id": "hQIog3a0TD_s"
      },
      "outputs": [],
      "source": [
        "# Select the independent variables and target variable\n",
        "X = df[['Item Type', 'Sales Channel', 'Order Priority', 'Units Sold', 'Unit Price', 'Unit Cost', 'Total Revenue', 'Total Cost', 'Order Month', 'Order Year']]\n",
        "y = df['Total Profit']"
      ]
    },
    {
      "cell_type": "code",
      "execution_count": 93,
      "metadata": {
        "id": "8DCZx9PaWT-N"
      },
      "outputs": [],
      "source": [
        "# Split the data into training and testing sets\n",
        "from sklearn.model_selection import train_test_split\n",
        "X_train, X_test, y_train, y_test = train_test_split(X, y, test_size=0.3, random_state=42)"
      ]
    },
    {
      "cell_type": "code",
      "execution_count": 94,
      "metadata": {
        "id": "6eLWyqI6WjtV"
      },
      "outputs": [],
      "source": [
        "# Standardizing the dataset \n",
        "from sklearn.preprocessing import StandardScaler\n",
        "scaler = StandardScaler()"
      ]
    },
    {
      "cell_type": "code",
      "execution_count": 95,
      "metadata": {
        "id": "t4IP8ymHlU7b"
      },
      "outputs": [],
      "source": [
        "# Performing fit transform on X_train dataframe \n",
        "X_train = scaler.fit_transform(X_train)"
      ]
    },
    {
      "cell_type": "code",
      "execution_count": 96,
      "metadata": {
        "id": "GVyHxLoDlyeu"
      },
      "outputs": [],
      "source": [
        "# Performing transform on X_test dataframe \n",
        "X_test = scaler.transform(X_test)"
      ]
    },
    {
      "cell_type": "code",
      "execution_count": 97,
      "metadata": {
        "colab": {
          "base_uri": "https://localhost:8080/",
          "height": 75
        },
        "id": "v-lVneLsl7kN",
        "outputId": "966e106e-6ced-4152-d7f2-cf26a3d50318"
      },
      "outputs": [
        {
          "data": {
            "text/html": [
              "<style>#sk-container-id-5 {\n",
              "  /* Definition of color scheme common for light and dark mode */\n",
              "  --sklearn-color-text: black;\n",
              "  --sklearn-color-line: gray;\n",
              "  /* Definition of color scheme for unfitted estimators */\n",
              "  --sklearn-color-unfitted-level-0: #fff5e6;\n",
              "  --sklearn-color-unfitted-level-1: #f6e4d2;\n",
              "  --sklearn-color-unfitted-level-2: #ffe0b3;\n",
              "  --sklearn-color-unfitted-level-3: chocolate;\n",
              "  /* Definition of color scheme for fitted estimators */\n",
              "  --sklearn-color-fitted-level-0: #f0f8ff;\n",
              "  --sklearn-color-fitted-level-1: #d4ebff;\n",
              "  --sklearn-color-fitted-level-2: #b3dbfd;\n",
              "  --sklearn-color-fitted-level-3: cornflowerblue;\n",
              "\n",
              "  /* Specific color for light theme */\n",
              "  --sklearn-color-text-on-default-background: var(--sg-text-color, var(--theme-code-foreground, var(--jp-content-font-color1, black)));\n",
              "  --sklearn-color-background: var(--sg-background-color, var(--theme-background, var(--jp-layout-color0, white)));\n",
              "  --sklearn-color-border-box: var(--sg-text-color, var(--theme-code-foreground, var(--jp-content-font-color1, black)));\n",
              "  --sklearn-color-icon: #696969;\n",
              "\n",
              "  @media (prefers-color-scheme: dark) {\n",
              "    /* Redefinition of color scheme for dark theme */\n",
              "    --sklearn-color-text-on-default-background: var(--sg-text-color, var(--theme-code-foreground, var(--jp-content-font-color1, white)));\n",
              "    --sklearn-color-background: var(--sg-background-color, var(--theme-background, var(--jp-layout-color0, #111)));\n",
              "    --sklearn-color-border-box: var(--sg-text-color, var(--theme-code-foreground, var(--jp-content-font-color1, white)));\n",
              "    --sklearn-color-icon: #878787;\n",
              "  }\n",
              "}\n",
              "\n",
              "#sk-container-id-5 {\n",
              "  color: var(--sklearn-color-text);\n",
              "}\n",
              "\n",
              "#sk-container-id-5 pre {\n",
              "  padding: 0;\n",
              "}\n",
              "\n",
              "#sk-container-id-5 input.sk-hidden--visually {\n",
              "  border: 0;\n",
              "  clip: rect(1px 1px 1px 1px);\n",
              "  clip: rect(1px, 1px, 1px, 1px);\n",
              "  height: 1px;\n",
              "  margin: -1px;\n",
              "  overflow: hidden;\n",
              "  padding: 0;\n",
              "  position: absolute;\n",
              "  width: 1px;\n",
              "}\n",
              "\n",
              "#sk-container-id-5 div.sk-dashed-wrapped {\n",
              "  border: 1px dashed var(--sklearn-color-line);\n",
              "  margin: 0 0.4em 0.5em 0.4em;\n",
              "  box-sizing: border-box;\n",
              "  padding-bottom: 0.4em;\n",
              "  background-color: var(--sklearn-color-background);\n",
              "}\n",
              "\n",
              "#sk-container-id-5 div.sk-container {\n",
              "  /* jupyter's `normalize.less` sets `[hidden] { display: none; }`\n",
              "     but bootstrap.min.css set `[hidden] { display: none !important; }`\n",
              "     so we also need the `!important` here to be able to override the\n",
              "     default hidden behavior on the sphinx rendered scikit-learn.org.\n",
              "     See: https://github.com/scikit-learn/scikit-learn/issues/21755 */\n",
              "  display: inline-block !important;\n",
              "  position: relative;\n",
              "}\n",
              "\n",
              "#sk-container-id-5 div.sk-text-repr-fallback {\n",
              "  display: none;\n",
              "}\n",
              "\n",
              "div.sk-parallel-item,\n",
              "div.sk-serial,\n",
              "div.sk-item {\n",
              "  /* draw centered vertical line to link estimators */\n",
              "  background-image: linear-gradient(var(--sklearn-color-text-on-default-background), var(--sklearn-color-text-on-default-background));\n",
              "  background-size: 2px 100%;\n",
              "  background-repeat: no-repeat;\n",
              "  background-position: center center;\n",
              "}\n",
              "\n",
              "/* Parallel-specific style estimator block */\n",
              "\n",
              "#sk-container-id-5 div.sk-parallel-item::after {\n",
              "  content: \"\";\n",
              "  width: 100%;\n",
              "  border-bottom: 2px solid var(--sklearn-color-text-on-default-background);\n",
              "  flex-grow: 1;\n",
              "}\n",
              "\n",
              "#sk-container-id-5 div.sk-parallel {\n",
              "  display: flex;\n",
              "  align-items: stretch;\n",
              "  justify-content: center;\n",
              "  background-color: var(--sklearn-color-background);\n",
              "  position: relative;\n",
              "}\n",
              "\n",
              "#sk-container-id-5 div.sk-parallel-item {\n",
              "  display: flex;\n",
              "  flex-direction: column;\n",
              "}\n",
              "\n",
              "#sk-container-id-5 div.sk-parallel-item:first-child::after {\n",
              "  align-self: flex-end;\n",
              "  width: 50%;\n",
              "}\n",
              "\n",
              "#sk-container-id-5 div.sk-parallel-item:last-child::after {\n",
              "  align-self: flex-start;\n",
              "  width: 50%;\n",
              "}\n",
              "\n",
              "#sk-container-id-5 div.sk-parallel-item:only-child::after {\n",
              "  width: 0;\n",
              "}\n",
              "\n",
              "/* Serial-specific style estimator block */\n",
              "\n",
              "#sk-container-id-5 div.sk-serial {\n",
              "  display: flex;\n",
              "  flex-direction: column;\n",
              "  align-items: center;\n",
              "  background-color: var(--sklearn-color-background);\n",
              "  padding-right: 1em;\n",
              "  padding-left: 1em;\n",
              "}\n",
              "\n",
              "\n",
              "/* Toggleable style: style used for estimator/Pipeline/ColumnTransformer box that is\n",
              "clickable and can be expanded/collapsed.\n",
              "- Pipeline and ColumnTransformer use this feature and define the default style\n",
              "- Estimators will overwrite some part of the style using the `sk-estimator` class\n",
              "*/\n",
              "\n",
              "/* Pipeline and ColumnTransformer style (default) */\n",
              "\n",
              "#sk-container-id-5 div.sk-toggleable {\n",
              "  /* Default theme specific background. It is overwritten whether we have a\n",
              "  specific estimator or a Pipeline/ColumnTransformer */\n",
              "  background-color: var(--sklearn-color-background);\n",
              "}\n",
              "\n",
              "/* Toggleable label */\n",
              "#sk-container-id-5 label.sk-toggleable__label {\n",
              "  cursor: pointer;\n",
              "  display: block;\n",
              "  width: 100%;\n",
              "  margin-bottom: 0;\n",
              "  padding: 0.5em;\n",
              "  box-sizing: border-box;\n",
              "  text-align: center;\n",
              "}\n",
              "\n",
              "#sk-container-id-5 label.sk-toggleable__label-arrow:before {\n",
              "  /* Arrow on the left of the label */\n",
              "  content: \"▸\";\n",
              "  float: left;\n",
              "  margin-right: 0.25em;\n",
              "  color: var(--sklearn-color-icon);\n",
              "}\n",
              "\n",
              "#sk-container-id-5 label.sk-toggleable__label-arrow:hover:before {\n",
              "  color: var(--sklearn-color-text);\n",
              "}\n",
              "\n",
              "/* Toggleable content - dropdown */\n",
              "\n",
              "#sk-container-id-5 div.sk-toggleable__content {\n",
              "  max-height: 0;\n",
              "  max-width: 0;\n",
              "  overflow: hidden;\n",
              "  text-align: left;\n",
              "  /* unfitted */\n",
              "  background-color: var(--sklearn-color-unfitted-level-0);\n",
              "}\n",
              "\n",
              "#sk-container-id-5 div.sk-toggleable__content.fitted {\n",
              "  /* fitted */\n",
              "  background-color: var(--sklearn-color-fitted-level-0);\n",
              "}\n",
              "\n",
              "#sk-container-id-5 div.sk-toggleable__content pre {\n",
              "  margin: 0.2em;\n",
              "  border-radius: 0.25em;\n",
              "  color: var(--sklearn-color-text);\n",
              "  /* unfitted */\n",
              "  background-color: var(--sklearn-color-unfitted-level-0);\n",
              "}\n",
              "\n",
              "#sk-container-id-5 div.sk-toggleable__content.fitted pre {\n",
              "  /* unfitted */\n",
              "  background-color: var(--sklearn-color-fitted-level-0);\n",
              "}\n",
              "\n",
              "#sk-container-id-5 input.sk-toggleable__control:checked~div.sk-toggleable__content {\n",
              "  /* Expand drop-down */\n",
              "  max-height: 200px;\n",
              "  max-width: 100%;\n",
              "  overflow: auto;\n",
              "}\n",
              "\n",
              "#sk-container-id-5 input.sk-toggleable__control:checked~label.sk-toggleable__label-arrow:before {\n",
              "  content: \"▾\";\n",
              "}\n",
              "\n",
              "/* Pipeline/ColumnTransformer-specific style */\n",
              "\n",
              "#sk-container-id-5 div.sk-label input.sk-toggleable__control:checked~label.sk-toggleable__label {\n",
              "  color: var(--sklearn-color-text);\n",
              "  background-color: var(--sklearn-color-unfitted-level-2);\n",
              "}\n",
              "\n",
              "#sk-container-id-5 div.sk-label.fitted input.sk-toggleable__control:checked~label.sk-toggleable__label {\n",
              "  background-color: var(--sklearn-color-fitted-level-2);\n",
              "}\n",
              "\n",
              "/* Estimator-specific style */\n",
              "\n",
              "/* Colorize estimator box */\n",
              "#sk-container-id-5 div.sk-estimator input.sk-toggleable__control:checked~label.sk-toggleable__label {\n",
              "  /* unfitted */\n",
              "  background-color: var(--sklearn-color-unfitted-level-2);\n",
              "}\n",
              "\n",
              "#sk-container-id-5 div.sk-estimator.fitted input.sk-toggleable__control:checked~label.sk-toggleable__label {\n",
              "  /* fitted */\n",
              "  background-color: var(--sklearn-color-fitted-level-2);\n",
              "}\n",
              "\n",
              "#sk-container-id-5 div.sk-label label.sk-toggleable__label,\n",
              "#sk-container-id-5 div.sk-label label {\n",
              "  /* The background is the default theme color */\n",
              "  color: var(--sklearn-color-text-on-default-background);\n",
              "}\n",
              "\n",
              "/* On hover, darken the color of the background */\n",
              "#sk-container-id-5 div.sk-label:hover label.sk-toggleable__label {\n",
              "  color: var(--sklearn-color-text);\n",
              "  background-color: var(--sklearn-color-unfitted-level-2);\n",
              "}\n",
              "\n",
              "/* Label box, darken color on hover, fitted */\n",
              "#sk-container-id-5 div.sk-label.fitted:hover label.sk-toggleable__label.fitted {\n",
              "  color: var(--sklearn-color-text);\n",
              "  background-color: var(--sklearn-color-fitted-level-2);\n",
              "}\n",
              "\n",
              "/* Estimator label */\n",
              "\n",
              "#sk-container-id-5 div.sk-label label {\n",
              "  font-family: monospace;\n",
              "  font-weight: bold;\n",
              "  display: inline-block;\n",
              "  line-height: 1.2em;\n",
              "}\n",
              "\n",
              "#sk-container-id-5 div.sk-label-container {\n",
              "  text-align: center;\n",
              "}\n",
              "\n",
              "/* Estimator-specific */\n",
              "#sk-container-id-5 div.sk-estimator {\n",
              "  font-family: monospace;\n",
              "  border: 1px dotted var(--sklearn-color-border-box);\n",
              "  border-radius: 0.25em;\n",
              "  box-sizing: border-box;\n",
              "  margin-bottom: 0.5em;\n",
              "  /* unfitted */\n",
              "  background-color: var(--sklearn-color-unfitted-level-0);\n",
              "}\n",
              "\n",
              "#sk-container-id-5 div.sk-estimator.fitted {\n",
              "  /* fitted */\n",
              "  background-color: var(--sklearn-color-fitted-level-0);\n",
              "}\n",
              "\n",
              "/* on hover */\n",
              "#sk-container-id-5 div.sk-estimator:hover {\n",
              "  /* unfitted */\n",
              "  background-color: var(--sklearn-color-unfitted-level-2);\n",
              "}\n",
              "\n",
              "#sk-container-id-5 div.sk-estimator.fitted:hover {\n",
              "  /* fitted */\n",
              "  background-color: var(--sklearn-color-fitted-level-2);\n",
              "}\n",
              "\n",
              "/* Specification for estimator info (e.g. \"i\" and \"?\") */\n",
              "\n",
              "/* Common style for \"i\" and \"?\" */\n",
              "\n",
              ".sk-estimator-doc-link,\n",
              "a:link.sk-estimator-doc-link,\n",
              "a:visited.sk-estimator-doc-link {\n",
              "  float: right;\n",
              "  font-size: smaller;\n",
              "  line-height: 1em;\n",
              "  font-family: monospace;\n",
              "  background-color: var(--sklearn-color-background);\n",
              "  border-radius: 1em;\n",
              "  height: 1em;\n",
              "  width: 1em;\n",
              "  text-decoration: none !important;\n",
              "  margin-left: 1ex;\n",
              "  /* unfitted */\n",
              "  border: var(--sklearn-color-unfitted-level-1) 1pt solid;\n",
              "  color: var(--sklearn-color-unfitted-level-1);\n",
              "}\n",
              "\n",
              ".sk-estimator-doc-link.fitted,\n",
              "a:link.sk-estimator-doc-link.fitted,\n",
              "a:visited.sk-estimator-doc-link.fitted {\n",
              "  /* fitted */\n",
              "  border: var(--sklearn-color-fitted-level-1) 1pt solid;\n",
              "  color: var(--sklearn-color-fitted-level-1);\n",
              "}\n",
              "\n",
              "/* On hover */\n",
              "div.sk-estimator:hover .sk-estimator-doc-link:hover,\n",
              ".sk-estimator-doc-link:hover,\n",
              "div.sk-label-container:hover .sk-estimator-doc-link:hover,\n",
              ".sk-estimator-doc-link:hover {\n",
              "  /* unfitted */\n",
              "  background-color: var(--sklearn-color-unfitted-level-3);\n",
              "  color: var(--sklearn-color-background);\n",
              "  text-decoration: none;\n",
              "}\n",
              "\n",
              "div.sk-estimator.fitted:hover .sk-estimator-doc-link.fitted:hover,\n",
              ".sk-estimator-doc-link.fitted:hover,\n",
              "div.sk-label-container:hover .sk-estimator-doc-link.fitted:hover,\n",
              ".sk-estimator-doc-link.fitted:hover {\n",
              "  /* fitted */\n",
              "  background-color: var(--sklearn-color-fitted-level-3);\n",
              "  color: var(--sklearn-color-background);\n",
              "  text-decoration: none;\n",
              "}\n",
              "\n",
              "/* Span, style for the box shown on hovering the info icon */\n",
              ".sk-estimator-doc-link span {\n",
              "  display: none;\n",
              "  z-index: 9999;\n",
              "  position: relative;\n",
              "  font-weight: normal;\n",
              "  right: .2ex;\n",
              "  padding: .5ex;\n",
              "  margin: .5ex;\n",
              "  width: min-content;\n",
              "  min-width: 20ex;\n",
              "  max-width: 50ex;\n",
              "  color: var(--sklearn-color-text);\n",
              "  box-shadow: 2pt 2pt 4pt #999;\n",
              "  /* unfitted */\n",
              "  background: var(--sklearn-color-unfitted-level-0);\n",
              "  border: .5pt solid var(--sklearn-color-unfitted-level-3);\n",
              "}\n",
              "\n",
              ".sk-estimator-doc-link.fitted span {\n",
              "  /* fitted */\n",
              "  background: var(--sklearn-color-fitted-level-0);\n",
              "  border: var(--sklearn-color-fitted-level-3);\n",
              "}\n",
              "\n",
              ".sk-estimator-doc-link:hover span {\n",
              "  display: block;\n",
              "}\n",
              "\n",
              "/* \"?\"-specific style due to the `<a>` HTML tag */\n",
              "\n",
              "#sk-container-id-5 a.estimator_doc_link {\n",
              "  float: right;\n",
              "  font-size: 1rem;\n",
              "  line-height: 1em;\n",
              "  font-family: monospace;\n",
              "  background-color: var(--sklearn-color-background);\n",
              "  border-radius: 1rem;\n",
              "  height: 1rem;\n",
              "  width: 1rem;\n",
              "  text-decoration: none;\n",
              "  /* unfitted */\n",
              "  color: var(--sklearn-color-unfitted-level-1);\n",
              "  border: var(--sklearn-color-unfitted-level-1) 1pt solid;\n",
              "}\n",
              "\n",
              "#sk-container-id-5 a.estimator_doc_link.fitted {\n",
              "  /* fitted */\n",
              "  border: var(--sklearn-color-fitted-level-1) 1pt solid;\n",
              "  color: var(--sklearn-color-fitted-level-1);\n",
              "}\n",
              "\n",
              "/* On hover */\n",
              "#sk-container-id-5 a.estimator_doc_link:hover {\n",
              "  /* unfitted */\n",
              "  background-color: var(--sklearn-color-unfitted-level-3);\n",
              "  color: var(--sklearn-color-background);\n",
              "  text-decoration: none;\n",
              "}\n",
              "\n",
              "#sk-container-id-5 a.estimator_doc_link.fitted:hover {\n",
              "  /* fitted */\n",
              "  background-color: var(--sklearn-color-fitted-level-3);\n",
              "}\n",
              "</style><div id=\"sk-container-id-5\" class=\"sk-top-container\"><div class=\"sk-text-repr-fallback\"><pre>LinearRegression()</pre><b>In a Jupyter environment, please rerun this cell to show the HTML representation or trust the notebook. <br />On GitHub, the HTML representation is unable to render, please try loading this page with nbviewer.org.</b></div><div class=\"sk-container\" hidden><div class=\"sk-item\"><div class=\"sk-estimator fitted sk-toggleable\"><input class=\"sk-toggleable__control sk-hidden--visually\" id=\"sk-estimator-id-5\" type=\"checkbox\" checked><label for=\"sk-estimator-id-5\" class=\"sk-toggleable__label fitted sk-toggleable__label-arrow fitted\">&nbsp;&nbsp;LinearRegression<a class=\"sk-estimator-doc-link fitted\" rel=\"noreferrer\" target=\"_blank\" href=\"https://scikit-learn.org/1.4/modules/generated/sklearn.linear_model.LinearRegression.html\">?<span>Documentation for LinearRegression</span></a><span class=\"sk-estimator-doc-link fitted\">i<span>Fitted</span></span></label><div class=\"sk-toggleable__content fitted\"><pre>LinearRegression()</pre></div> </div></div></div></div>"
            ],
            "text/plain": [
              "LinearRegression()"
            ]
          },
          "execution_count": 97,
          "metadata": {},
          "output_type": "execute_result"
        }
      ],
      "source": [
        "# Applying Linear Regression on X_train and y_train\n",
        "from sklearn.linear_model import LinearRegression\n",
        "from sklearn.model_selection import cross_val_score\n",
        "regression = LinearRegression()\n",
        "regression.fit(X_train,y_train)"
      ]
    },
    {
      "cell_type": "code",
      "execution_count": 98,
      "metadata": {
        "id": "NSdpboHBmPfm"
      },
      "outputs": [],
      "source": [
        "# Calculating mean squared error \n",
        "mse = cross_val_score(regression,X_train,y_train,scoring=\"neg_mean_squared_error\",cv=5)"
      ]
    },
    {
      "cell_type": "code",
      "execution_count": 99,
      "metadata": {
        "colab": {
          "base_uri": "https://localhost:8080/"
        },
        "id": "DHYG3sb0mxII",
        "outputId": "c267d70a-4023-41c9-ed9a-7d7464be8788"
      },
      "outputs": [
        {
          "data": {
            "text/plain": [
              "-6.620840247886975e-19"
            ]
          },
          "execution_count": 99,
          "metadata": {},
          "output_type": "execute_result"
        }
      ],
      "source": [
        "np.mean(mse)"
      ]
    },
    {
      "cell_type": "code",
      "execution_count": 100,
      "metadata": {
        "id": "xmXFfaDGm787"
      },
      "outputs": [],
      "source": [
        "## prediction \n",
        "reg_pred = regression.predict(X_test)"
      ]
    },
    {
      "cell_type": "code",
      "execution_count": 101,
      "metadata": {
        "colab": {
          "base_uri": "https://localhost:8080/"
        },
        "id": "j0NcHCZLnTq4",
        "outputId": "a0836261-12c4-4f72-8d8c-9f3ae64b9f3e"
      },
      "outputs": [
        {
          "data": {
            "text/plain": [
              "array([2.25246900e+05, 4.36446250e+05, 6.32512500e+05, 8.52235800e+04,\n",
              "       4.35499200e+05, 5.03358750e+05, 1.22686500e+05, 7.47939490e+05,\n",
              "       7.82812000e+03, 9.51410500e+05, 6.34745900e+05, 1.50588807e+06,\n",
              "       7.66835040e+05, 1.36727250e+06, 1.19685000e+05, 6.39077500e+05,\n",
              "       1.46875140e+05, 2.35601160e+05, 6.06834720e+05, 5.32525000e+04,\n",
              "       2.55718080e+05, 1.25802000e+03, 1.30091800e+04, 1.87545030e+05,\n",
              "       5.39196480e+05, 1.22865120e+05, 7.55559000e+04, 1.51034700e+04,\n",
              "       5.84073870e+05, 8.99040600e+04])"
            ]
          },
          "execution_count": 101,
          "metadata": {},
          "output_type": "execute_result"
        }
      ],
      "source": [
        "reg_pred"
      ]
    },
    {
      "cell_type": "code",
      "execution_count": 102,
      "metadata": {
        "colab": {
          "base_uri": "https://localhost:8080/",
          "height": 386
        },
        "id": "xAQSwKAynVwY",
        "outputId": "714108f2-cd69-4a85-ca03-0e0b49ef246a"
      },
      "outputs": [
        {
          "data": {
            "text/plain": [
              "<seaborn.axisgrid.FacetGrid at 0x26bd3601c90>"
            ]
          },
          "execution_count": 102,
          "metadata": {},
          "output_type": "execute_result"
        },
        {
          "data": {
            "image/png": "[encoded data removed]",
            "text/plain": [
              "<Figure size 1000x500 with 1 Axes>"
            ]
          },
          "metadata": {},
          "output_type": "display_data"
        }
      ],
      "source": [
        "# Creating kernel density estimate plot \n",
        "import seaborn as sns \n",
        "sns.displot(reg_pred - y_test,kind='kde', height=5, aspect=2)"
      ]
    },
    {
      "cell_type": "code",
      "execution_count": 103,
      "metadata": {
        "colab": {
          "base_uri": "https://localhost:8080/"
        },
        "id": "61vLWQTVnhZ4",
        "outputId": "ab2a20b2-5b71-45ee-cbcb-a7313d6f4f8e"
      },
      "outputs": [
        {
          "name": "stdout",
          "output_type": "stream",
          "text": [
            "Accuracy: 100.00%\n"
          ]
        }
      ],
      "source": [
        "# Finding Accuracy percentage on the bases of r2 score \n",
        "from sklearn.metrics import r2_score\n",
        "score = r2_score(reg_pred,y_test)\n",
        "\n",
        "# Calculate the percentage of accuracy\n",
        "accuracy_pct = score * 100\n",
        "\n",
        "print(\"Accuracy: {:.2f}%\".format(accuracy_pct))\n",
        "\n",
        "# SVM AND LR to apply "
      ]
    },
    {
      "cell_type": "code",
      "execution_count": 104,
      "metadata": {
        "colab": {
          "base_uri": "https://localhost:8080/",
          "height": 299
        },
        "id": "KLEi-962odFp",
        "outputId": "4bff9130-5587-4d39-b0d7-ca384e74dcfa"
      },
      "outputs": [
        {
          "data": {
            "image/png": "[encoded data removed]",
            "text/plain": [
              "<Figure size 800x550 with 1 Axes>"
            ]
          },
          "metadata": {},
          "output_type": "display_data"
        }
      ],
      "source": [
        "# Plot the predicted values against the actual values to visualize how well the model is fitting the data.\n",
        "import matplotlib.pyplot as plt\n",
        "\n",
        "plt.scatter(y_test, reg_pred)\n",
        "plt.xlabel('Actual Values')\n",
        "plt.ylabel('Predicted Values')\n",
        "plt.show()"
      ]
    },
    {
      "cell_type": "code",
      "execution_count": 105,
      "metadata": {
        "colab": {
          "base_uri": "https://localhost:8080/"
        },
        "id": "8ocZHshMpFzz",
        "outputId": "47381fc3-9f5a-44f7-83ec-2023790f862e"
      },
      "outputs": [
        {
          "name": "stdout",
          "output_type": "stream",
          "text": [
            "MSE: 1.1215775357489594e-18\n",
            "RMSE: 1.059045577748644e-09\n"
          ]
        }
      ],
      "source": [
        "# Calculate the mean squared error (MSE) or root mean squared error (RMSE) to quantify the model's performance.\n",
        "\n",
        "from sklearn.metrics import mean_squared_error\n",
        "import numpy as np\n",
        "\n",
        "mse = mean_squared_error(y_test, reg_pred)\n",
        "rmse = np.sqrt(mse)\n",
        "print('MSE:', mse)\n",
        "print('RMSE:', rmse)"
      ]
    },
    {
      "cell_type": "code",
      "execution_count": 106,
      "metadata": {
        "colab": {
          "base_uri": "https://localhost:8080/",
          "height": 542
        },
        "id": "9RlSuMJW1Lsw",
        "outputId": "713811fa-3a3d-40a1-e49e-565ae84387bd"
      },
      "outputs": [
        {
          "data": {
            "application/vnd.plotly.v1+json": {
              "config": {
                "plotlyServerURL": "https://plot.ly"
              },
              "data": [
                {
                  "type": "bar",
                  "x": [
                    "Total Revenue",
                    "Unit Price",
                    "Order Priority",
                    "Item Type",
                    "Sales Channel",
                    "Order Month",
                    "Order Year",
                    "Units Sold",
                    "Unit Cost",
                    "Total Cost"
                  ],
                  "y": [
                    1475037.0728194118,
                    3.92901711165905e-10,
                    2.255546860396862e-10,
                    -1.444140547962336e-10,
                    -3.4924596548080444e-10,
                    -4.561115929391235e-10,
                    -4.6338755055330694e-10,
                    -6.766640581190586e-10,
                    -1.2660166248679161e-9,
                    -1083510.6938102066
                  ]
                }
              ],
              "layout": {
                "template": {
                  "data": {
                    "bar": [
                      {
                        "error_x": {
                          "color": "#2a3f5f"
                        },
                        "error_y": {
                          "color": "#2a3f5f"
                        },
                        "marker": {
                          "line": {
                            "color": "#E5ECF6",
                            "width": 0.5
                          },
                          "pattern": {
                            "fillmode": "overlay",
                            "size": 10,
                            "solidity": 0.2
                          }
                        },
                        "type": "bar"
                      }
                    ],
                    "barpolar": [
                      {
                        "marker": {
                          "line": {
                            "color": "#E5ECF6",
                            "width": 0.5
                          },
                          "pattern": {
                            "fillmode": "overlay",
                            "size": 10,
                            "solidity": 0.2
                          }
                        },
                        "type": "barpolar"
                      }
                    ],
                    "carpet": [
                      {
                        "aaxis": {
                          "endlinecolor": "#2a3f5f",
                          "gridcolor": "white",
                          "linecolor": "white",
                          "minorgridcolor": "white",
                          "startlinecolor": "#2a3f5f"
                        },
                        "baxis": {
                          "endlinecolor": "#2a3f5f",
                          "gridcolor": "white",
                          "linecolor": "white",
                          "minorgridcolor": "white",
                          "startlinecolor": "#2a3f5f"
                        },
                        "type": "carpet"
                      }
                    ],
                    "choropleth": [
                      {
                        "colorbar": {
                          "outlinewidth": 0,
                          "ticks": ""
                        },
                        "type": "choropleth"
                      }
                    ],
                    "contour": [
                      {
                        "colorbar": {
                          "outlinewidth": 0,
                          "ticks": ""
                        },
                        "colorscale": [
                          [
                            0,
                            "#0d0887"
                          ],
                          [
                            0.1111111111111111,
                            "#46039f"
                          ],
                          [
                            0.2222222222222222,
                            "#7201a8"
                          ],
                          [
                            0.3333333333333333,
                            "#9c179e"
                          ],
                          [
                            0.4444444444444444,
                            "#bd3786"
                          ],
                          [
                            0.5555555555555556,
                            "#d8576b"
                          ],
                          [
                            0.6666666666666666,
                            "#ed7953"
                          ],
                          [
                            0.7777777777777778,
                            "#fb9f3a"
                          ],
                          [
                            0.8888888888888888,
                            "#fdca26"
                          ],
                          [
                            1,
                            "#f0f921"
                          ]
                        ],
                        "type": "contour"
                      }
                    ],
                    "contourcarpet": [
                      {
                        "colorbar": {
                          "outlinewidth": 0,
                          "ticks": ""
                        },
                        "type": "contourcarpet"
                      }
                    ],
                    "heatmap": [
                      {
                        "colorbar": {
                          "outlinewidth": 0,
                          "ticks": ""
                        },
                        "colorscale": [
                          [
                            0,
                            "#0d0887"
                          ],
                          [
                            0.1111111111111111,
                            "#46039f"
                          ],
                          [
                            0.2222222222222222,
                            "#7201a8"
                          ],
                          [
                            0.3333333333333333,
                            "#9c179e"
                          ],
                          [
                            0.4444444444444444,
                            "#bd3786"
                          ],
                          [
                            0.5555555555555556,
                            "#d8576b"
                          ],
                          [
                            0.6666666666666666,
                            "#ed7953"
                          ],
                          [
                            0.7777777777777778,
                            "#fb9f3a"
                          ],
                          [
                            0.8888888888888888,
                            "#fdca26"
                          ],
                          [
                            1,
                            "#f0f921"
                          ]
                        ],
                        "type": "heatmap"
                      }
                    ],
                    "heatmapgl": [
                      {
                        "colorbar": {
                          "outlinewidth": 0,
                          "ticks": ""
                        },
                        "colorscale": [
                          [
                            0,
                            "#0d0887"
                          ],
                          [
                            0.1111111111111111,
                            "#46039f"
                          ],
                          [
                            0.2222222222222222,
                            "#7201a8"
                          ],
                          [
                            0.3333333333333333,
                            "#9c179e"
                          ],
                          [
                            0.4444444444444444,
                            "#bd3786"
                          ],
                          [
                            0.5555555555555556,
                            "#d8576b"
                          ],
                          [
                            0.6666666666666666,
                            "#ed7953"
                          ],
                          [
                            0.7777777777777778,
                            "#fb9f3a"
                          ],
                          [
                            0.8888888888888888,
                            "#fdca26"
                          ],
                          [
                            1,
                            "#f0f921"
                          ]
                        ],
                        "type": "heatmapgl"
                      }
                    ],
                    "histogram": [
                      {
                        "marker": {
                          "pattern": {
                            "fillmode": "overlay",
                            "size": 10,
                            "solidity": 0.2
                          }
                        },
                        "type": "histogram"
                      }
                    ],
                    "histogram2d": [
                      {
                        "colorbar": {
                          "outlinewidth": 0,
                          "ticks": ""
                        },
                        "colorscale": [
                          [
                            0,
                            "#0d0887"
                          ],
                          [
                            0.1111111111111111,
                            "#46039f"
                          ],
                          [
                            0.2222222222222222,
                            "#7201a8"
                          ],
                          [
                            0.3333333333333333,
                            "#9c179e"
                          ],
                          [
                            0.4444444444444444,
                            "#bd3786"
                          ],
                          [
                            0.5555555555555556,
                            "#d8576b"
                          ],
                          [
                            0.6666666666666666,
                            "#ed7953"
                          ],
                          [
                            0.7777777777777778,
                            "#fb9f3a"
                          ],
                          [
                            0.8888888888888888,
                            "#fdca26"
                          ],
                          [
                            1,
                            "#f0f921"
                          ]
                        ],
                        "type": "histogram2d"
                      }
                    ],
                    "histogram2dcontour": [
                      {
                        "colorbar": {
                          "outlinewidth": 0,
                          "ticks": ""
                        },
                        "colorscale": [
                          [
                            0,
                            "#0d0887"
                          ],
                          [
                            0.1111111111111111,
                            "#46039f"
                          ],
                          [
                            0.2222222222222222,
                            "#7201a8"
                          ],
                          [
                            0.3333333333333333,
                            "#9c179e"
                          ],
                          [
                            0.4444444444444444,
                            "#bd3786"
                          ],
                          [
                            0.5555555555555556,
                            "#d8576b"
                          ],
                          [
                            0.6666666666666666,
                            "#ed7953"
                          ],
                          [
                            0.7777777777777778,
                            "#fb9f3a"
                          ],
                          [
                            0.8888888888888888,
                            "#fdca26"
                          ],
                          [
                            1,
                            "#f0f921"
                          ]
                        ],
                        "type": "histogram2dcontour"
                      }
                    ],
                    "mesh3d": [
                      {
                        "colorbar": {
                          "outlinewidth": 0,
                          "ticks": ""
                        },
                        "type": "mesh3d"
                      }
                    ],
                    "parcoords": [
                      {
                        "line": {
                          "colorbar": {
                            "outlinewidth": 0,
                            "ticks": ""
                          }
                        },
                        "type": "parcoords"
                      }
                    ],
                    "pie": [
                      {
                        "automargin": true,
                        "type": "pie"
                      }
                    ],
                    "scatter": [
                      {
                        "fillpattern": {
                          "fillmode": "overlay",
                          "size": 10,
                          "solidity": 0.2
                        },
                        "type": "scatter"
                      }
                    ],
                    "scatter3d": [
                      {
                        "line": {
                          "colorbar": {
                            "outlinewidth": 0,
                            "ticks": ""
                          }
                        },
                        "marker": {
                          "colorbar": {
                            "outlinewidth": 0,
                            "ticks": ""
                          }
                        },
                        "type": "scatter3d"
                      }
                    ],
                    "scattercarpet": [
                      {
                        "marker": {
                          "colorbar": {
                            "outlinewidth": 0,
                            "ticks": ""
                          }
                        },
                        "type": "scattercarpet"
                      }
                    ],
                    "scattergeo": [
                      {
                        "marker": {
                          "colorbar": {
                            "outlinewidth": 0,
                            "ticks": ""
                          }
                        },
                        "type": "scattergeo"
                      }
                    ],
                    "scattergl": [
                      {
                        "marker": {
                          "colorbar": {
                            "outlinewidth": 0,
                            "ticks": ""
                          }
                        },
                        "type": "scattergl"
                      }
                    ],
                    "scattermapbox": [
                      {
                        "marker": {
                          "colorbar": {
                            "outlinewidth": 0,
                            "ticks": ""
                          }
                        },
                        "type": "scattermapbox"
                      }
                    ],
                    "scatterpolar": [
                      {
                        "marker": {
                          "colorbar": {
                            "outlinewidth": 0,
                            "ticks": ""
                          }
                        },
                        "type": "scatterpolar"
                      }
                    ],
                    "scatterpolargl": [
                      {
                        "marker": {
                          "colorbar": {
                            "outlinewidth": 0,
                            "ticks": ""
                          }
                        },
                        "type": "scatterpolargl"
                      }
                    ],
                    "scatterternary": [
                      {
                        "marker": {
                          "colorbar": {
                            "outlinewidth": 0,
                            "ticks": ""
                          }
                        },
                        "type": "scatterternary"
                      }
                    ],
                    "surface": [
                      {
                        "colorbar": {
                          "outlinewidth": 0,
                          "ticks": ""
                        },
                        "colorscale": [
                          [
                            0,
                            "#0d0887"
                          ],
                          [
                            0.1111111111111111,
                            "#46039f"
                          ],
                          [
                            0.2222222222222222,
                            "#7201a8"
                          ],
                          [
                            0.3333333333333333,
                            "#9c179e"
                          ],
                          [
                            0.4444444444444444,
                            "#bd3786"
                          ],
                          [
                            0.5555555555555556,
                            "#d8576b"
                          ],
                          [
                            0.6666666666666666,
                            "#ed7953"
                          ],
                          [
                            0.7777777777777778,
                            "#fb9f3a"
                          ],
                          [
                            0.8888888888888888,
                            "#fdca26"
                          ],
                          [
                            1,
                            "#f0f921"
                          ]
                        ],
                        "type": "surface"
                      }
                    ],
                    "table": [
                      {
                        "cells": {
                          "fill": {
                            "color": "#EBF0F8"
                          },
                          "line": {
                            "color": "white"
                          }
                        },
                        "header": {
                          "fill": {
                            "color": "#C8D4E3"
                          },
                          "line": {
                            "color": "white"
                          }
                        },
                        "type": "table"
                      }
                    ]
                  },
                  "layout": {
                    "annotationdefaults": {
                      "arrowcolor": "#2a3f5f",
                      "arrowhead": 0,
                      "arrowwidth": 1
                    },
                    "autotypenumbers": "strict",
                    "coloraxis": {
                      "colorbar": {
                        "outlinewidth": 0,
                        "ticks": ""
                      }
                    },
                    "colorscale": {
                      "diverging": [
                        [
                          0,
                          "#8e0152"
                        ],
                        [
                          0.1,
                          "#c51b7d"
                        ],
                        [
                          0.2,
                          "#de77ae"
                        ],
                        [
                          0.3,
                          "#f1b6da"
                        ],
                        [
                          0.4,
                          "#fde0ef"
                        ],
                        [
                          0.5,
                          "#f7f7f7"
                        ],
                        [
                          0.6,
                          "#e6f5d0"
                        ],
                        [
                          0.7,
                          "#b8e186"
                        ],
                        [
                          0.8,
                          "#7fbc41"
                        ],
                        [
                          0.9,
                          "#4d9221"
                        ],
                        [
                          1,
                          "#276419"
                        ]
                      ],
                      "sequential": [
                        [
                          0,
                          "#0d0887"
                        ],
                        [
                          0.1111111111111111,
                          "#46039f"
                        ],
                        [
                          0.2222222222222222,
                          "#7201a8"
                        ],
                        [
                          0.3333333333333333,
                          "#9c179e"
                        ],
                        [
                          0.4444444444444444,
                          "#bd3786"
                        ],
                        [
                          0.5555555555555556,
                          "#d8576b"
                        ],
                        [
                          0.6666666666666666,
                          "#ed7953"
                        ],
                        [
                          0.7777777777777778,
                          "#fb9f3a"
                        ],
                        [
                          0.8888888888888888,
                          "#fdca26"
                        ],
                        [
                          1,
                          "#f0f921"
                        ]
                      ],
                      "sequentialminus": [
                        [
                          0,
                          "#0d0887"
                        ],
                        [
                          0.1111111111111111,
                          "#46039f"
                        ],
                        [
                          0.2222222222222222,
                          "#7201a8"
                        ],
                        [
                          0.3333333333333333,
                          "#9c179e"
                        ],
                        [
                          0.4444444444444444,
                          "#bd3786"
                        ],
                        [
                          0.5555555555555556,
                          "#d8576b"
                        ],
                        [
                          0.6666666666666666,
                          "#ed7953"
                        ],
                        [
                          0.7777777777777778,
                          "#fb9f3a"
                        ],
                        [
                          0.8888888888888888,
                          "#fdca26"
                        ],
                        [
                          1,
                          "#f0f921"
                        ]
                      ]
                    },
                    "colorway": [
                      "#636efa",
                      "#EF553B",
                      "#00cc96",
                      "#ab63fa",
                      "#FFA15A",
                      "#19d3f3",
                      "#FF6692",
                      "#B6E880",
                      "#FF97FF",
                      "#FECB52"
                    ],
                    "font": {
                      "color": "#2a3f5f"
                    },
                    "geo": {
                      "bgcolor": "white",
                      "lakecolor": "white",
                      "landcolor": "#E5ECF6",
                      "showlakes": true,
                      "showland": true,
                      "subunitcolor": "white"
                    },
                    "hoverlabel": {
                      "align": "left"
                    },
                    "hovermode": "closest",
                    "mapbox": {
                      "style": "light"
                    },
                    "paper_bgcolor": "white",
                    "plot_bgcolor": "#E5ECF6",
                    "polar": {
                      "angularaxis": {
                        "gridcolor": "white",
                        "linecolor": "white",
                        "ticks": ""
                      },
                      "bgcolor": "#E5ECF6",
                      "radialaxis": {
                        "gridcolor": "white",
                        "linecolor": "white",
                        "ticks": ""
                      }
                    },
                    "scene": {
                      "xaxis": {
                        "backgroundcolor": "#E5ECF6",
                        "gridcolor": "white",
                        "gridwidth": 2,
                        "linecolor": "white",
                        "showbackground": true,
                        "ticks": "",
                        "zerolinecolor": "white"
                      },
                      "yaxis": {
                        "backgroundcolor": "#E5ECF6",
                        "gridcolor": "white",
                        "gridwidth": 2,
                        "linecolor": "white",
                        "showbackground": true,
                        "ticks": "",
                        "zerolinecolor": "white"
                      },
                      "zaxis": {
                        "backgroundcolor": "#E5ECF6",
                        "gridcolor": "white",
                        "gridwidth": 2,
                        "linecolor": "white",
                        "showbackground": true,
                        "ticks": "",
                        "zerolinecolor": "white"
                      }
                    },
                    "shapedefaults": {
                      "line": {
                        "color": "#2a3f5f"
                      }
                    },
                    "ternary": {
                      "aaxis": {
                        "gridcolor": "white",
                        "linecolor": "white",
                        "ticks": ""
                      },
                      "baxis": {
                        "gridcolor": "white",
                        "linecolor": "white",
                        "ticks": ""
                      },
                      "bgcolor": "#E5ECF6",
                      "caxis": {
                        "gridcolor": "white",
                        "linecolor": "white",
                        "ticks": ""
                      }
                    },
                    "title": {
                      "x": 0.05
                    },
                    "xaxis": {
                      "automargin": true,
                      "gridcolor": "white",
                      "linecolor": "white",
                      "ticks": "",
                      "title": {
                        "standoff": 15
                      },
                      "zerolinecolor": "white",
                      "zerolinewidth": 2
                    },
                    "yaxis": {
                      "automargin": true,
                      "gridcolor": "white",
                      "linecolor": "white",
                      "ticks": "",
                      "title": {
                        "standoff": 15
                      },
                      "zerolinecolor": "white",
                      "zerolinewidth": 2
                    }
                  }
                },
                "title": {
                  "text": "Feature Importance (R-squared = 1.00)"
                },
                "xaxis": {
                  "tickangle": -45,
                  "title": {
                    "text": "Feature"
                  }
                },
                "yaxis": {
                  "title": {
                    "text": "Importance"
                  }
                }
              }
            }
          },
          "metadata": {},
          "output_type": "display_data"
        }
      ],
      "source": [
        "import plotly.graph_objs as go\n",
        "import pandas as pd\n",
        "from sklearn.linear_model import LinearRegression\n",
        "\n",
        "# Create a linear regression model\n",
        "reg = LinearRegression()\n",
        "\n",
        "# Fit the model to the training data\n",
        "reg.fit(X_train, y_train)\n",
        "\n",
        "# Make predictions on the test set\n",
        "y_pred = reg.predict(X_test)\n",
        "\n",
        "# Calculate the R-squared score\n",
        "r2 = reg.score(X_test, y_test)\n",
        "\n",
        "# Create a copy of the X_train numpy array with modified column names\n",
        "X_train_df = pd.DataFrame(X_train, columns=['Item Type', 'Sales Channel', 'Order Priority', 'Units Sold', 'Unit Price', 'Unit Cost', 'Total Revenue', 'Total Cost', 'Order Month', 'Order Year'])\n",
        "\n",
        "# Extract the coefficients of the linear regression model\n",
        "coef = reg.coef_\n",
        "\n",
        "# Create a DataFrame with the coefficients and feature names\n",
        "feature_importances = pd.DataFrame({'Feature': X_train_df.columns, 'Importance': coef})\n",
        "\n",
        "# Sort the DataFrame by importance\n",
        "feature_importances = feature_importances.sort_values('Importance', ascending=False)\n",
        "\n",
        "# Create a bar chart of the feature importances using Plotly\n",
        "fig = go.Figure()\n",
        "fig.add_trace(go.Bar(x=feature_importances['Feature'], y=feature_importances['Importance']))\n",
        "fig.update_layout(title='Feature Importance (R-squared = {:.2f})'.format(r2),\n",
        "                  xaxis_title='Feature',\n",
        "                  yaxis_title='Importance',\n",
        "                  xaxis_tickangle=-45)\n",
        "fig.show()\n"
      ]
    }
  ],
  "metadata": {
    "colab": {
      "provenance": []
    },
    "kernelspec": {
      "display_name": "Python 3",
      "name": "python3"
    },
    "language_info": {
      "codemirror_mode": {
        "name": "ipython",
        "version": 3
      },
      "file_extension": ".py",
      "mimetype": "text/x-python",
      "name": "python",
      "nbconvert_exporter": "python",
      "pygments_lexer": "ipython3",
      "version": "3.11.1"
    },
    "widgets": {
      "application/vnd.jupyter.widget-state+json": {
        "07351670485e4e6aabd3e326938f426a": {
          "model_module": "@jupyter-widgets/controls",
          "model_module_version": "1.5.0",
          "model_name": "FloatProgressModel",
          "state": {
            "_dom_classes": [],
            "_model_module": "@jupyter-widgets/controls",
            "_model_module_version": "1.5.0",
            "_model_name": "FloatProgressModel",
            "_view_count": null,
            "_view_module": "@jupyter-widgets/controls",
            "_view_module_version": "1.5.0",
            "_view_name": "ProgressView",
            "bar_style": "",
            "description": "",
            "description_tooltip": null,
            "layout": "IPY_MODEL_11516af8571c4f4d886c48b0a3aa8377",
            "max": 7,
            "min": 0,
            "orientation": "horizontal",
            "style": "IPY_MODEL_1564b8dc2b6243259b9a62b4f1e83e5b",
            "value": 7
          }
        },
        "11516af8571c4f4d886c48b0a3aa8377": {
          "model_module": "@jupyter-widgets/base",
          "model_module_version": "1.2.0",
          "model_name": "LayoutModel",
          "state": {
            "_model_module": "@jupyter-widgets/base",
            "_model_module_version": "1.2.0",
            "_model_name": "LayoutModel",
            "_view_count": null,
            "_view_module": "@jupyter-widgets/base",
            "_view_module_version": "1.2.0",
            "_view_name": "LayoutView",
            "align_content": null,
            "align_items": null,
            "align_self": null,
            "border": null,
            "bottom": null,
            "display": null,
            "flex": null,
            "flex_flow": null,
            "grid_area": null,
            "grid_auto_columns": null,
            "grid_auto_flow": null,
            "grid_auto_rows": null,
            "grid_column": null,
            "grid_gap": null,
            "grid_row": null,
            "grid_template_areas": null,
            "grid_template_columns": null,
            "grid_template_rows": null,
            "height": null,
            "justify_content": null,
            "justify_items": null,
            "left": null,
            "margin": null,
            "max_height": null,
            "max_width": null,
            "min_height": null,
            "min_width": null,
            "object_fit": null,
            "object_position": null,
            "order": null,
            "overflow": null,
            "overflow_x": null,
            "overflow_y": null,
            "padding": null,
            "right": null,
            "top": null,
            "visibility": null,
            "width": null
          }
        },
        "14122eab44b54b6db5b8e712d785e468": {
          "model_module": "@jupyter-widgets/controls",
          "model_module_version": "1.5.0",
          "model_name": "HBoxModel",
          "state": {
            "_dom_classes": [],
            "_model_module": "@jupyter-widgets/controls",
            "_model_module_version": "1.5.0",
            "_model_name": "HBoxModel",
            "_view_count": null,
            "_view_module": "@jupyter-widgets/controls",
            "_view_module_version": "1.5.0",
            "_view_name": "HBoxView",
            "box_style": "",
            "children": [
              "IPY_MODEL_c281fe3929b240c98073623bc2ddc344",
              "IPY_MODEL_4dc0bbc4ccff470e8791974fd65f0e71",
              "IPY_MODEL_4351b0feba7e439f98cb3461d648b7a4"
            ],
            "layout": "IPY_MODEL_da7db208b432408fb69faadab47535b2"
          }
        },
        "1564b8dc2b6243259b9a62b4f1e83e5b": {
          "model_module": "@jupyter-widgets/controls",
          "model_module_version": "1.5.0",
          "model_name": "ProgressStyleModel",
          "state": {
            "_model_module": "@jupyter-widgets/controls",
            "_model_module_version": "1.5.0",
            "_model_name": "ProgressStyleModel",
            "_view_count": null,
            "_view_module": "@jupyter-widgets/base",
            "_view_module_version": "1.2.0",
            "_view_name": "StyleView",
            "bar_color": null,
            "description_width": ""
          }
        },
        "2011c45118824728babba1639d3d676b": {
          "model_module": "@jupyter-widgets/controls",
          "model_module_version": "1.5.0",
          "model_name": "DescriptionStyleModel",
          "state": {
            "_model_module": "@jupyter-widgets/controls",
            "_model_module_version": "1.5.0",
            "_model_name": "DescriptionStyleModel",
            "_view_count": null,
            "_view_module": "@jupyter-widgets/base",
            "_view_module_version": "1.2.0",
            "_view_name": "StyleView",
            "description_width": ""
          }
        },
        "21783f0ff3534cf7b1ed1b6886aed152": {
          "model_module": "@jupyter-widgets/controls",
          "model_module_version": "1.5.0",
          "model_name": "FloatProgressModel",
          "state": {
            "_dom_classes": [],
            "_model_module": "@jupyter-widgets/controls",
            "_model_module_version": "1.5.0",
            "_model_name": "FloatProgressModel",
            "_view_count": null,
            "_view_module": "@jupyter-widgets/controls",
            "_view_module_version": "1.5.0",
            "_view_name": "ProgressView",
            "bar_style": "",
            "description": "",
            "description_tooltip": null,
            "layout": "IPY_MODEL_f02237156dfe4dbeb4220af18530be39",
            "max": 4,
            "min": 0,
            "orientation": "horizontal",
            "style": "IPY_MODEL_bce73ba6104148d98525ed4fc15c8476",
            "value": 4
          }
        },
        "27f83b2cfb664ac381ec78c6905c642a": {
          "model_module": "@jupyter-widgets/controls",
          "model_module_version": "1.5.0",
          "model_name": "DescriptionStyleModel",
          "state": {
            "_model_module": "@jupyter-widgets/controls",
            "_model_module_version": "1.5.0",
            "_model_name": "DescriptionStyleModel",
            "_view_count": null,
            "_view_module": "@jupyter-widgets/base",
            "_view_module_version": "1.2.0",
            "_view_name": "StyleView",
            "description_width": ""
          }
        },
        "3125b31e7e0f4d07b21860c64ff88faa": {
          "model_module": "@jupyter-widgets/base",
          "model_module_version": "1.2.0",
          "model_name": "LayoutModel",
          "state": {
            "_model_module": "@jupyter-widgets/base",
            "_model_module_version": "1.2.0",
            "_model_name": "LayoutModel",
            "_view_count": null,
            "_view_module": "@jupyter-widgets/base",
            "_view_module_version": "1.2.0",
            "_view_name": "LayoutView",
            "align_content": null,
            "align_items": null,
            "align_self": null,
            "border": null,
            "bottom": null,
            "display": null,
            "flex": null,
            "flex_flow": null,
            "grid_area": null,
            "grid_auto_columns": null,
            "grid_auto_flow": null,
            "grid_auto_rows": null,
            "grid_column": null,
            "grid_gap": null,
            "grid_row": null,
            "grid_template_areas": null,
            "grid_template_columns": null,
            "grid_template_rows": null,
            "height": null,
            "justify_content": null,
            "justify_items": null,
            "left": null,
            "margin": null,
            "max_height": null,
            "max_width": null,
            "min_height": null,
            "min_width": null,
            "object_fit": null,
            "object_position": null,
            "order": null,
            "overflow": null,
            "overflow_x": null,
            "overflow_y": null,
            "padding": null,
            "right": null,
            "top": null,
            "visibility": null,
            "width": null
          }
        },
        "34abb2af7c224eeba4e40eca157a3f1f": {
          "model_module": "@jupyter-widgets/base",
          "model_module_version": "1.2.0",
          "model_name": "LayoutModel",
          "state": {
            "_model_module": "@jupyter-widgets/base",
            "_model_module_version": "1.2.0",
            "_model_name": "LayoutModel",
            "_view_count": null,
            "_view_module": "@jupyter-widgets/base",
            "_view_module_version": "1.2.0",
            "_view_name": "LayoutView",
            "align_content": null,
            "align_items": null,
            "align_self": null,
            "border": null,
            "bottom": null,
            "display": null,
            "flex": null,
            "flex_flow": null,
            "grid_area": null,
            "grid_auto_columns": null,
            "grid_auto_flow": null,
            "grid_auto_rows": null,
            "grid_column": null,
            "grid_gap": null,
            "grid_row": null,
            "grid_template_areas": null,
            "grid_template_columns": null,
            "grid_template_rows": null,
            "height": null,
            "justify_content": null,
            "justify_items": null,
            "left": null,
            "margin": null,
            "max_height": null,
            "max_width": null,
            "min_height": null,
            "min_width": null,
            "object_fit": null,
            "object_position": null,
            "order": null,
            "overflow": null,
            "overflow_x": null,
            "overflow_y": null,
            "padding": null,
            "right": null,
            "top": null,
            "visibility": null,
            "width": null
          }
        },
        "3cc57d8d587d4c04bd7b8acbfa67bba0": {
          "model_module": "@jupyter-widgets/base",
          "model_module_version": "1.2.0",
          "model_name": "LayoutModel",
          "state": {
            "_model_module": "@jupyter-widgets/base",
            "_model_module_version": "1.2.0",
            "_model_name": "LayoutModel",
            "_view_count": null,
            "_view_module": "@jupyter-widgets/base",
            "_view_module_version": "1.2.0",
            "_view_name": "LayoutView",
            "align_content": null,
            "align_items": null,
            "align_self": null,
            "border": null,
            "bottom": null,
            "display": null,
            "flex": null,
            "flex_flow": null,
            "grid_area": null,
            "grid_auto_columns": null,
            "grid_auto_flow": null,
            "grid_auto_rows": null,
            "grid_column": null,
            "grid_gap": null,
            "grid_row": null,
            "grid_template_areas": null,
            "grid_template_columns": null,
            "grid_template_rows": null,
            "height": null,
            "justify_content": null,
            "justify_items": null,
            "left": null,
            "margin": null,
            "max_height": null,
            "max_width": null,
            "min_height": null,
            "min_width": null,
            "object_fit": null,
            "object_position": null,
            "order": null,
            "overflow": null,
            "overflow_x": null,
            "overflow_y": null,
            "padding": null,
            "right": null,
            "top": null,
            "visibility": null,
            "width": null
          }
        },
        "40a1fd0b3dcd40b78562264a08eaeba5": {
          "model_module": "@jupyter-widgets/controls",
          "model_module_version": "1.5.0",
          "model_name": "DescriptionStyleModel",
          "state": {
            "_model_module": "@jupyter-widgets/controls",
            "_model_module_version": "1.5.0",
            "_model_name": "DescriptionStyleModel",
            "_view_count": null,
            "_view_module": "@jupyter-widgets/base",
            "_view_module_version": "1.2.0",
            "_view_name": "StyleView",
            "description_width": ""
          }
        },
        "4351b0feba7e439f98cb3461d648b7a4": {
          "model_module": "@jupyter-widgets/controls",
          "model_module_version": "1.5.0",
          "model_name": "HTMLModel",
          "state": {
            "_dom_classes": [],
            "_model_module": "@jupyter-widgets/controls",
            "_model_module_version": "1.5.0",
            "_model_name": "HTMLModel",
            "_view_count": null,
            "_view_module": "@jupyter-widgets/controls",
            "_view_module_version": "1.5.0",
            "_view_name": "HTMLView",
            "description": "",
            "description_tooltip": null,
            "layout": "IPY_MODEL_3125b31e7e0f4d07b21860c64ff88faa",
            "placeholder": "​",
            "style": "IPY_MODEL_5a3a457b67854a379050f0cf83e36989",
            "value": " 81/81 [00:46&lt;00:00,  1.87it/s]"
          }
        },
        "4dc0bbc4ccff470e8791974fd65f0e71": {
          "model_module": "@jupyter-widgets/controls",
          "model_module_version": "1.5.0",
          "model_name": "FloatProgressModel",
          "state": {
            "_dom_classes": [],
            "_model_module": "@jupyter-widgets/controls",
            "_model_module_version": "1.5.0",
            "_model_name": "FloatProgressModel",
            "_view_count": null,
            "_view_module": "@jupyter-widgets/controls",
            "_view_module_version": "1.5.0",
            "_view_name": "ProgressView",
            "bar_style": "",
            "description": "",
            "description_tooltip": null,
            "layout": "IPY_MODEL_572a43331dbc432abc475b185a122ffe",
            "max": 81,
            "min": 0,
            "orientation": "horizontal",
            "style": "IPY_MODEL_b86d3e8399fe4d4aacc2e602ff999d23",
            "value": 81
          }
        },
        "4fe6c1bd71824535987939b0ab3249eb": {
          "model_module": "@jupyter-widgets/controls",
          "model_module_version": "1.5.0",
          "model_name": "DescriptionStyleModel",
          "state": {
            "_model_module": "@jupyter-widgets/controls",
            "_model_module_version": "1.5.0",
            "_model_name": "DescriptionStyleModel",
            "_view_count": null,
            "_view_module": "@jupyter-widgets/base",
            "_view_module_version": "1.2.0",
            "_view_name": "StyleView",
            "description_width": ""
          }
        },
        "572a43331dbc432abc475b185a122ffe": {
          "model_module": "@jupyter-widgets/base",
          "model_module_version": "1.2.0",
          "model_name": "LayoutModel",
          "state": {
            "_model_module": "@jupyter-widgets/base",
            "_model_module_version": "1.2.0",
            "_model_name": "LayoutModel",
            "_view_count": null,
            "_view_module": "@jupyter-widgets/base",
            "_view_module_version": "1.2.0",
            "_view_name": "LayoutView",
            "align_content": null,
            "align_items": null,
            "align_self": null,
            "border": null,
            "bottom": null,
            "display": null,
            "flex": null,
            "flex_flow": null,
            "grid_area": null,
            "grid_auto_columns": null,
            "grid_auto_flow": null,
            "grid_auto_rows": null,
            "grid_column": null,
            "grid_gap": null,
            "grid_row": null,
            "grid_template_areas": null,
            "grid_template_columns": null,
            "grid_template_rows": null,
            "height": null,
            "justify_content": null,
            "justify_items": null,
            "left": null,
            "margin": null,
            "max_height": null,
            "max_width": null,
            "min_height": null,
            "min_width": null,
            "object_fit": null,
            "object_position": null,
            "order": null,
            "overflow": null,
            "overflow_x": null,
            "overflow_y": null,
            "padding": null,
            "right": null,
            "top": null,
            "visibility": null,
            "width": null
          }
        },
        "5a3a457b67854a379050f0cf83e36989": {
          "model_module": "@jupyter-widgets/controls",
          "model_module_version": "1.5.0",
          "model_name": "DescriptionStyleModel",
          "state": {
            "_model_module": "@jupyter-widgets/controls",
            "_model_module_version": "1.5.0",
            "_model_name": "DescriptionStyleModel",
            "_view_count": null,
            "_view_module": "@jupyter-widgets/base",
            "_view_module_version": "1.2.0",
            "_view_name": "StyleView",
            "description_width": ""
          }
        },
        "65de1b782040470b8bf27c759068774b": {
          "model_module": "@jupyter-widgets/controls",
          "model_module_version": "1.5.0",
          "model_name": "DescriptionStyleModel",
          "state": {
            "_model_module": "@jupyter-widgets/controls",
            "_model_module_version": "1.5.0",
            "_model_name": "DescriptionStyleModel",
            "_view_count": null,
            "_view_module": "@jupyter-widgets/base",
            "_view_module_version": "1.2.0",
            "_view_name": "StyleView",
            "description_width": ""
          }
        },
        "7013335c460f49079011df48ea676119": {
          "model_module": "@jupyter-widgets/controls",
          "model_module_version": "1.5.0",
          "model_name": "HTMLModel",
          "state": {
            "_dom_classes": [],
            "_model_module": "@jupyter-widgets/controls",
            "_model_module_version": "1.5.0",
            "_model_name": "HTMLModel",
            "_view_count": null,
            "_view_module": "@jupyter-widgets/controls",
            "_view_module_version": "1.5.0",
            "_view_name": "HTMLView",
            "description": "",
            "description_tooltip": null,
            "layout": "IPY_MODEL_34abb2af7c224eeba4e40eca157a3f1f",
            "placeholder": "​",
            "style": "IPY_MODEL_27f83b2cfb664ac381ec78c6905c642a",
            "value": " 4/4 [00:01&lt;00:00,  2.94it/s]"
          }
        },
        "8003cf99b406405ba5c6ec2d5189c614": {
          "model_module": "@jupyter-widgets/base",
          "model_module_version": "1.2.0",
          "model_name": "LayoutModel",
          "state": {
            "_model_module": "@jupyter-widgets/base",
            "_model_module_version": "1.2.0",
            "_model_name": "LayoutModel",
            "_view_count": null,
            "_view_module": "@jupyter-widgets/base",
            "_view_module_version": "1.2.0",
            "_view_name": "LayoutView",
            "align_content": null,
            "align_items": null,
            "align_self": null,
            "border": null,
            "bottom": null,
            "display": null,
            "flex": null,
            "flex_flow": null,
            "grid_area": null,
            "grid_auto_columns": null,
            "grid_auto_flow": null,
            "grid_auto_rows": null,
            "grid_column": null,
            "grid_gap": null,
            "grid_row": null,
            "grid_template_areas": null,
            "grid_template_columns": null,
            "grid_template_rows": null,
            "height": null,
            "justify_content": null,
            "justify_items": null,
            "left": null,
            "margin": null,
            "max_height": null,
            "max_width": null,
            "min_height": null,
            "min_width": null,
            "object_fit": null,
            "object_position": null,
            "order": null,
            "overflow": null,
            "overflow_x": null,
            "overflow_y": null,
            "padding": null,
            "right": null,
            "top": null,
            "visibility": null,
            "width": null
          }
        },
        "9464d9f4e75b4b94a568cb3de3707ace": {
          "model_module": "@jupyter-widgets/base",
          "model_module_version": "1.2.0",
          "model_name": "LayoutModel",
          "state": {
            "_model_module": "@jupyter-widgets/base",
            "_model_module_version": "1.2.0",
            "_model_name": "LayoutModel",
            "_view_count": null,
            "_view_module": "@jupyter-widgets/base",
            "_view_module_version": "1.2.0",
            "_view_name": "LayoutView",
            "align_content": null,
            "align_items": null,
            "align_self": null,
            "border": null,
            "bottom": null,
            "display": null,
            "flex": null,
            "flex_flow": null,
            "grid_area": null,
            "grid_auto_columns": null,
            "grid_auto_flow": null,
            "grid_auto_rows": null,
            "grid_column": null,
            "grid_gap": null,
            "grid_row": null,
            "grid_template_areas": null,
            "grid_template_columns": null,
            "grid_template_rows": null,
            "height": null,
            "justify_content": null,
            "justify_items": null,
            "left": null,
            "margin": null,
            "max_height": null,
            "max_width": null,
            "min_height": null,
            "min_width": null,
            "object_fit": null,
            "object_position": null,
            "order": null,
            "overflow": null,
            "overflow_x": null,
            "overflow_y": null,
            "padding": null,
            "right": null,
            "top": null,
            "visibility": "hidden",
            "width": null
          }
        },
        "9ef6375f901242bfadee7dc960edf26f": {
          "model_module": "@jupyter-widgets/controls",
          "model_module_version": "1.5.0",
          "model_name": "HTMLModel",
          "state": {
            "_dom_classes": [],
            "_model_module": "@jupyter-widgets/controls",
            "_model_module_version": "1.5.0",
            "_model_name": "HTMLModel",
            "_view_count": null,
            "_view_module": "@jupyter-widgets/controls",
            "_view_module_version": "1.5.0",
            "_view_name": "HTMLView",
            "description": "",
            "description_tooltip": null,
            "layout": "IPY_MODEL_3cc57d8d587d4c04bd7b8acbfa67bba0",
            "placeholder": "​",
            "style": "IPY_MODEL_2011c45118824728babba1639d3d676b",
            "value": "Processing: 100%"
          }
        },
        "a42bc603c8124eac83752771fe227924": {
          "model_module": "@jupyter-widgets/controls",
          "model_module_version": "1.5.0",
          "model_name": "HBoxModel",
          "state": {
            "_dom_classes": [],
            "_model_module": "@jupyter-widgets/controls",
            "_model_module_version": "1.5.0",
            "_model_name": "HBoxModel",
            "_view_count": null,
            "_view_module": "@jupyter-widgets/controls",
            "_view_module_version": "1.5.0",
            "_view_name": "HBoxView",
            "box_style": "",
            "children": [
              "IPY_MODEL_a8f9dc11f9ca47c48c7867601fa99b21",
              "IPY_MODEL_21783f0ff3534cf7b1ed1b6886aed152",
              "IPY_MODEL_7013335c460f49079011df48ea676119"
            ],
            "layout": "IPY_MODEL_9464d9f4e75b4b94a568cb3de3707ace"
          }
        },
        "a8f9dc11f9ca47c48c7867601fa99b21": {
          "model_module": "@jupyter-widgets/controls",
          "model_module_version": "1.5.0",
          "model_name": "HTMLModel",
          "state": {
            "_dom_classes": [],
            "_model_module": "@jupyter-widgets/controls",
            "_model_module_version": "1.5.0",
            "_model_name": "HTMLModel",
            "_view_count": null,
            "_view_module": "@jupyter-widgets/controls",
            "_view_module_version": "1.5.0",
            "_view_name": "HTMLView",
            "description": "",
            "description_tooltip": null,
            "layout": "IPY_MODEL_b72965e084f44004b9e317fb79db4940",
            "placeholder": "​",
            "style": "IPY_MODEL_65de1b782040470b8bf27c759068774b",
            "value": "Processing: 100%"
          }
        },
        "aee8bb0333da495a9c529e6e39d5e536": {
          "model_module": "@jupyter-widgets/base",
          "model_module_version": "1.2.0",
          "model_name": "LayoutModel",
          "state": {
            "_model_module": "@jupyter-widgets/base",
            "_model_module_version": "1.2.0",
            "_model_name": "LayoutModel",
            "_view_count": null,
            "_view_module": "@jupyter-widgets/base",
            "_view_module_version": "1.2.0",
            "_view_name": "LayoutView",
            "align_content": null,
            "align_items": null,
            "align_self": null,
            "border": null,
            "bottom": null,
            "display": null,
            "flex": null,
            "flex_flow": null,
            "grid_area": null,
            "grid_auto_columns": null,
            "grid_auto_flow": null,
            "grid_auto_rows": null,
            "grid_column": null,
            "grid_gap": null,
            "grid_row": null,
            "grid_template_areas": null,
            "grid_template_columns": null,
            "grid_template_rows": null,
            "height": null,
            "justify_content": null,
            "justify_items": null,
            "left": null,
            "margin": null,
            "max_height": null,
            "max_width": null,
            "min_height": null,
            "min_width": null,
            "object_fit": null,
            "object_position": null,
            "order": null,
            "overflow": null,
            "overflow_x": null,
            "overflow_y": null,
            "padding": null,
            "right": null,
            "top": null,
            "visibility": "hidden",
            "width": null
          }
        },
        "b72965e084f44004b9e317fb79db4940": {
          "model_module": "@jupyter-widgets/base",
          "model_module_version": "1.2.0",
          "model_name": "LayoutModel",
          "state": {
            "_model_module": "@jupyter-widgets/base",
            "_model_module_version": "1.2.0",
            "_model_name": "LayoutModel",
            "_view_count": null,
            "_view_module": "@jupyter-widgets/base",
            "_view_module_version": "1.2.0",
            "_view_name": "LayoutView",
            "align_content": null,
            "align_items": null,
            "align_self": null,
            "border": null,
            "bottom": null,
            "display": null,
            "flex": null,
            "flex_flow": null,
            "grid_area": null,
            "grid_auto_columns": null,
            "grid_auto_flow": null,
            "grid_auto_rows": null,
            "grid_column": null,
            "grid_gap": null,
            "grid_row": null,
            "grid_template_areas": null,
            "grid_template_columns": null,
            "grid_template_rows": null,
            "height": null,
            "justify_content": null,
            "justify_items": null,
            "left": null,
            "margin": null,
            "max_height": null,
            "max_width": null,
            "min_height": null,
            "min_width": null,
            "object_fit": null,
            "object_position": null,
            "order": null,
            "overflow": null,
            "overflow_x": null,
            "overflow_y": null,
            "padding": null,
            "right": null,
            "top": null,
            "visibility": null,
            "width": null
          }
        },
        "b86d3e8399fe4d4aacc2e602ff999d23": {
          "model_module": "@jupyter-widgets/controls",
          "model_module_version": "1.5.0",
          "model_name": "ProgressStyleModel",
          "state": {
            "_model_module": "@jupyter-widgets/controls",
            "_model_module_version": "1.5.0",
            "_model_name": "ProgressStyleModel",
            "_view_count": null,
            "_view_module": "@jupyter-widgets/base",
            "_view_module_version": "1.2.0",
            "_view_name": "StyleView",
            "bar_color": null,
            "description_width": ""
          }
        },
        "bce73ba6104148d98525ed4fc15c8476": {
          "model_module": "@jupyter-widgets/controls",
          "model_module_version": "1.5.0",
          "model_name": "ProgressStyleModel",
          "state": {
            "_model_module": "@jupyter-widgets/controls",
            "_model_module_version": "1.5.0",
            "_model_name": "ProgressStyleModel",
            "_view_count": null,
            "_view_module": "@jupyter-widgets/base",
            "_view_module_version": "1.2.0",
            "_view_name": "StyleView",
            "bar_color": null,
            "description_width": ""
          }
        },
        "c281fe3929b240c98073623bc2ddc344": {
          "model_module": "@jupyter-widgets/controls",
          "model_module_version": "1.5.0",
          "model_name": "HTMLModel",
          "state": {
            "_dom_classes": [],
            "_model_module": "@jupyter-widgets/controls",
            "_model_module_version": "1.5.0",
            "_model_name": "HTMLModel",
            "_view_count": null,
            "_view_module": "@jupyter-widgets/controls",
            "_view_module_version": "1.5.0",
            "_view_name": "HTMLView",
            "description": "",
            "description_tooltip": null,
            "layout": "IPY_MODEL_8003cf99b406405ba5c6ec2d5189c614",
            "placeholder": "​",
            "style": "IPY_MODEL_40a1fd0b3dcd40b78562264a08eaeba5",
            "value": "Processing: 100%"
          }
        },
        "da7db208b432408fb69faadab47535b2": {
          "model_module": "@jupyter-widgets/base",
          "model_module_version": "1.2.0",
          "model_name": "LayoutModel",
          "state": {
            "_model_module": "@jupyter-widgets/base",
            "_model_module_version": "1.2.0",
            "_model_name": "LayoutModel",
            "_view_count": null,
            "_view_module": "@jupyter-widgets/base",
            "_view_module_version": "1.2.0",
            "_view_name": "LayoutView",
            "align_content": null,
            "align_items": null,
            "align_self": null,
            "border": null,
            "bottom": null,
            "display": null,
            "flex": null,
            "flex_flow": null,
            "grid_area": null,
            "grid_auto_columns": null,
            "grid_auto_flow": null,
            "grid_auto_rows": null,
            "grid_column": null,
            "grid_gap": null,
            "grid_row": null,
            "grid_template_areas": null,
            "grid_template_columns": null,
            "grid_template_rows": null,
            "height": null,
            "justify_content": null,
            "justify_items": null,
            "left": null,
            "margin": null,
            "max_height": null,
            "max_width": null,
            "min_height": null,
            "min_width": null,
            "object_fit": null,
            "object_position": null,
            "order": null,
            "overflow": null,
            "overflow_x": null,
            "overflow_y": null,
            "padding": null,
            "right": null,
            "top": null,
            "visibility": "hidden",
            "width": null
          }
        },
        "ee66eb80046e48188bb8dae749680f9e": {
          "model_module": "@jupyter-widgets/controls",
          "model_module_version": "1.5.0",
          "model_name": "HTMLModel",
          "state": {
            "_dom_classes": [],
            "_model_module": "@jupyter-widgets/controls",
            "_model_module_version": "1.5.0",
            "_model_name": "HTMLModel",
            "_view_count": null,
            "_view_module": "@jupyter-widgets/controls",
            "_view_module_version": "1.5.0",
            "_view_name": "HTMLView",
            "description": "",
            "description_tooltip": null,
            "layout": "IPY_MODEL_f2dffb58c52a480fa3c2b2851b21dc60",
            "placeholder": "​",
            "style": "IPY_MODEL_4fe6c1bd71824535987939b0ab3249eb",
            "value": " 7/7 [00:12&lt;00:00,  1.41s/it]"
          }
        },
        "f02237156dfe4dbeb4220af18530be39": {
          "model_module": "@jupyter-widgets/base",
          "model_module_version": "1.2.0",
          "model_name": "LayoutModel",
          "state": {
            "_model_module": "@jupyter-widgets/base",
            "_model_module_version": "1.2.0",
            "_model_name": "LayoutModel",
            "_view_count": null,
            "_view_module": "@jupyter-widgets/base",
            "_view_module_version": "1.2.0",
            "_view_name": "LayoutView",
            "align_content": null,
            "align_items": null,
            "align_self": null,
            "border": null,
            "bottom": null,
            "display": null,
            "flex": null,
            "flex_flow": null,
            "grid_area": null,
            "grid_auto_columns": null,
            "grid_auto_flow": null,
            "grid_auto_rows": null,
            "grid_column": null,
            "grid_gap": null,
            "grid_row": null,
            "grid_template_areas": null,
            "grid_template_columns": null,
            "grid_template_rows": null,
            "height": null,
            "justify_content": null,
            "justify_items": null,
            "left": null,
            "margin": null,
            "max_height": null,
            "max_width": null,
            "min_height": null,
            "min_width": null,
            "object_fit": null,
            "object_position": null,
            "order": null,
            "overflow": null,
            "overflow_x": null,
            "overflow_y": null,
            "padding": null,
            "right": null,
            "top": null,
            "visibility": null,
            "width": null
          }
        },
        "f2c0a8c8f7d14f43af753e399740f801": {
          "model_module": "@jupyter-widgets/controls",
          "model_module_version": "1.5.0",
          "model_name": "HBoxModel",
          "state": {
            "_dom_classes": [],
            "_model_module": "@jupyter-widgets/controls",
            "_model_module_version": "1.5.0",
            "_model_name": "HBoxModel",
            "_view_count": null,
            "_view_module": "@jupyter-widgets/controls",
            "_view_module_version": "1.5.0",
            "_view_name": "HBoxView",
            "box_style": "",
            "children": [
              "IPY_MODEL_9ef6375f901242bfadee7dc960edf26f",
              "IPY_MODEL_07351670485e4e6aabd3e326938f426a",
              "IPY_MODEL_ee66eb80046e48188bb8dae749680f9e"
            ],
            "layout": "IPY_MODEL_aee8bb0333da495a9c529e6e39d5e536"
          }
        },
        "f2dffb58c52a480fa3c2b2851b21dc60": {
          "model_module": "@jupyter-widgets/base",
          "model_module_version": "1.2.0",
          "model_name": "LayoutModel",
          "state": {
            "_model_module": "@jupyter-widgets/base",
            "_model_module_version": "1.2.0",
            "_model_name": "LayoutModel",
            "_view_count": null,
            "_view_module": "@jupyter-widgets/base",
            "_view_module_version": "1.2.0",
            "_view_name": "LayoutView",
            "align_content": null,
            "align_items": null,
            "align_self": null,
            "border": null,
            "bottom": null,
            "display": null,
            "flex": null,
            "flex_flow": null,
            "grid_area": null,
            "grid_auto_columns": null,
            "grid_auto_flow": null,
            "grid_auto_rows": null,
            "grid_column": null,
            "grid_gap": null,
            "grid_row": null,
            "grid_template_areas": null,
            "grid_template_columns": null,
            "grid_template_rows": null,
            "height": null,
            "justify_content": null,
            "justify_items": null,
            "left": null,
            "margin": null,
            "max_height": null,
            "max_width": null,
            "min_height": null,
            "min_width": null,
            "object_fit": null,
            "object_position": null,
            "order": null,
            "overflow": null,
            "overflow_x": null,
            "overflow_y": null,
            "padding": null,
            "right": null,
            "top": null,
            "visibility": null,
            "width": null
          }
        }
      }
    }
  },
  "nbformat": 4,
  "nbformat_minor": 0
}
